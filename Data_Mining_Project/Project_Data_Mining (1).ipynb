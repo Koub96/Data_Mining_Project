{
 "cells": [
  {
   "cell_type": "markdown",
   "metadata": {},
   "source": [
    "# Data Challenge - Πρόβλεψη Πληρότητας Πτήσεων\n",
    "\n",
    "Στα πλαίσια της εργασίας του μαθήματος \"Εξόρυξη Γνώσης από Βάσεις Δεδομένων και τον Παγκόσμιο Ιστό\", θα δουλέψετε πάνω σε ένα πρόβλημα κατηγοριοποίησης. Συγκεκριμένα, σας δίνεται ένα σύνολο δεδομένων το οποίο αποτελείται από μερικές χιλιάδες πτήσεις, όπου κάθε πτήση περιγράφεται απο ένα σύνολο μεταβλητών (αεροδρόμιο αναχώρησης, αεροδρόμιο άφιξης, κτλ). Κάθε πτήση χαρακτηρίζεται επίσης από μια μεταβλητή που σχετίζεται με τον αριθμό των επιβατών της πτήσης (π.χ. κάθε τιμή της μεταβλητής σχετίζεται με ενα εύρος πλήθους επιβατών). Για κάποιες πτήσεις, η τιμή της μεταβλητής  είναι γνωστή, ενώ για άλλες όχι. Στόχος σας είναι να προβλέψετε την τιμή της μεταβλητής για τις πτήσεις για τις οποίες δεν είναι διαθέσιμη.\n",
    "\n",
    "### Σύνολο Δεδομένων\n",
    "\n",
    "Το αρχείο με όνομα `train.csv` περιέχει τα δεδομένα εκπαίδευσης (training set) του προβλήματος, ενώ το αρχείο `test.csv` περιέχει τα δεδομένα ελέγχου (test set) του προβλήματος. Κάθε γραμμή των δυο αυτών αρχείων αντιστοιχεί σε μια πτήση η οποία χαρακτηρίζεται από τις εξής μεταβλητές:\n",
    "\n",
    "Μεταβλητή | Περιγραφή\n",
    "--- | --- \n",
    "DateOfDeparture | Ημερομηνία αναχώρησης\n",
    "Departure | Κωδικός αεροδρομίου αναχώρησης\n",
    "CityDeparture | Πόλη αναχώρησης\n",
    "LongitudeDeparture \t | Γεωγραφικό μήκος αεροδρομίου αναχώρησης\n",
    "LatitudeDeparture \t | Γεωγραφικό πλάτος αεροδρομίου αναχώρησης\n",
    "Arrival | Κωδικός αεροδρομίου άφιξης\n",
    "CityArrival | Πόλη άφιξης\n",
    "LongitudeArrival | Γεωγραφικό μήκος αεροδρομίου άφιξης\n",
    "LatitudeArrival | Γεωγραφικό πλάτος αεροδρομίου άφιξης\n",
    "WeeksToDeparture | Πόσες εβδομάδες πριν την αναχώρηση της πτήσης κατά μέσο όρο έκλεισαν οι επιβάτες τα εισητήριά τους\n",
    "std_wtd | Τυπική απόκλιση για το παραπάνω \n",
    "Το training set περιέχει μια επιπλέον μεταβλητή (`PAX`) η οποία έχει σχέση με τον αριθμό των επιβατών της πτήσης. Η μεταβλητή αυτή παίρνει 8 διαφορετικές τιμές (τιμές από 0 έως 7 οπότε 8 κατηγορίες συνολικά). Κάθε κατηγορία υποδηλώνει πόσοι περίπου επιβάτες χρησιμοποίησαν την πτήση. Οι αριθμοί στις κατηγορίες έχουν ανατεθεί με τυχαίο τρόπο, οπότε μην θεωρήσετε ότι η κατηγορία 0 υποδηλώνει πολύ λίγους επιβάτες ενώ η κατηγορία 7 πάρα πολλούς επιβάτες. Η μεταβλητή `PAX` λείπει από το test set καθώς πρόκειται για την μεταβλητή που πρέπει να προβλέψετε στα πλαίσια της παρούσας εργασίας.\n",
    "\n",
    "Παρακάτω σας δίνεται κώδικας ο οποίος φορτώνει τα δεδομένα εκπαίδευσης σε ένα DataFrame της βιβλιοθήκης Pandas και τυπώνει τις πρώτες 5 γραμμές. Οπότε μπορείτε να δείτε τις 12 μεταβλητές του προβλήματος."
   ]
  },
  {
   "cell_type": "markdown",
   "metadata": {},
   "source": [
    "Στη μεταβλητή `submission` βάζομουμε `True` όταν θέλουμε να προβλέψουμε τα παραδείγματα στο `test.csv`."
   ]
  },
  {
   "cell_type": "code",
   "execution_count": 438,
   "metadata": {},
   "outputs": [],
   "source": [
    "submission = False"
   ]
  },
  {
   "cell_type": "code",
   "execution_count": 439,
   "metadata": {
    "scrolled": false
   },
   "outputs": [],
   "source": [
    "import pandas as pd\n",
    "\n",
    "df_train = pd.read_csv('dataset/train.csv')\n",
    "\n",
    "if submission:\n",
    "    df_test = pd.read_csv('dataset/test.csv')\n",
    "    df_test.head()\n",
    "else:\n",
    "    df_train.head()"
   ]
  },
  {
   "cell_type": "markdown",
   "metadata": {},
   "source": [
    "Χωρίζουμε τα δεδομένα εκπαίδευσης σε `df_train`, `y_train`, `df_test` και `y_test`."
   ]
  },
  {
   "cell_type": "code",
   "execution_count": 440,
   "metadata": {},
   "outputs": [],
   "source": [
    "from sklearn.model_selection import train_test_split\n",
    "y_train = df_train[['PAX']]\n",
    "\n",
    "if not submission:\n",
    "    df_train, df_test, y_train, y_test = train_test_split(df_train, y_train, test_size=0.2, random_state=42)"
   ]
  },
  {
   "cell_type": "markdown",
   "metadata": {},
   "source": [
    "Αφαιρούμε τη στήλη `PAX` από τον `df_train`."
   ]
  },
  {
   "cell_type": "code",
   "execution_count": 441,
   "metadata": {
    "scrolled": false
   },
   "outputs": [
    {
     "data": {
      "text/html": [
       "<div>\n",
       "<style scoped>\n",
       "    .dataframe tbody tr th:only-of-type {\n",
       "        vertical-align: middle;\n",
       "    }\n",
       "\n",
       "    .dataframe tbody tr th {\n",
       "        vertical-align: top;\n",
       "    }\n",
       "\n",
       "    .dataframe thead th {\n",
       "        text-align: right;\n",
       "    }\n",
       "</style>\n",
       "<table border=\"1\" class=\"dataframe\">\n",
       "  <thead>\n",
       "    <tr style=\"text-align: right;\">\n",
       "      <th></th>\n",
       "      <th>DateOfDeparture</th>\n",
       "      <th>Departure</th>\n",
       "      <th>CityDeparture</th>\n",
       "      <th>LongitudeDeparture</th>\n",
       "      <th>LatitudeDeparture</th>\n",
       "      <th>Arrival</th>\n",
       "      <th>CityArrival</th>\n",
       "      <th>LongitudeArrival</th>\n",
       "      <th>LatitudeArrival</th>\n",
       "      <th>WeeksToDeparture</th>\n",
       "      <th>std_wtd</th>\n",
       "    </tr>\n",
       "  </thead>\n",
       "  <tbody>\n",
       "    <tr>\n",
       "      <th>2755</th>\n",
       "      <td>2011-11-09</td>\n",
       "      <td>IAH</td>\n",
       "      <td>Houston</td>\n",
       "      <td>29.984433</td>\n",
       "      <td>-95.341442</td>\n",
       "      <td>ORD</td>\n",
       "      <td>Chicago</td>\n",
       "      <td>41.978603</td>\n",
       "      <td>-87.904842</td>\n",
       "      <td>7.923077</td>\n",
       "      <td>7.847096</td>\n",
       "    </tr>\n",
       "    <tr>\n",
       "      <th>1941</th>\n",
       "      <td>2012-11-02</td>\n",
       "      <td>DFW</td>\n",
       "      <td>Dallas-Fort Worth</td>\n",
       "      <td>32.896828</td>\n",
       "      <td>-97.037997</td>\n",
       "      <td>LAS</td>\n",
       "      <td>Las Vegas</td>\n",
       "      <td>36.080056</td>\n",
       "      <td>-115.152250</td>\n",
       "      <td>7.777778</td>\n",
       "      <td>5.610448</td>\n",
       "    </tr>\n",
       "    <tr>\n",
       "      <th>3424</th>\n",
       "      <td>2012-08-03</td>\n",
       "      <td>LAX</td>\n",
       "      <td>Los Angeles</td>\n",
       "      <td>33.942536</td>\n",
       "      <td>-118.408075</td>\n",
       "      <td>JFK</td>\n",
       "      <td>New York</td>\n",
       "      <td>40.639751</td>\n",
       "      <td>-73.778925</td>\n",
       "      <td>18.945946</td>\n",
       "      <td>12.402836</td>\n",
       "    </tr>\n",
       "    <tr>\n",
       "      <th>4081</th>\n",
       "      <td>2012-09-21</td>\n",
       "      <td>LAX</td>\n",
       "      <td>Los Angeles</td>\n",
       "      <td>33.942536</td>\n",
       "      <td>-118.408075</td>\n",
       "      <td>SEA</td>\n",
       "      <td>Seattle</td>\n",
       "      <td>47.449000</td>\n",
       "      <td>-122.309306</td>\n",
       "      <td>11.833333</td>\n",
       "      <td>9.276744</td>\n",
       "    </tr>\n",
       "    <tr>\n",
       "      <th>5505</th>\n",
       "      <td>2011-09-12</td>\n",
       "      <td>DFW</td>\n",
       "      <td>Dallas-Fort Worth</td>\n",
       "      <td>32.896828</td>\n",
       "      <td>-97.037997</td>\n",
       "      <td>DEN</td>\n",
       "      <td>Denver</td>\n",
       "      <td>39.861656</td>\n",
       "      <td>-104.673178</td>\n",
       "      <td>9.055556</td>\n",
       "      <td>6.457756</td>\n",
       "    </tr>\n",
       "  </tbody>\n",
       "</table>\n",
       "</div>"
      ],
      "text/plain": [
       "     DateOfDeparture Departure      CityDeparture  LongitudeDeparture  \\\n",
       "2755      2011-11-09       IAH            Houston           29.984433   \n",
       "1941      2012-11-02       DFW  Dallas-Fort Worth           32.896828   \n",
       "3424      2012-08-03       LAX        Los Angeles           33.942536   \n",
       "4081      2012-09-21       LAX        Los Angeles           33.942536   \n",
       "5505      2011-09-12       DFW  Dallas-Fort Worth           32.896828   \n",
       "\n",
       "      LatitudeDeparture Arrival CityArrival  LongitudeArrival  \\\n",
       "2755         -95.341442     ORD     Chicago         41.978603   \n",
       "1941         -97.037997     LAS   Las Vegas         36.080056   \n",
       "3424        -118.408075     JFK    New York         40.639751   \n",
       "4081        -118.408075     SEA     Seattle         47.449000   \n",
       "5505         -97.037997     DEN      Denver         39.861656   \n",
       "\n",
       "      LatitudeArrival  WeeksToDeparture    std_wtd  \n",
       "2755       -87.904842          7.923077   7.847096  \n",
       "1941      -115.152250          7.777778   5.610448  \n",
       "3424       -73.778925         18.945946  12.402836  \n",
       "4081      -122.309306         11.833333   9.276744  \n",
       "5505      -104.673178          9.055556   6.457756  "
      ]
     },
     "execution_count": 441,
     "metadata": {},
     "output_type": "execute_result"
    }
   ],
   "source": [
    "df_train.drop(df_train.columns[[11]], axis=1, inplace=True)\n",
    "df_train.head()"
   ]
  },
  {
   "cell_type": "markdown",
   "metadata": {},
   "source": [
    "Αφαιρούμε τη στήλη `PAX` από τον `df_test`."
   ]
  },
  {
   "cell_type": "code",
   "execution_count": 442,
   "metadata": {
    "scrolled": true
   },
   "outputs": [
    {
     "data": {
      "text/html": [
       "<div>\n",
       "<style scoped>\n",
       "    .dataframe tbody tr th:only-of-type {\n",
       "        vertical-align: middle;\n",
       "    }\n",
       "\n",
       "    .dataframe tbody tr th {\n",
       "        vertical-align: top;\n",
       "    }\n",
       "\n",
       "    .dataframe thead th {\n",
       "        text-align: right;\n",
       "    }\n",
       "</style>\n",
       "<table border=\"1\" class=\"dataframe\">\n",
       "  <thead>\n",
       "    <tr style=\"text-align: right;\">\n",
       "      <th></th>\n",
       "      <th>DateOfDeparture</th>\n",
       "      <th>Departure</th>\n",
       "      <th>CityDeparture</th>\n",
       "      <th>LongitudeDeparture</th>\n",
       "      <th>LatitudeDeparture</th>\n",
       "      <th>Arrival</th>\n",
       "      <th>CityArrival</th>\n",
       "      <th>LongitudeArrival</th>\n",
       "      <th>LatitudeArrival</th>\n",
       "      <th>WeeksToDeparture</th>\n",
       "      <th>std_wtd</th>\n",
       "    </tr>\n",
       "  </thead>\n",
       "  <tbody>\n",
       "    <tr>\n",
       "      <th>8833</th>\n",
       "      <td>2012-04-10</td>\n",
       "      <td>LAX</td>\n",
       "      <td>Los Angeles</td>\n",
       "      <td>33.942536</td>\n",
       "      <td>-118.408075</td>\n",
       "      <td>DEN</td>\n",
       "      <td>Denver</td>\n",
       "      <td>39.861656</td>\n",
       "      <td>-104.673178</td>\n",
       "      <td>11.619048</td>\n",
       "      <td>9.069047</td>\n",
       "    </tr>\n",
       "    <tr>\n",
       "      <th>2025</th>\n",
       "      <td>2012-02-27</td>\n",
       "      <td>LAX</td>\n",
       "      <td>Los Angeles</td>\n",
       "      <td>33.942536</td>\n",
       "      <td>-118.408075</td>\n",
       "      <td>SEA</td>\n",
       "      <td>Seattle</td>\n",
       "      <td>47.449000</td>\n",
       "      <td>-122.309306</td>\n",
       "      <td>10.913043</td>\n",
       "      <td>8.289715</td>\n",
       "    </tr>\n",
       "    <tr>\n",
       "      <th>8209</th>\n",
       "      <td>2012-03-25</td>\n",
       "      <td>DFW</td>\n",
       "      <td>Dallas-Fort Worth</td>\n",
       "      <td>32.896828</td>\n",
       "      <td>-97.037997</td>\n",
       "      <td>PHL</td>\n",
       "      <td>Philadelphia</td>\n",
       "      <td>39.871944</td>\n",
       "      <td>-75.241139</td>\n",
       "      <td>8.066667</td>\n",
       "      <td>6.562520</td>\n",
       "    </tr>\n",
       "    <tr>\n",
       "      <th>7870</th>\n",
       "      <td>2011-11-08</td>\n",
       "      <td>DFW</td>\n",
       "      <td>Dallas-Fort Worth</td>\n",
       "      <td>32.896828</td>\n",
       "      <td>-97.037997</td>\n",
       "      <td>SFO</td>\n",
       "      <td>San Francisco</td>\n",
       "      <td>37.618972</td>\n",
       "      <td>-122.374889</td>\n",
       "      <td>12.250000</td>\n",
       "      <td>8.033896</td>\n",
       "    </tr>\n",
       "    <tr>\n",
       "      <th>8085</th>\n",
       "      <td>2012-09-10</td>\n",
       "      <td>ATL</td>\n",
       "      <td>Atlanta</td>\n",
       "      <td>33.636719</td>\n",
       "      <td>-84.428067</td>\n",
       "      <td>ORD</td>\n",
       "      <td>Chicago</td>\n",
       "      <td>41.978603</td>\n",
       "      <td>-87.904842</td>\n",
       "      <td>8.850000</td>\n",
       "      <td>6.318519</td>\n",
       "    </tr>\n",
       "  </tbody>\n",
       "</table>\n",
       "</div>"
      ],
      "text/plain": [
       "     DateOfDeparture Departure      CityDeparture  LongitudeDeparture  \\\n",
       "8833      2012-04-10       LAX        Los Angeles           33.942536   \n",
       "2025      2012-02-27       LAX        Los Angeles           33.942536   \n",
       "8209      2012-03-25       DFW  Dallas-Fort Worth           32.896828   \n",
       "7870      2011-11-08       DFW  Dallas-Fort Worth           32.896828   \n",
       "8085      2012-09-10       ATL            Atlanta           33.636719   \n",
       "\n",
       "      LatitudeDeparture Arrival    CityArrival  LongitudeArrival  \\\n",
       "8833        -118.408075     DEN         Denver         39.861656   \n",
       "2025        -118.408075     SEA        Seattle         47.449000   \n",
       "8209         -97.037997     PHL   Philadelphia         39.871944   \n",
       "7870         -97.037997     SFO  San Francisco         37.618972   \n",
       "8085         -84.428067     ORD        Chicago         41.978603   \n",
       "\n",
       "      LatitudeArrival  WeeksToDeparture   std_wtd  \n",
       "8833      -104.673178         11.619048  9.069047  \n",
       "2025      -122.309306         10.913043  8.289715  \n",
       "8209       -75.241139          8.066667  6.562520  \n",
       "7870      -122.374889         12.250000  8.033896  \n",
       "8085       -87.904842          8.850000  6.318519  "
      ]
     },
     "execution_count": 442,
     "metadata": {},
     "output_type": "execute_result"
    }
   ],
   "source": [
    "if not submission:\n",
    "    df_test.drop(df_test.columns[[11]], axis=1, inplace=True)\n",
    "df_test.head()"
   ]
  },
  {
   "cell_type": "markdown",
   "metadata": {},
   "source": [
    "Κρατάμε αντίγραφο από τους αρχικούς πίνακες `df_train`, `df_test`, `y_train` και `y_test`."
   ]
  },
  {
   "cell_type": "code",
   "execution_count": 443,
   "metadata": {},
   "outputs": [
    {
     "data": {
      "text/plain": [
       "'df_train_old = df_train.copy()\\ndf_test_old = df_test.copy()\\ny_train_old = y_train.copy()\\ny_test_old = y_test.copy()'"
      ]
     },
     "execution_count": 443,
     "metadata": {},
     "output_type": "execute_result"
    }
   ],
   "source": [
    "'''df_train_old = df_train.copy()\n",
    "df_test_old = df_test.copy()\n",
    "y_train_old = y_train.copy()\n",
    "y_test_old = y_test.copy()'''"
   ]
  },
  {
   "cell_type": "markdown",
   "metadata": {},
   "source": [
    "Οι στήλες των training και test set περιέχουν κατηγορικές μεταβλητές των οποίων οι τιμές είναι αλφαριθμητικά. Οι αλγόριθμοι ταξινόμησης ωστόσο δουλεύουν μόνο με αριθμητικές τιμές. Χρησιμοποιούμε το αντικείμενο `LabelEncoder` του `scikit-learn` για να μετατρέψουμε τα αλφαριθμητικά σε αριθμητικές τιμές."
   ]
  },
  {
   "cell_type": "code",
   "execution_count": 444,
   "metadata": {},
   "outputs": [],
   "source": [
    "from sklearn.preprocessing import LabelEncoder\n",
    "\n",
    "enc = LabelEncoder()\n",
    "\n",
    "enc.fit(df_train['CityDeparture'])\n",
    "\n",
    "df_train['CityDeparture'] = enc.transform(df_train['CityDeparture'])\n",
    "df_train['CityArrival'] = enc.transform(df_train['CityArrival'])\n",
    "df_test['CityDeparture'] = enc.transform(df_test['CityDeparture'])\n",
    "df_test['CityArrival'] = enc.transform(df_test['CityArrival'])"
   ]
  },
  {
   "cell_type": "markdown",
   "metadata": {},
   "source": [
    "Οπτικοποιούμε τα δεδομένα εκπαίδευσης με γραφικές παραστάσεις που συσχετίζουν μία μεταβλητή με το `PAX`."
   ]
  },
  {
   "cell_type": "code",
   "execution_count": 445,
   "metadata": {
    "scrolled": true
   },
   "outputs": [
    {
     "data": {
      "text/plain": [
       "Text(0, 0.5, 'PAX')"
      ]
     },
     "execution_count": 445,
     "metadata": {},
     "output_type": "execute_result"
    },
    {
     "data": {
      "image/png": "[encoded data removed]",
      "text/plain": [
       "<Figure size 432x288 with 1 Axes>"
      ]
     },
     "metadata": {
      "needs_background": "light"
     },
     "output_type": "display_data"
    }
   ],
   "source": [
    "import matplotlib.pyplot as plt\n",
    "%matplotlib inline\n",
    "\n",
    "column_name = 'WeeksToDeparture'\n",
    "\n",
    "plt.scatter(df_train[[column_name]], y_train)\n",
    "\n",
    "plt.xlabel(column_name)\n",
    "plt.ylabel('PAX')\n",
    "\n",
    "# line from (x0, y0) to (x1, y1)\n",
    "#plt.plot([x0, x1], [y0, y1], color='k', linestyle='-', linewidth=2)"
   ]
  },
  {
   "cell_type": "markdown",
   "metadata": {},
   "source": [
    "Χρήση της βιβλιοθήκης `holidays` https://pypi.org/project/holidays, η οποία δημιουργεί λίστα με όλες τις ημερομηνίες των διακοπών σε μία συγκεκριμένη χώρα."
   ]
  },
  {
   "cell_type": "code",
   "execution_count": 446,
   "metadata": {},
   "outputs": [
    {
     "name": "stdout",
     "output_type": "stream",
     "text": [
      "True\n",
      "False\n"
     ]
    }
   ],
   "source": [
    "import datetime as dt\n",
    "import holidays\n",
    "\n",
    "us_holidays = holidays.UnitedStates()\n",
    "\n",
    "print(dt.date(2019, 1, 1) in us_holidays)  # True\n",
    "print(dt.date(2019, 1, 2) in us_holidays)  # False"
   ]
  },
  {
   "cell_type": "markdown",
   "metadata": {},
   "source": [
    "Δημιουργία μεθόδου `isHoliday`, η οποία παίρνει σαν όρισμα μία ημερομηνία επιστρέφει την τιμή **1 (True)** αν η ημερομηνία βρίσκεται σε περίοδο διακοπών και την τιμή **0 (False)** διαφορετικά."
   ]
  },
  {
   "cell_type": "code",
   "execution_count": 447,
   "metadata": {},
   "outputs": [],
   "source": [
    "# date can be either a datetime.date object or a string with date format\n",
    "def isHoliday(date):\n",
    "    return 1 if date in us_holidays else 0"
   ]
  },
  {
   "cell_type": "markdown",
   "metadata": {},
   "source": [
    "Δημιουργία επιπλέον στήλης `holidays` στον `df_train`."
   ]
  },
  {
   "cell_type": "code",
   "execution_count": 448,
   "metadata": {
    "scrolled": true
   },
   "outputs": [
    {
     "data": {
      "text/html": [
       "<div>\n",
       "<style scoped>\n",
       "    .dataframe tbody tr th:only-of-type {\n",
       "        vertical-align: middle;\n",
       "    }\n",
       "\n",
       "    .dataframe tbody tr th {\n",
       "        vertical-align: top;\n",
       "    }\n",
       "\n",
       "    .dataframe thead th {\n",
       "        text-align: right;\n",
       "    }\n",
       "</style>\n",
       "<table border=\"1\" class=\"dataframe\">\n",
       "  <thead>\n",
       "    <tr style=\"text-align: right;\">\n",
       "      <th></th>\n",
       "      <th>DateOfDeparture</th>\n",
       "      <th>Departure</th>\n",
       "      <th>CityDeparture</th>\n",
       "      <th>LongitudeDeparture</th>\n",
       "      <th>LatitudeDeparture</th>\n",
       "      <th>Arrival</th>\n",
       "      <th>CityArrival</th>\n",
       "      <th>LongitudeArrival</th>\n",
       "      <th>LatitudeArrival</th>\n",
       "      <th>WeeksToDeparture</th>\n",
       "      <th>std_wtd</th>\n",
       "      <th>holidays</th>\n",
       "    </tr>\n",
       "  </thead>\n",
       "  <tbody>\n",
       "    <tr>\n",
       "      <th>2755</th>\n",
       "      <td>2011-11-09</td>\n",
       "      <td>IAH</td>\n",
       "      <td>7</td>\n",
       "      <td>29.984433</td>\n",
       "      <td>-95.341442</td>\n",
       "      <td>ORD</td>\n",
       "      <td>3</td>\n",
       "      <td>41.978603</td>\n",
       "      <td>-87.904842</td>\n",
       "      <td>7.923077</td>\n",
       "      <td>7.847096</td>\n",
       "      <td>0</td>\n",
       "    </tr>\n",
       "    <tr>\n",
       "      <th>1941</th>\n",
       "      <td>2012-11-02</td>\n",
       "      <td>DFW</td>\n",
       "      <td>4</td>\n",
       "      <td>32.896828</td>\n",
       "      <td>-97.037997</td>\n",
       "      <td>LAS</td>\n",
       "      <td>8</td>\n",
       "      <td>36.080056</td>\n",
       "      <td>-115.152250</td>\n",
       "      <td>7.777778</td>\n",
       "      <td>5.610448</td>\n",
       "      <td>0</td>\n",
       "    </tr>\n",
       "    <tr>\n",
       "      <th>3424</th>\n",
       "      <td>2012-08-03</td>\n",
       "      <td>LAX</td>\n",
       "      <td>9</td>\n",
       "      <td>33.942536</td>\n",
       "      <td>-118.408075</td>\n",
       "      <td>JFK</td>\n",
       "      <td>12</td>\n",
       "      <td>40.639751</td>\n",
       "      <td>-73.778925</td>\n",
       "      <td>18.945946</td>\n",
       "      <td>12.402836</td>\n",
       "      <td>0</td>\n",
       "    </tr>\n",
       "    <tr>\n",
       "      <th>4081</th>\n",
       "      <td>2012-09-21</td>\n",
       "      <td>LAX</td>\n",
       "      <td>9</td>\n",
       "      <td>33.942536</td>\n",
       "      <td>-118.408075</td>\n",
       "      <td>SEA</td>\n",
       "      <td>18</td>\n",
       "      <td>47.449000</td>\n",
       "      <td>-122.309306</td>\n",
       "      <td>11.833333</td>\n",
       "      <td>9.276744</td>\n",
       "      <td>0</td>\n",
       "    </tr>\n",
       "    <tr>\n",
       "      <th>5505</th>\n",
       "      <td>2011-09-12</td>\n",
       "      <td>DFW</td>\n",
       "      <td>4</td>\n",
       "      <td>32.896828</td>\n",
       "      <td>-97.037997</td>\n",
       "      <td>DEN</td>\n",
       "      <td>5</td>\n",
       "      <td>39.861656</td>\n",
       "      <td>-104.673178</td>\n",
       "      <td>9.055556</td>\n",
       "      <td>6.457756</td>\n",
       "      <td>0</td>\n",
       "    </tr>\n",
       "  </tbody>\n",
       "</table>\n",
       "</div>"
      ],
      "text/plain": [
       "     DateOfDeparture Departure  CityDeparture  LongitudeDeparture  \\\n",
       "2755      2011-11-09       IAH              7           29.984433   \n",
       "1941      2012-11-02       DFW              4           32.896828   \n",
       "3424      2012-08-03       LAX              9           33.942536   \n",
       "4081      2012-09-21       LAX              9           33.942536   \n",
       "5505      2011-09-12       DFW              4           32.896828   \n",
       "\n",
       "      LatitudeDeparture Arrival  CityArrival  LongitudeArrival  \\\n",
       "2755         -95.341442     ORD            3         41.978603   \n",
       "1941         -97.037997     LAS            8         36.080056   \n",
       "3424        -118.408075     JFK           12         40.639751   \n",
       "4081        -118.408075     SEA           18         47.449000   \n",
       "5505         -97.037997     DEN            5         39.861656   \n",
       "\n",
       "      LatitudeArrival  WeeksToDeparture    std_wtd  holidays  \n",
       "2755       -87.904842          7.923077   7.847096         0  \n",
       "1941      -115.152250          7.777778   5.610448         0  \n",
       "3424       -73.778925         18.945946  12.402836         0  \n",
       "4081      -122.309306         11.833333   9.276744         0  \n",
       "5505      -104.673178          9.055556   6.457756         0  "
      ]
     },
     "execution_count": 448,
     "metadata": {},
     "output_type": "execute_result"
    }
   ],
   "source": [
    "df_train['holidays'] = df_train['DateOfDeparture'].apply(isHoliday)\n",
    "\n",
    "df_train.head()"
   ]
  },
  {
   "cell_type": "markdown",
   "metadata": {},
   "source": [
    "Δημιουργία επιπλέον στήλης `holidays` στον `df_train`."
   ]
  },
  {
   "cell_type": "code",
   "execution_count": 449,
   "metadata": {
    "scrolled": false
   },
   "outputs": [
    {
     "data": {
      "text/html": [
       "<div>\n",
       "<style scoped>\n",
       "    .dataframe tbody tr th:only-of-type {\n",
       "        vertical-align: middle;\n",
       "    }\n",
       "\n",
       "    .dataframe tbody tr th {\n",
       "        vertical-align: top;\n",
       "    }\n",
       "\n",
       "    .dataframe thead th {\n",
       "        text-align: right;\n",
       "    }\n",
       "</style>\n",
       "<table border=\"1\" class=\"dataframe\">\n",
       "  <thead>\n",
       "    <tr style=\"text-align: right;\">\n",
       "      <th></th>\n",
       "      <th>DateOfDeparture</th>\n",
       "      <th>Departure</th>\n",
       "      <th>CityDeparture</th>\n",
       "      <th>LongitudeDeparture</th>\n",
       "      <th>LatitudeDeparture</th>\n",
       "      <th>Arrival</th>\n",
       "      <th>CityArrival</th>\n",
       "      <th>LongitudeArrival</th>\n",
       "      <th>LatitudeArrival</th>\n",
       "      <th>WeeksToDeparture</th>\n",
       "      <th>std_wtd</th>\n",
       "      <th>holidays</th>\n",
       "    </tr>\n",
       "  </thead>\n",
       "  <tbody>\n",
       "    <tr>\n",
       "      <th>8833</th>\n",
       "      <td>2012-04-10</td>\n",
       "      <td>LAX</td>\n",
       "      <td>9</td>\n",
       "      <td>33.942536</td>\n",
       "      <td>-118.408075</td>\n",
       "      <td>DEN</td>\n",
       "      <td>5</td>\n",
       "      <td>39.861656</td>\n",
       "      <td>-104.673178</td>\n",
       "      <td>11.619048</td>\n",
       "      <td>9.069047</td>\n",
       "      <td>0</td>\n",
       "    </tr>\n",
       "    <tr>\n",
       "      <th>2025</th>\n",
       "      <td>2012-02-27</td>\n",
       "      <td>LAX</td>\n",
       "      <td>9</td>\n",
       "      <td>33.942536</td>\n",
       "      <td>-118.408075</td>\n",
       "      <td>SEA</td>\n",
       "      <td>18</td>\n",
       "      <td>47.449000</td>\n",
       "      <td>-122.309306</td>\n",
       "      <td>10.913043</td>\n",
       "      <td>8.289715</td>\n",
       "      <td>0</td>\n",
       "    </tr>\n",
       "    <tr>\n",
       "      <th>8209</th>\n",
       "      <td>2012-03-25</td>\n",
       "      <td>DFW</td>\n",
       "      <td>4</td>\n",
       "      <td>32.896828</td>\n",
       "      <td>-97.037997</td>\n",
       "      <td>PHL</td>\n",
       "      <td>15</td>\n",
       "      <td>39.871944</td>\n",
       "      <td>-75.241139</td>\n",
       "      <td>8.066667</td>\n",
       "      <td>6.562520</td>\n",
       "      <td>0</td>\n",
       "    </tr>\n",
       "    <tr>\n",
       "      <th>7870</th>\n",
       "      <td>2011-11-08</td>\n",
       "      <td>DFW</td>\n",
       "      <td>4</td>\n",
       "      <td>32.896828</td>\n",
       "      <td>-97.037997</td>\n",
       "      <td>SFO</td>\n",
       "      <td>17</td>\n",
       "      <td>37.618972</td>\n",
       "      <td>-122.374889</td>\n",
       "      <td>12.250000</td>\n",
       "      <td>8.033896</td>\n",
       "      <td>0</td>\n",
       "    </tr>\n",
       "    <tr>\n",
       "      <th>8085</th>\n",
       "      <td>2012-09-10</td>\n",
       "      <td>ATL</td>\n",
       "      <td>0</td>\n",
       "      <td>33.636719</td>\n",
       "      <td>-84.428067</td>\n",
       "      <td>ORD</td>\n",
       "      <td>3</td>\n",
       "      <td>41.978603</td>\n",
       "      <td>-87.904842</td>\n",
       "      <td>8.850000</td>\n",
       "      <td>6.318519</td>\n",
       "      <td>0</td>\n",
       "    </tr>\n",
       "  </tbody>\n",
       "</table>\n",
       "</div>"
      ],
      "text/plain": [
       "     DateOfDeparture Departure  CityDeparture  LongitudeDeparture  \\\n",
       "8833      2012-04-10       LAX              9           33.942536   \n",
       "2025      2012-02-27       LAX              9           33.942536   \n",
       "8209      2012-03-25       DFW              4           32.896828   \n",
       "7870      2011-11-08       DFW              4           32.896828   \n",
       "8085      2012-09-10       ATL              0           33.636719   \n",
       "\n",
       "      LatitudeDeparture Arrival  CityArrival  LongitudeArrival  \\\n",
       "8833        -118.408075     DEN            5         39.861656   \n",
       "2025        -118.408075     SEA           18         47.449000   \n",
       "8209         -97.037997     PHL           15         39.871944   \n",
       "7870         -97.037997     SFO           17         37.618972   \n",
       "8085         -84.428067     ORD            3         41.978603   \n",
       "\n",
       "      LatitudeArrival  WeeksToDeparture   std_wtd  holidays  \n",
       "8833      -104.673178         11.619048  9.069047         0  \n",
       "2025      -122.309306         10.913043  8.289715         0  \n",
       "8209       -75.241139          8.066667  6.562520         0  \n",
       "7870      -122.374889         12.250000  8.033896         0  \n",
       "8085       -87.904842          8.850000  6.318519         0  "
      ]
     },
     "execution_count": 449,
     "metadata": {},
     "output_type": "execute_result"
    }
   ],
   "source": [
    "df_test['holidays'] = df_test['DateOfDeparture'].apply(isHoliday)\n",
    "\n",
    "df_test.head()"
   ]
  },
  {
   "cell_type": "markdown",
   "metadata": {},
   "source": [
    "Δημιουργία συνάρτησης `season`, η οποία μετατρέπει ένα `string` _(στη μορφή `year-month-day`)_ σε εποχή."
   ]
  },
  {
   "cell_type": "code",
   "execution_count": 450,
   "metadata": {},
   "outputs": [],
   "source": [
    "# Δημιουργία συνάρτησης string_to_date, η οποία μετατρέπει ένα string (στη μορφή year-month-day) σε date.\n",
    "def string_to_date(string_date):\n",
    "    string_date_list = string_date.split('-')\n",
    "    \n",
    "    year = int(string_date_list[0])\n",
    "    month = int(string_date_list[1])\n",
    "    day = int(string_date_list[2])\n",
    "    \n",
    "    return dt.datetime(year, month, day)\n",
    "\n",
    "#Δημιουργία συνάρτησης date_to_season, η οποία μετατρέπει μία ημερομηνία σε εποχή.\n",
    "def date_to_season(date):\n",
    "    seasons = {\n",
    "        'Spring':(3, 5),\n",
    "        'Summer':(6, 8),\n",
    "        'Autumn':(9, 11),\n",
    "    }\n",
    "    \n",
    "    for season, (start, end) in seasons.items():\n",
    "        if date.month >= start and date.month <= end:\n",
    "            return season\n",
    "    \n",
    "    return 'Winter'\n",
    "\n",
    "def string_to_season(string_date):\n",
    "    return date_to_season(string_to_date(string_date))"
   ]
  },
  {
   "cell_type": "markdown",
   "metadata": {},
   "source": [
    "Μετατροπή όλων των ημερομηνιών των πινάκων `df_train` και `df_test` σε `season`."
   ]
  },
  {
   "cell_type": "code",
   "execution_count": 451,
   "metadata": {
    "scrolled": true
   },
   "outputs": [
    {
     "data": {
      "text/html": [
       "<div>\n",
       "<style scoped>\n",
       "    .dataframe tbody tr th:only-of-type {\n",
       "        vertical-align: middle;\n",
       "    }\n",
       "\n",
       "    .dataframe tbody tr th {\n",
       "        vertical-align: top;\n",
       "    }\n",
       "\n",
       "    .dataframe thead th {\n",
       "        text-align: right;\n",
       "    }\n",
       "</style>\n",
       "<table border=\"1\" class=\"dataframe\">\n",
       "  <thead>\n",
       "    <tr style=\"text-align: right;\">\n",
       "      <th></th>\n",
       "      <th>DateOfDeparture</th>\n",
       "      <th>Departure</th>\n",
       "      <th>CityDeparture</th>\n",
       "      <th>LongitudeDeparture</th>\n",
       "      <th>LatitudeDeparture</th>\n",
       "      <th>Arrival</th>\n",
       "      <th>CityArrival</th>\n",
       "      <th>LongitudeArrival</th>\n",
       "      <th>LatitudeArrival</th>\n",
       "      <th>WeeksToDeparture</th>\n",
       "      <th>std_wtd</th>\n",
       "      <th>holidays</th>\n",
       "      <th>Season</th>\n",
       "    </tr>\n",
       "  </thead>\n",
       "  <tbody>\n",
       "    <tr>\n",
       "      <th>2755</th>\n",
       "      <td>2011-11-09</td>\n",
       "      <td>IAH</td>\n",
       "      <td>7</td>\n",
       "      <td>29.984433</td>\n",
       "      <td>-95.341442</td>\n",
       "      <td>ORD</td>\n",
       "      <td>3</td>\n",
       "      <td>41.978603</td>\n",
       "      <td>-87.904842</td>\n",
       "      <td>7.923077</td>\n",
       "      <td>7.847096</td>\n",
       "      <td>0</td>\n",
       "      <td>Autumn</td>\n",
       "    </tr>\n",
       "    <tr>\n",
       "      <th>1941</th>\n",
       "      <td>2012-11-02</td>\n",
       "      <td>DFW</td>\n",
       "      <td>4</td>\n",
       "      <td>32.896828</td>\n",
       "      <td>-97.037997</td>\n",
       "      <td>LAS</td>\n",
       "      <td>8</td>\n",
       "      <td>36.080056</td>\n",
       "      <td>-115.152250</td>\n",
       "      <td>7.777778</td>\n",
       "      <td>5.610448</td>\n",
       "      <td>0</td>\n",
       "      <td>Autumn</td>\n",
       "    </tr>\n",
       "    <tr>\n",
       "      <th>3424</th>\n",
       "      <td>2012-08-03</td>\n",
       "      <td>LAX</td>\n",
       "      <td>9</td>\n",
       "      <td>33.942536</td>\n",
       "      <td>-118.408075</td>\n",
       "      <td>JFK</td>\n",
       "      <td>12</td>\n",
       "      <td>40.639751</td>\n",
       "      <td>-73.778925</td>\n",
       "      <td>18.945946</td>\n",
       "      <td>12.402836</td>\n",
       "      <td>0</td>\n",
       "      <td>Summer</td>\n",
       "    </tr>\n",
       "    <tr>\n",
       "      <th>4081</th>\n",
       "      <td>2012-09-21</td>\n",
       "      <td>LAX</td>\n",
       "      <td>9</td>\n",
       "      <td>33.942536</td>\n",
       "      <td>-118.408075</td>\n",
       "      <td>SEA</td>\n",
       "      <td>18</td>\n",
       "      <td>47.449000</td>\n",
       "      <td>-122.309306</td>\n",
       "      <td>11.833333</td>\n",
       "      <td>9.276744</td>\n",
       "      <td>0</td>\n",
       "      <td>Autumn</td>\n",
       "    </tr>\n",
       "    <tr>\n",
       "      <th>5505</th>\n",
       "      <td>2011-09-12</td>\n",
       "      <td>DFW</td>\n",
       "      <td>4</td>\n",
       "      <td>32.896828</td>\n",
       "      <td>-97.037997</td>\n",
       "      <td>DEN</td>\n",
       "      <td>5</td>\n",
       "      <td>39.861656</td>\n",
       "      <td>-104.673178</td>\n",
       "      <td>9.055556</td>\n",
       "      <td>6.457756</td>\n",
       "      <td>0</td>\n",
       "      <td>Autumn</td>\n",
       "    </tr>\n",
       "  </tbody>\n",
       "</table>\n",
       "</div>"
      ],
      "text/plain": [
       "     DateOfDeparture Departure  CityDeparture  LongitudeDeparture  \\\n",
       "2755      2011-11-09       IAH              7           29.984433   \n",
       "1941      2012-11-02       DFW              4           32.896828   \n",
       "3424      2012-08-03       LAX              9           33.942536   \n",
       "4081      2012-09-21       LAX              9           33.942536   \n",
       "5505      2011-09-12       DFW              4           32.896828   \n",
       "\n",
       "      LatitudeDeparture Arrival  CityArrival  LongitudeArrival  \\\n",
       "2755         -95.341442     ORD            3         41.978603   \n",
       "1941         -97.037997     LAS            8         36.080056   \n",
       "3424        -118.408075     JFK           12         40.639751   \n",
       "4081        -118.408075     SEA           18         47.449000   \n",
       "5505         -97.037997     DEN            5         39.861656   \n",
       "\n",
       "      LatitudeArrival  WeeksToDeparture    std_wtd  holidays  Season  \n",
       "2755       -87.904842          7.923077   7.847096         0  Autumn  \n",
       "1941      -115.152250          7.777778   5.610448         0  Autumn  \n",
       "3424       -73.778925         18.945946  12.402836         0  Summer  \n",
       "4081      -122.309306         11.833333   9.276744         0  Autumn  \n",
       "5505      -104.673178          9.055556   6.457756         0  Autumn  "
      ]
     },
     "execution_count": 451,
     "metadata": {},
     "output_type": "execute_result"
    }
   ],
   "source": [
    "df_train['Season'] = df_train['DateOfDeparture'].apply(string_to_season)\n",
    "df_train.head()"
   ]
  },
  {
   "cell_type": "code",
   "execution_count": 452,
   "metadata": {
    "scrolled": true
   },
   "outputs": [
    {
     "data": {
      "text/html": [
       "<div>\n",
       "<style scoped>\n",
       "    .dataframe tbody tr th:only-of-type {\n",
       "        vertical-align: middle;\n",
       "    }\n",
       "\n",
       "    .dataframe tbody tr th {\n",
       "        vertical-align: top;\n",
       "    }\n",
       "\n",
       "    .dataframe thead th {\n",
       "        text-align: right;\n",
       "    }\n",
       "</style>\n",
       "<table border=\"1\" class=\"dataframe\">\n",
       "  <thead>\n",
       "    <tr style=\"text-align: right;\">\n",
       "      <th></th>\n",
       "      <th>DateOfDeparture</th>\n",
       "      <th>Departure</th>\n",
       "      <th>CityDeparture</th>\n",
       "      <th>LongitudeDeparture</th>\n",
       "      <th>LatitudeDeparture</th>\n",
       "      <th>Arrival</th>\n",
       "      <th>CityArrival</th>\n",
       "      <th>LongitudeArrival</th>\n",
       "      <th>LatitudeArrival</th>\n",
       "      <th>WeeksToDeparture</th>\n",
       "      <th>std_wtd</th>\n",
       "      <th>holidays</th>\n",
       "      <th>Season</th>\n",
       "    </tr>\n",
       "  </thead>\n",
       "  <tbody>\n",
       "    <tr>\n",
       "      <th>8833</th>\n",
       "      <td>2012-04-10</td>\n",
       "      <td>LAX</td>\n",
       "      <td>9</td>\n",
       "      <td>33.942536</td>\n",
       "      <td>-118.408075</td>\n",
       "      <td>DEN</td>\n",
       "      <td>5</td>\n",
       "      <td>39.861656</td>\n",
       "      <td>-104.673178</td>\n",
       "      <td>11.619048</td>\n",
       "      <td>9.069047</td>\n",
       "      <td>0</td>\n",
       "      <td>Spring</td>\n",
       "    </tr>\n",
       "    <tr>\n",
       "      <th>2025</th>\n",
       "      <td>2012-02-27</td>\n",
       "      <td>LAX</td>\n",
       "      <td>9</td>\n",
       "      <td>33.942536</td>\n",
       "      <td>-118.408075</td>\n",
       "      <td>SEA</td>\n",
       "      <td>18</td>\n",
       "      <td>47.449000</td>\n",
       "      <td>-122.309306</td>\n",
       "      <td>10.913043</td>\n",
       "      <td>8.289715</td>\n",
       "      <td>0</td>\n",
       "      <td>Winter</td>\n",
       "    </tr>\n",
       "    <tr>\n",
       "      <th>8209</th>\n",
       "      <td>2012-03-25</td>\n",
       "      <td>DFW</td>\n",
       "      <td>4</td>\n",
       "      <td>32.896828</td>\n",
       "      <td>-97.037997</td>\n",
       "      <td>PHL</td>\n",
       "      <td>15</td>\n",
       "      <td>39.871944</td>\n",
       "      <td>-75.241139</td>\n",
       "      <td>8.066667</td>\n",
       "      <td>6.562520</td>\n",
       "      <td>0</td>\n",
       "      <td>Spring</td>\n",
       "    </tr>\n",
       "    <tr>\n",
       "      <th>7870</th>\n",
       "      <td>2011-11-08</td>\n",
       "      <td>DFW</td>\n",
       "      <td>4</td>\n",
       "      <td>32.896828</td>\n",
       "      <td>-97.037997</td>\n",
       "      <td>SFO</td>\n",
       "      <td>17</td>\n",
       "      <td>37.618972</td>\n",
       "      <td>-122.374889</td>\n",
       "      <td>12.250000</td>\n",
       "      <td>8.033896</td>\n",
       "      <td>0</td>\n",
       "      <td>Autumn</td>\n",
       "    </tr>\n",
       "    <tr>\n",
       "      <th>8085</th>\n",
       "      <td>2012-09-10</td>\n",
       "      <td>ATL</td>\n",
       "      <td>0</td>\n",
       "      <td>33.636719</td>\n",
       "      <td>-84.428067</td>\n",
       "      <td>ORD</td>\n",
       "      <td>3</td>\n",
       "      <td>41.978603</td>\n",
       "      <td>-87.904842</td>\n",
       "      <td>8.850000</td>\n",
       "      <td>6.318519</td>\n",
       "      <td>0</td>\n",
       "      <td>Autumn</td>\n",
       "    </tr>\n",
       "  </tbody>\n",
       "</table>\n",
       "</div>"
      ],
      "text/plain": [
       "     DateOfDeparture Departure  CityDeparture  LongitudeDeparture  \\\n",
       "8833      2012-04-10       LAX              9           33.942536   \n",
       "2025      2012-02-27       LAX              9           33.942536   \n",
       "8209      2012-03-25       DFW              4           32.896828   \n",
       "7870      2011-11-08       DFW              4           32.896828   \n",
       "8085      2012-09-10       ATL              0           33.636719   \n",
       "\n",
       "      LatitudeDeparture Arrival  CityArrival  LongitudeArrival  \\\n",
       "8833        -118.408075     DEN            5         39.861656   \n",
       "2025        -118.408075     SEA           18         47.449000   \n",
       "8209         -97.037997     PHL           15         39.871944   \n",
       "7870         -97.037997     SFO           17         37.618972   \n",
       "8085         -84.428067     ORD            3         41.978603   \n",
       "\n",
       "      LatitudeArrival  WeeksToDeparture   std_wtd  holidays  Season  \n",
       "8833      -104.673178         11.619048  9.069047         0  Spring  \n",
       "2025      -122.309306         10.913043  8.289715         0  Winter  \n",
       "8209       -75.241139          8.066667  6.562520         0  Spring  \n",
       "7870      -122.374889         12.250000  8.033896         0  Autumn  \n",
       "8085       -87.904842          8.850000  6.318519         0  Autumn  "
      ]
     },
     "execution_count": 452,
     "metadata": {},
     "output_type": "execute_result"
    }
   ],
   "source": [
    "df_test['Season'] = df_test['DateOfDeparture'].apply(string_to_season)\n",
    "df_test.head()"
   ]
  },
  {
   "cell_type": "markdown",
   "metadata": {},
   "source": [
    "Μετατροπή των `seasons` του πίνακα `df_train` σε αριθμητικές τιμές που αντιστοιχούν στις εποχές."
   ]
  },
  {
   "cell_type": "code",
   "execution_count": 453,
   "metadata": {},
   "outputs": [
    {
     "data": {
      "text/html": [
       "<div>\n",
       "<style scoped>\n",
       "    .dataframe tbody tr th:only-of-type {\n",
       "        vertical-align: middle;\n",
       "    }\n",
       "\n",
       "    .dataframe tbody tr th {\n",
       "        vertical-align: top;\n",
       "    }\n",
       "\n",
       "    .dataframe thead th {\n",
       "        text-align: right;\n",
       "    }\n",
       "</style>\n",
       "<table border=\"1\" class=\"dataframe\">\n",
       "  <thead>\n",
       "    <tr style=\"text-align: right;\">\n",
       "      <th></th>\n",
       "      <th>DateOfDeparture</th>\n",
       "      <th>Departure</th>\n",
       "      <th>CityDeparture</th>\n",
       "      <th>LongitudeDeparture</th>\n",
       "      <th>LatitudeDeparture</th>\n",
       "      <th>Arrival</th>\n",
       "      <th>CityArrival</th>\n",
       "      <th>LongitudeArrival</th>\n",
       "      <th>LatitudeArrival</th>\n",
       "      <th>WeeksToDeparture</th>\n",
       "      <th>std_wtd</th>\n",
       "      <th>holidays</th>\n",
       "      <th>Season</th>\n",
       "    </tr>\n",
       "  </thead>\n",
       "  <tbody>\n",
       "    <tr>\n",
       "      <th>2755</th>\n",
       "      <td>2011-11-09</td>\n",
       "      <td>IAH</td>\n",
       "      <td>7</td>\n",
       "      <td>29.984433</td>\n",
       "      <td>-95.341442</td>\n",
       "      <td>ORD</td>\n",
       "      <td>3</td>\n",
       "      <td>41.978603</td>\n",
       "      <td>-87.904842</td>\n",
       "      <td>7.923077</td>\n",
       "      <td>7.847096</td>\n",
       "      <td>0</td>\n",
       "      <td>0</td>\n",
       "    </tr>\n",
       "    <tr>\n",
       "      <th>1941</th>\n",
       "      <td>2012-11-02</td>\n",
       "      <td>DFW</td>\n",
       "      <td>4</td>\n",
       "      <td>32.896828</td>\n",
       "      <td>-97.037997</td>\n",
       "      <td>LAS</td>\n",
       "      <td>8</td>\n",
       "      <td>36.080056</td>\n",
       "      <td>-115.152250</td>\n",
       "      <td>7.777778</td>\n",
       "      <td>5.610448</td>\n",
       "      <td>0</td>\n",
       "      <td>0</td>\n",
       "    </tr>\n",
       "    <tr>\n",
       "      <th>3424</th>\n",
       "      <td>2012-08-03</td>\n",
       "      <td>LAX</td>\n",
       "      <td>9</td>\n",
       "      <td>33.942536</td>\n",
       "      <td>-118.408075</td>\n",
       "      <td>JFK</td>\n",
       "      <td>12</td>\n",
       "      <td>40.639751</td>\n",
       "      <td>-73.778925</td>\n",
       "      <td>18.945946</td>\n",
       "      <td>12.402836</td>\n",
       "      <td>0</td>\n",
       "      <td>2</td>\n",
       "    </tr>\n",
       "    <tr>\n",
       "      <th>4081</th>\n",
       "      <td>2012-09-21</td>\n",
       "      <td>LAX</td>\n",
       "      <td>9</td>\n",
       "      <td>33.942536</td>\n",
       "      <td>-118.408075</td>\n",
       "      <td>SEA</td>\n",
       "      <td>18</td>\n",
       "      <td>47.449000</td>\n",
       "      <td>-122.309306</td>\n",
       "      <td>11.833333</td>\n",
       "      <td>9.276744</td>\n",
       "      <td>0</td>\n",
       "      <td>0</td>\n",
       "    </tr>\n",
       "    <tr>\n",
       "      <th>5505</th>\n",
       "      <td>2011-09-12</td>\n",
       "      <td>DFW</td>\n",
       "      <td>4</td>\n",
       "      <td>32.896828</td>\n",
       "      <td>-97.037997</td>\n",
       "      <td>DEN</td>\n",
       "      <td>5</td>\n",
       "      <td>39.861656</td>\n",
       "      <td>-104.673178</td>\n",
       "      <td>9.055556</td>\n",
       "      <td>6.457756</td>\n",
       "      <td>0</td>\n",
       "      <td>0</td>\n",
       "    </tr>\n",
       "  </tbody>\n",
       "</table>\n",
       "</div>"
      ],
      "text/plain": [
       "     DateOfDeparture Departure  CityDeparture  LongitudeDeparture  \\\n",
       "2755      2011-11-09       IAH              7           29.984433   \n",
       "1941      2012-11-02       DFW              4           32.896828   \n",
       "3424      2012-08-03       LAX              9           33.942536   \n",
       "4081      2012-09-21       LAX              9           33.942536   \n",
       "5505      2011-09-12       DFW              4           32.896828   \n",
       "\n",
       "      LatitudeDeparture Arrival  CityArrival  LongitudeArrival  \\\n",
       "2755         -95.341442     ORD            3         41.978603   \n",
       "1941         -97.037997     LAS            8         36.080056   \n",
       "3424        -118.408075     JFK           12         40.639751   \n",
       "4081        -118.408075     SEA           18         47.449000   \n",
       "5505         -97.037997     DEN            5         39.861656   \n",
       "\n",
       "      LatitudeArrival  WeeksToDeparture    std_wtd  holidays  Season  \n",
       "2755       -87.904842          7.923077   7.847096         0       0  \n",
       "1941      -115.152250          7.777778   5.610448         0       0  \n",
       "3424       -73.778925         18.945946  12.402836         0       2  \n",
       "4081      -122.309306         11.833333   9.276744         0       0  \n",
       "5505      -104.673178          9.055556   6.457756         0       0  "
      ]
     },
     "execution_count": 453,
     "metadata": {},
     "output_type": "execute_result"
    }
   ],
   "source": [
    "enc.fit(df_train['Season'])\n",
    "df_train['Season'] = enc.transform(df_train['Season'])\n",
    "\n",
    "df_train.head()"
   ]
  },
  {
   "cell_type": "markdown",
   "metadata": {},
   "source": [
    "Μετατροπή των `seasons` του πίνακα `df_test` σε αριθμητικές τιμές που αντιστοιχούν στις εποχές."
   ]
  },
  {
   "cell_type": "code",
   "execution_count": 454,
   "metadata": {
    "scrolled": true
   },
   "outputs": [
    {
     "data": {
      "text/html": [
       "<div>\n",
       "<style scoped>\n",
       "    .dataframe tbody tr th:only-of-type {\n",
       "        vertical-align: middle;\n",
       "    }\n",
       "\n",
       "    .dataframe tbody tr th {\n",
       "        vertical-align: top;\n",
       "    }\n",
       "\n",
       "    .dataframe thead th {\n",
       "        text-align: right;\n",
       "    }\n",
       "</style>\n",
       "<table border=\"1\" class=\"dataframe\">\n",
       "  <thead>\n",
       "    <tr style=\"text-align: right;\">\n",
       "      <th></th>\n",
       "      <th>DateOfDeparture</th>\n",
       "      <th>Departure</th>\n",
       "      <th>CityDeparture</th>\n",
       "      <th>LongitudeDeparture</th>\n",
       "      <th>LatitudeDeparture</th>\n",
       "      <th>Arrival</th>\n",
       "      <th>CityArrival</th>\n",
       "      <th>LongitudeArrival</th>\n",
       "      <th>LatitudeArrival</th>\n",
       "      <th>WeeksToDeparture</th>\n",
       "      <th>std_wtd</th>\n",
       "      <th>holidays</th>\n",
       "      <th>Season</th>\n",
       "    </tr>\n",
       "  </thead>\n",
       "  <tbody>\n",
       "    <tr>\n",
       "      <th>8833</th>\n",
       "      <td>2012-04-10</td>\n",
       "      <td>LAX</td>\n",
       "      <td>9</td>\n",
       "      <td>33.942536</td>\n",
       "      <td>-118.408075</td>\n",
       "      <td>DEN</td>\n",
       "      <td>5</td>\n",
       "      <td>39.861656</td>\n",
       "      <td>-104.673178</td>\n",
       "      <td>11.619048</td>\n",
       "      <td>9.069047</td>\n",
       "      <td>0</td>\n",
       "      <td>1</td>\n",
       "    </tr>\n",
       "    <tr>\n",
       "      <th>2025</th>\n",
       "      <td>2012-02-27</td>\n",
       "      <td>LAX</td>\n",
       "      <td>9</td>\n",
       "      <td>33.942536</td>\n",
       "      <td>-118.408075</td>\n",
       "      <td>SEA</td>\n",
       "      <td>18</td>\n",
       "      <td>47.449000</td>\n",
       "      <td>-122.309306</td>\n",
       "      <td>10.913043</td>\n",
       "      <td>8.289715</td>\n",
       "      <td>0</td>\n",
       "      <td>3</td>\n",
       "    </tr>\n",
       "    <tr>\n",
       "      <th>8209</th>\n",
       "      <td>2012-03-25</td>\n",
       "      <td>DFW</td>\n",
       "      <td>4</td>\n",
       "      <td>32.896828</td>\n",
       "      <td>-97.037997</td>\n",
       "      <td>PHL</td>\n",
       "      <td>15</td>\n",
       "      <td>39.871944</td>\n",
       "      <td>-75.241139</td>\n",
       "      <td>8.066667</td>\n",
       "      <td>6.562520</td>\n",
       "      <td>0</td>\n",
       "      <td>1</td>\n",
       "    </tr>\n",
       "    <tr>\n",
       "      <th>7870</th>\n",
       "      <td>2011-11-08</td>\n",
       "      <td>DFW</td>\n",
       "      <td>4</td>\n",
       "      <td>32.896828</td>\n",
       "      <td>-97.037997</td>\n",
       "      <td>SFO</td>\n",
       "      <td>17</td>\n",
       "      <td>37.618972</td>\n",
       "      <td>-122.374889</td>\n",
       "      <td>12.250000</td>\n",
       "      <td>8.033896</td>\n",
       "      <td>0</td>\n",
       "      <td>0</td>\n",
       "    </tr>\n",
       "    <tr>\n",
       "      <th>8085</th>\n",
       "      <td>2012-09-10</td>\n",
       "      <td>ATL</td>\n",
       "      <td>0</td>\n",
       "      <td>33.636719</td>\n",
       "      <td>-84.428067</td>\n",
       "      <td>ORD</td>\n",
       "      <td>3</td>\n",
       "      <td>41.978603</td>\n",
       "      <td>-87.904842</td>\n",
       "      <td>8.850000</td>\n",
       "      <td>6.318519</td>\n",
       "      <td>0</td>\n",
       "      <td>0</td>\n",
       "    </tr>\n",
       "  </tbody>\n",
       "</table>\n",
       "</div>"
      ],
      "text/plain": [
       "     DateOfDeparture Departure  CityDeparture  LongitudeDeparture  \\\n",
       "8833      2012-04-10       LAX              9           33.942536   \n",
       "2025      2012-02-27       LAX              9           33.942536   \n",
       "8209      2012-03-25       DFW              4           32.896828   \n",
       "7870      2011-11-08       DFW              4           32.896828   \n",
       "8085      2012-09-10       ATL              0           33.636719   \n",
       "\n",
       "      LatitudeDeparture Arrival  CityArrival  LongitudeArrival  \\\n",
       "8833        -118.408075     DEN            5         39.861656   \n",
       "2025        -118.408075     SEA           18         47.449000   \n",
       "8209         -97.037997     PHL           15         39.871944   \n",
       "7870         -97.037997     SFO           17         37.618972   \n",
       "8085         -84.428067     ORD            3         41.978603   \n",
       "\n",
       "      LatitudeArrival  WeeksToDeparture   std_wtd  holidays  Season  \n",
       "8833      -104.673178         11.619048  9.069047         0       1  \n",
       "2025      -122.309306         10.913043  8.289715         0       3  \n",
       "8209       -75.241139          8.066667  6.562520         0       1  \n",
       "7870      -122.374889         12.250000  8.033896         0       0  \n",
       "8085       -87.904842          8.850000  6.318519         0       0  "
      ]
     },
     "execution_count": 454,
     "metadata": {},
     "output_type": "execute_result"
    }
   ],
   "source": [
    "enc.fit(df_test['Season'])\n",
    "df_test['Season'] = enc.transform(df_test['Season'])\n",
    "\n",
    "df_test.head()"
   ]
  },
  {
   "cell_type": "markdown",
   "metadata": {},
   "source": [
    "Διαχωρίζουμε το χρόνο, το μήνα και τη μέρα της αναχώρησης στους `df_train` και `df_test` από το `DateOfDeparture`."
   ]
  },
  {
   "cell_type": "code",
   "execution_count": 455,
   "metadata": {},
   "outputs": [],
   "source": [
    "def year_from_date(string_date):\n",
    "    return string_to_date(string_date).year\n",
    "\n",
    "def month_from_date(string_date):\n",
    "    return string_to_date(string_date).month\n",
    "\n",
    "def day_from_date(string_date):\n",
    "    return string_to_date(string_date).weekday()"
   ]
  },
  {
   "cell_type": "code",
   "execution_count": 456,
   "metadata": {
    "scrolled": true
   },
   "outputs": [
    {
     "data": {
      "text/html": [
       "<div>\n",
       "<style scoped>\n",
       "    .dataframe tbody tr th:only-of-type {\n",
       "        vertical-align: middle;\n",
       "    }\n",
       "\n",
       "    .dataframe tbody tr th {\n",
       "        vertical-align: top;\n",
       "    }\n",
       "\n",
       "    .dataframe thead th {\n",
       "        text-align: right;\n",
       "    }\n",
       "</style>\n",
       "<table border=\"1\" class=\"dataframe\">\n",
       "  <thead>\n",
       "    <tr style=\"text-align: right;\">\n",
       "      <th></th>\n",
       "      <th>DateOfDeparture</th>\n",
       "      <th>Departure</th>\n",
       "      <th>CityDeparture</th>\n",
       "      <th>LongitudeDeparture</th>\n",
       "      <th>LatitudeDeparture</th>\n",
       "      <th>Arrival</th>\n",
       "      <th>CityArrival</th>\n",
       "      <th>LongitudeArrival</th>\n",
       "      <th>LatitudeArrival</th>\n",
       "      <th>WeeksToDeparture</th>\n",
       "      <th>std_wtd</th>\n",
       "      <th>holidays</th>\n",
       "      <th>Season</th>\n",
       "      <th>YearOfDeparture</th>\n",
       "      <th>MonthOfDeparture</th>\n",
       "      <th>DayOfDeparture</th>\n",
       "    </tr>\n",
       "  </thead>\n",
       "  <tbody>\n",
       "    <tr>\n",
       "      <th>2755</th>\n",
       "      <td>2011-11-09</td>\n",
       "      <td>IAH</td>\n",
       "      <td>7</td>\n",
       "      <td>29.984433</td>\n",
       "      <td>-95.341442</td>\n",
       "      <td>ORD</td>\n",
       "      <td>3</td>\n",
       "      <td>41.978603</td>\n",
       "      <td>-87.904842</td>\n",
       "      <td>7.923077</td>\n",
       "      <td>7.847096</td>\n",
       "      <td>0</td>\n",
       "      <td>0</td>\n",
       "      <td>2011</td>\n",
       "      <td>11</td>\n",
       "      <td>2</td>\n",
       "    </tr>\n",
       "    <tr>\n",
       "      <th>1941</th>\n",
       "      <td>2012-11-02</td>\n",
       "      <td>DFW</td>\n",
       "      <td>4</td>\n",
       "      <td>32.896828</td>\n",
       "      <td>-97.037997</td>\n",
       "      <td>LAS</td>\n",
       "      <td>8</td>\n",
       "      <td>36.080056</td>\n",
       "      <td>-115.152250</td>\n",
       "      <td>7.777778</td>\n",
       "      <td>5.610448</td>\n",
       "      <td>0</td>\n",
       "      <td>0</td>\n",
       "      <td>2012</td>\n",
       "      <td>11</td>\n",
       "      <td>4</td>\n",
       "    </tr>\n",
       "    <tr>\n",
       "      <th>3424</th>\n",
       "      <td>2012-08-03</td>\n",
       "      <td>LAX</td>\n",
       "      <td>9</td>\n",
       "      <td>33.942536</td>\n",
       "      <td>-118.408075</td>\n",
       "      <td>JFK</td>\n",
       "      <td>12</td>\n",
       "      <td>40.639751</td>\n",
       "      <td>-73.778925</td>\n",
       "      <td>18.945946</td>\n",
       "      <td>12.402836</td>\n",
       "      <td>0</td>\n",
       "      <td>2</td>\n",
       "      <td>2012</td>\n",
       "      <td>8</td>\n",
       "      <td>4</td>\n",
       "    </tr>\n",
       "    <tr>\n",
       "      <th>4081</th>\n",
       "      <td>2012-09-21</td>\n",
       "      <td>LAX</td>\n",
       "      <td>9</td>\n",
       "      <td>33.942536</td>\n",
       "      <td>-118.408075</td>\n",
       "      <td>SEA</td>\n",
       "      <td>18</td>\n",
       "      <td>47.449000</td>\n",
       "      <td>-122.309306</td>\n",
       "      <td>11.833333</td>\n",
       "      <td>9.276744</td>\n",
       "      <td>0</td>\n",
       "      <td>0</td>\n",
       "      <td>2012</td>\n",
       "      <td>9</td>\n",
       "      <td>4</td>\n",
       "    </tr>\n",
       "    <tr>\n",
       "      <th>5505</th>\n",
       "      <td>2011-09-12</td>\n",
       "      <td>DFW</td>\n",
       "      <td>4</td>\n",
       "      <td>32.896828</td>\n",
       "      <td>-97.037997</td>\n",
       "      <td>DEN</td>\n",
       "      <td>5</td>\n",
       "      <td>39.861656</td>\n",
       "      <td>-104.673178</td>\n",
       "      <td>9.055556</td>\n",
       "      <td>6.457756</td>\n",
       "      <td>0</td>\n",
       "      <td>0</td>\n",
       "      <td>2011</td>\n",
       "      <td>9</td>\n",
       "      <td>0</td>\n",
       "    </tr>\n",
       "  </tbody>\n",
       "</table>\n",
       "</div>"
      ],
      "text/plain": [
       "     DateOfDeparture Departure  CityDeparture  LongitudeDeparture  \\\n",
       "2755      2011-11-09       IAH              7           29.984433   \n",
       "1941      2012-11-02       DFW              4           32.896828   \n",
       "3424      2012-08-03       LAX              9           33.942536   \n",
       "4081      2012-09-21       LAX              9           33.942536   \n",
       "5505      2011-09-12       DFW              4           32.896828   \n",
       "\n",
       "      LatitudeDeparture Arrival  CityArrival  LongitudeArrival  \\\n",
       "2755         -95.341442     ORD            3         41.978603   \n",
       "1941         -97.037997     LAS            8         36.080056   \n",
       "3424        -118.408075     JFK           12         40.639751   \n",
       "4081        -118.408075     SEA           18         47.449000   \n",
       "5505         -97.037997     DEN            5         39.861656   \n",
       "\n",
       "      LatitudeArrival  WeeksToDeparture    std_wtd  holidays  Season  \\\n",
       "2755       -87.904842          7.923077   7.847096         0       0   \n",
       "1941      -115.152250          7.777778   5.610448         0       0   \n",
       "3424       -73.778925         18.945946  12.402836         0       2   \n",
       "4081      -122.309306         11.833333   9.276744         0       0   \n",
       "5505      -104.673178          9.055556   6.457756         0       0   \n",
       "\n",
       "      YearOfDeparture  MonthOfDeparture  DayOfDeparture  \n",
       "2755             2011                11               2  \n",
       "1941             2012                11               4  \n",
       "3424             2012                 8               4  \n",
       "4081             2012                 9               4  \n",
       "5505             2011                 9               0  "
      ]
     },
     "execution_count": 456,
     "metadata": {},
     "output_type": "execute_result"
    }
   ],
   "source": [
    "df_train['YearOfDeparture'] = df_train['DateOfDeparture'].apply(year_from_date)\n",
    "df_train['MonthOfDeparture'] = df_train['DateOfDeparture'].apply(month_from_date)\n",
    "df_train['DayOfDeparture'] = df_train['DateOfDeparture'].apply(day_from_date)\n",
    "\n",
    "df_train.head()"
   ]
  },
  {
   "cell_type": "code",
   "execution_count": 457,
   "metadata": {
    "scrolled": true
   },
   "outputs": [
    {
     "data": {
      "text/html": [
       "<div>\n",
       "<style scoped>\n",
       "    .dataframe tbody tr th:only-of-type {\n",
       "        vertical-align: middle;\n",
       "    }\n",
       "\n",
       "    .dataframe tbody tr th {\n",
       "        vertical-align: top;\n",
       "    }\n",
       "\n",
       "    .dataframe thead th {\n",
       "        text-align: right;\n",
       "    }\n",
       "</style>\n",
       "<table border=\"1\" class=\"dataframe\">\n",
       "  <thead>\n",
       "    <tr style=\"text-align: right;\">\n",
       "      <th></th>\n",
       "      <th>DateOfDeparture</th>\n",
       "      <th>Departure</th>\n",
       "      <th>CityDeparture</th>\n",
       "      <th>LongitudeDeparture</th>\n",
       "      <th>LatitudeDeparture</th>\n",
       "      <th>Arrival</th>\n",
       "      <th>CityArrival</th>\n",
       "      <th>LongitudeArrival</th>\n",
       "      <th>LatitudeArrival</th>\n",
       "      <th>WeeksToDeparture</th>\n",
       "      <th>std_wtd</th>\n",
       "      <th>holidays</th>\n",
       "      <th>Season</th>\n",
       "      <th>YearOfDeparture</th>\n",
       "      <th>MonthOfDeparture</th>\n",
       "      <th>DayOfDeparture</th>\n",
       "    </tr>\n",
       "  </thead>\n",
       "  <tbody>\n",
       "    <tr>\n",
       "      <th>8833</th>\n",
       "      <td>2012-04-10</td>\n",
       "      <td>LAX</td>\n",
       "      <td>9</td>\n",
       "      <td>33.942536</td>\n",
       "      <td>-118.408075</td>\n",
       "      <td>DEN</td>\n",
       "      <td>5</td>\n",
       "      <td>39.861656</td>\n",
       "      <td>-104.673178</td>\n",
       "      <td>11.619048</td>\n",
       "      <td>9.069047</td>\n",
       "      <td>0</td>\n",
       "      <td>1</td>\n",
       "      <td>2012</td>\n",
       "      <td>4</td>\n",
       "      <td>1</td>\n",
       "    </tr>\n",
       "    <tr>\n",
       "      <th>2025</th>\n",
       "      <td>2012-02-27</td>\n",
       "      <td>LAX</td>\n",
       "      <td>9</td>\n",
       "      <td>33.942536</td>\n",
       "      <td>-118.408075</td>\n",
       "      <td>SEA</td>\n",
       "      <td>18</td>\n",
       "      <td>47.449000</td>\n",
       "      <td>-122.309306</td>\n",
       "      <td>10.913043</td>\n",
       "      <td>8.289715</td>\n",
       "      <td>0</td>\n",
       "      <td>3</td>\n",
       "      <td>2012</td>\n",
       "      <td>2</td>\n",
       "      <td>0</td>\n",
       "    </tr>\n",
       "    <tr>\n",
       "      <th>8209</th>\n",
       "      <td>2012-03-25</td>\n",
       "      <td>DFW</td>\n",
       "      <td>4</td>\n",
       "      <td>32.896828</td>\n",
       "      <td>-97.037997</td>\n",
       "      <td>PHL</td>\n",
       "      <td>15</td>\n",
       "      <td>39.871944</td>\n",
       "      <td>-75.241139</td>\n",
       "      <td>8.066667</td>\n",
       "      <td>6.562520</td>\n",
       "      <td>0</td>\n",
       "      <td>1</td>\n",
       "      <td>2012</td>\n",
       "      <td>3</td>\n",
       "      <td>6</td>\n",
       "    </tr>\n",
       "    <tr>\n",
       "      <th>7870</th>\n",
       "      <td>2011-11-08</td>\n",
       "      <td>DFW</td>\n",
       "      <td>4</td>\n",
       "      <td>32.896828</td>\n",
       "      <td>-97.037997</td>\n",
       "      <td>SFO</td>\n",
       "      <td>17</td>\n",
       "      <td>37.618972</td>\n",
       "      <td>-122.374889</td>\n",
       "      <td>12.250000</td>\n",
       "      <td>8.033896</td>\n",
       "      <td>0</td>\n",
       "      <td>0</td>\n",
       "      <td>2011</td>\n",
       "      <td>11</td>\n",
       "      <td>1</td>\n",
       "    </tr>\n",
       "    <tr>\n",
       "      <th>8085</th>\n",
       "      <td>2012-09-10</td>\n",
       "      <td>ATL</td>\n",
       "      <td>0</td>\n",
       "      <td>33.636719</td>\n",
       "      <td>-84.428067</td>\n",
       "      <td>ORD</td>\n",
       "      <td>3</td>\n",
       "      <td>41.978603</td>\n",
       "      <td>-87.904842</td>\n",
       "      <td>8.850000</td>\n",
       "      <td>6.318519</td>\n",
       "      <td>0</td>\n",
       "      <td>0</td>\n",
       "      <td>2012</td>\n",
       "      <td>9</td>\n",
       "      <td>0</td>\n",
       "    </tr>\n",
       "  </tbody>\n",
       "</table>\n",
       "</div>"
      ],
      "text/plain": [
       "     DateOfDeparture Departure  CityDeparture  LongitudeDeparture  \\\n",
       "8833      2012-04-10       LAX              9           33.942536   \n",
       "2025      2012-02-27       LAX              9           33.942536   \n",
       "8209      2012-03-25       DFW              4           32.896828   \n",
       "7870      2011-11-08       DFW              4           32.896828   \n",
       "8085      2012-09-10       ATL              0           33.636719   \n",
       "\n",
       "      LatitudeDeparture Arrival  CityArrival  LongitudeArrival  \\\n",
       "8833        -118.408075     DEN            5         39.861656   \n",
       "2025        -118.408075     SEA           18         47.449000   \n",
       "8209         -97.037997     PHL           15         39.871944   \n",
       "7870         -97.037997     SFO           17         37.618972   \n",
       "8085         -84.428067     ORD            3         41.978603   \n",
       "\n",
       "      LatitudeArrival  WeeksToDeparture   std_wtd  holidays  Season  \\\n",
       "8833      -104.673178         11.619048  9.069047         0       1   \n",
       "2025      -122.309306         10.913043  8.289715         0       3   \n",
       "8209       -75.241139          8.066667  6.562520         0       1   \n",
       "7870      -122.374889         12.250000  8.033896         0       0   \n",
       "8085       -87.904842          8.850000  6.318519         0       0   \n",
       "\n",
       "      YearOfDeparture  MonthOfDeparture  DayOfDeparture  \n",
       "8833             2012                 4               1  \n",
       "2025             2012                 2               0  \n",
       "8209             2012                 3               6  \n",
       "7870             2011                11               1  \n",
       "8085             2012                 9               0  "
      ]
     },
     "execution_count": 457,
     "metadata": {},
     "output_type": "execute_result"
    }
   ],
   "source": [
    "df_test['YearOfDeparture'] = df_test['DateOfDeparture'].apply(year_from_date)\n",
    "df_test['MonthOfDeparture'] = df_test['DateOfDeparture'].apply(month_from_date)\n",
    "df_test['DayOfDeparture'] = df_test['DateOfDeparture'].apply(day_from_date)\n",
    "\n",
    "df_test.head()"
   ]
  },
  {
   "cell_type": "markdown",
   "metadata": {},
   "source": [
    "Αφαίρεση της στήλης `DateOfDeparture` από τους `df_train` και `df_test`."
   ]
  },
  {
   "cell_type": "code",
   "execution_count": 458,
   "metadata": {},
   "outputs": [
    {
     "data": {
      "text/html": [
       "<div>\n",
       "<style scoped>\n",
       "    .dataframe tbody tr th:only-of-type {\n",
       "        vertical-align: middle;\n",
       "    }\n",
       "\n",
       "    .dataframe tbody tr th {\n",
       "        vertical-align: top;\n",
       "    }\n",
       "\n",
       "    .dataframe thead th {\n",
       "        text-align: right;\n",
       "    }\n",
       "</style>\n",
       "<table border=\"1\" class=\"dataframe\">\n",
       "  <thead>\n",
       "    <tr style=\"text-align: right;\">\n",
       "      <th></th>\n",
       "      <th>Departure</th>\n",
       "      <th>CityDeparture</th>\n",
       "      <th>LongitudeDeparture</th>\n",
       "      <th>LatitudeDeparture</th>\n",
       "      <th>Arrival</th>\n",
       "      <th>CityArrival</th>\n",
       "      <th>LongitudeArrival</th>\n",
       "      <th>LatitudeArrival</th>\n",
       "      <th>WeeksToDeparture</th>\n",
       "      <th>std_wtd</th>\n",
       "      <th>holidays</th>\n",
       "      <th>Season</th>\n",
       "      <th>YearOfDeparture</th>\n",
       "      <th>MonthOfDeparture</th>\n",
       "      <th>DayOfDeparture</th>\n",
       "    </tr>\n",
       "  </thead>\n",
       "  <tbody>\n",
       "    <tr>\n",
       "      <th>2755</th>\n",
       "      <td>IAH</td>\n",
       "      <td>7</td>\n",
       "      <td>29.984433</td>\n",
       "      <td>-95.341442</td>\n",
       "      <td>ORD</td>\n",
       "      <td>3</td>\n",
       "      <td>41.978603</td>\n",
       "      <td>-87.904842</td>\n",
       "      <td>7.923077</td>\n",
       "      <td>7.847096</td>\n",
       "      <td>0</td>\n",
       "      <td>0</td>\n",
       "      <td>2011</td>\n",
       "      <td>11</td>\n",
       "      <td>2</td>\n",
       "    </tr>\n",
       "    <tr>\n",
       "      <th>1941</th>\n",
       "      <td>DFW</td>\n",
       "      <td>4</td>\n",
       "      <td>32.896828</td>\n",
       "      <td>-97.037997</td>\n",
       "      <td>LAS</td>\n",
       "      <td>8</td>\n",
       "      <td>36.080056</td>\n",
       "      <td>-115.152250</td>\n",
       "      <td>7.777778</td>\n",
       "      <td>5.610448</td>\n",
       "      <td>0</td>\n",
       "      <td>0</td>\n",
       "      <td>2012</td>\n",
       "      <td>11</td>\n",
       "      <td>4</td>\n",
       "    </tr>\n",
       "    <tr>\n",
       "      <th>3424</th>\n",
       "      <td>LAX</td>\n",
       "      <td>9</td>\n",
       "      <td>33.942536</td>\n",
       "      <td>-118.408075</td>\n",
       "      <td>JFK</td>\n",
       "      <td>12</td>\n",
       "      <td>40.639751</td>\n",
       "      <td>-73.778925</td>\n",
       "      <td>18.945946</td>\n",
       "      <td>12.402836</td>\n",
       "      <td>0</td>\n",
       "      <td>2</td>\n",
       "      <td>2012</td>\n",
       "      <td>8</td>\n",
       "      <td>4</td>\n",
       "    </tr>\n",
       "    <tr>\n",
       "      <th>4081</th>\n",
       "      <td>LAX</td>\n",
       "      <td>9</td>\n",
       "      <td>33.942536</td>\n",
       "      <td>-118.408075</td>\n",
       "      <td>SEA</td>\n",
       "      <td>18</td>\n",
       "      <td>47.449000</td>\n",
       "      <td>-122.309306</td>\n",
       "      <td>11.833333</td>\n",
       "      <td>9.276744</td>\n",
       "      <td>0</td>\n",
       "      <td>0</td>\n",
       "      <td>2012</td>\n",
       "      <td>9</td>\n",
       "      <td>4</td>\n",
       "    </tr>\n",
       "    <tr>\n",
       "      <th>5505</th>\n",
       "      <td>DFW</td>\n",
       "      <td>4</td>\n",
       "      <td>32.896828</td>\n",
       "      <td>-97.037997</td>\n",
       "      <td>DEN</td>\n",
       "      <td>5</td>\n",
       "      <td>39.861656</td>\n",
       "      <td>-104.673178</td>\n",
       "      <td>9.055556</td>\n",
       "      <td>6.457756</td>\n",
       "      <td>0</td>\n",
       "      <td>0</td>\n",
       "      <td>2011</td>\n",
       "      <td>9</td>\n",
       "      <td>0</td>\n",
       "    </tr>\n",
       "  </tbody>\n",
       "</table>\n",
       "</div>"
      ],
      "text/plain": [
       "     Departure  CityDeparture  LongitudeDeparture  LatitudeDeparture Arrival  \\\n",
       "2755       IAH              7           29.984433         -95.341442     ORD   \n",
       "1941       DFW              4           32.896828         -97.037997     LAS   \n",
       "3424       LAX              9           33.942536        -118.408075     JFK   \n",
       "4081       LAX              9           33.942536        -118.408075     SEA   \n",
       "5505       DFW              4           32.896828         -97.037997     DEN   \n",
       "\n",
       "      CityArrival  LongitudeArrival  LatitudeArrival  WeeksToDeparture  \\\n",
       "2755            3         41.978603       -87.904842          7.923077   \n",
       "1941            8         36.080056      -115.152250          7.777778   \n",
       "3424           12         40.639751       -73.778925         18.945946   \n",
       "4081           18         47.449000      -122.309306         11.833333   \n",
       "5505            5         39.861656      -104.673178          9.055556   \n",
       "\n",
       "        std_wtd  holidays  Season  YearOfDeparture  MonthOfDeparture  \\\n",
       "2755   7.847096         0       0             2011                11   \n",
       "1941   5.610448         0       0             2012                11   \n",
       "3424  12.402836         0       2             2012                 8   \n",
       "4081   9.276744         0       0             2012                 9   \n",
       "5505   6.457756         0       0             2011                 9   \n",
       "\n",
       "      DayOfDeparture  \n",
       "2755               2  \n",
       "1941               4  \n",
       "3424               4  \n",
       "4081               4  \n",
       "5505               0  "
      ]
     },
     "execution_count": 458,
     "metadata": {},
     "output_type": "execute_result"
    }
   ],
   "source": [
    "df_train.drop(['DateOfDeparture'], axis=1, inplace=True)\n",
    "\n",
    "df_train.head()"
   ]
  },
  {
   "cell_type": "code",
   "execution_count": 459,
   "metadata": {},
   "outputs": [
    {
     "data": {
      "text/html": [
       "<div>\n",
       "<style scoped>\n",
       "    .dataframe tbody tr th:only-of-type {\n",
       "        vertical-align: middle;\n",
       "    }\n",
       "\n",
       "    .dataframe tbody tr th {\n",
       "        vertical-align: top;\n",
       "    }\n",
       "\n",
       "    .dataframe thead th {\n",
       "        text-align: right;\n",
       "    }\n",
       "</style>\n",
       "<table border=\"1\" class=\"dataframe\">\n",
       "  <thead>\n",
       "    <tr style=\"text-align: right;\">\n",
       "      <th></th>\n",
       "      <th>Departure</th>\n",
       "      <th>CityDeparture</th>\n",
       "      <th>LongitudeDeparture</th>\n",
       "      <th>LatitudeDeparture</th>\n",
       "      <th>Arrival</th>\n",
       "      <th>CityArrival</th>\n",
       "      <th>LongitudeArrival</th>\n",
       "      <th>LatitudeArrival</th>\n",
       "      <th>WeeksToDeparture</th>\n",
       "      <th>std_wtd</th>\n",
       "      <th>holidays</th>\n",
       "      <th>Season</th>\n",
       "      <th>YearOfDeparture</th>\n",
       "      <th>MonthOfDeparture</th>\n",
       "      <th>DayOfDeparture</th>\n",
       "    </tr>\n",
       "  </thead>\n",
       "  <tbody>\n",
       "    <tr>\n",
       "      <th>8833</th>\n",
       "      <td>LAX</td>\n",
       "      <td>9</td>\n",
       "      <td>33.942536</td>\n",
       "      <td>-118.408075</td>\n",
       "      <td>DEN</td>\n",
       "      <td>5</td>\n",
       "      <td>39.861656</td>\n",
       "      <td>-104.673178</td>\n",
       "      <td>11.619048</td>\n",
       "      <td>9.069047</td>\n",
       "      <td>0</td>\n",
       "      <td>1</td>\n",
       "      <td>2012</td>\n",
       "      <td>4</td>\n",
       "      <td>1</td>\n",
       "    </tr>\n",
       "    <tr>\n",
       "      <th>2025</th>\n",
       "      <td>LAX</td>\n",
       "      <td>9</td>\n",
       "      <td>33.942536</td>\n",
       "      <td>-118.408075</td>\n",
       "      <td>SEA</td>\n",
       "      <td>18</td>\n",
       "      <td>47.449000</td>\n",
       "      <td>-122.309306</td>\n",
       "      <td>10.913043</td>\n",
       "      <td>8.289715</td>\n",
       "      <td>0</td>\n",
       "      <td>3</td>\n",
       "      <td>2012</td>\n",
       "      <td>2</td>\n",
       "      <td>0</td>\n",
       "    </tr>\n",
       "    <tr>\n",
       "      <th>8209</th>\n",
       "      <td>DFW</td>\n",
       "      <td>4</td>\n",
       "      <td>32.896828</td>\n",
       "      <td>-97.037997</td>\n",
       "      <td>PHL</td>\n",
       "      <td>15</td>\n",
       "      <td>39.871944</td>\n",
       "      <td>-75.241139</td>\n",
       "      <td>8.066667</td>\n",
       "      <td>6.562520</td>\n",
       "      <td>0</td>\n",
       "      <td>1</td>\n",
       "      <td>2012</td>\n",
       "      <td>3</td>\n",
       "      <td>6</td>\n",
       "    </tr>\n",
       "    <tr>\n",
       "      <th>7870</th>\n",
       "      <td>DFW</td>\n",
       "      <td>4</td>\n",
       "      <td>32.896828</td>\n",
       "      <td>-97.037997</td>\n",
       "      <td>SFO</td>\n",
       "      <td>17</td>\n",
       "      <td>37.618972</td>\n",
       "      <td>-122.374889</td>\n",
       "      <td>12.250000</td>\n",
       "      <td>8.033896</td>\n",
       "      <td>0</td>\n",
       "      <td>0</td>\n",
       "      <td>2011</td>\n",
       "      <td>11</td>\n",
       "      <td>1</td>\n",
       "    </tr>\n",
       "    <tr>\n",
       "      <th>8085</th>\n",
       "      <td>ATL</td>\n",
       "      <td>0</td>\n",
       "      <td>33.636719</td>\n",
       "      <td>-84.428067</td>\n",
       "      <td>ORD</td>\n",
       "      <td>3</td>\n",
       "      <td>41.978603</td>\n",
       "      <td>-87.904842</td>\n",
       "      <td>8.850000</td>\n",
       "      <td>6.318519</td>\n",
       "      <td>0</td>\n",
       "      <td>0</td>\n",
       "      <td>2012</td>\n",
       "      <td>9</td>\n",
       "      <td>0</td>\n",
       "    </tr>\n",
       "  </tbody>\n",
       "</table>\n",
       "</div>"
      ],
      "text/plain": [
       "     Departure  CityDeparture  LongitudeDeparture  LatitudeDeparture Arrival  \\\n",
       "8833       LAX              9           33.942536        -118.408075     DEN   \n",
       "2025       LAX              9           33.942536        -118.408075     SEA   \n",
       "8209       DFW              4           32.896828         -97.037997     PHL   \n",
       "7870       DFW              4           32.896828         -97.037997     SFO   \n",
       "8085       ATL              0           33.636719         -84.428067     ORD   \n",
       "\n",
       "      CityArrival  LongitudeArrival  LatitudeArrival  WeeksToDeparture  \\\n",
       "8833            5         39.861656      -104.673178         11.619048   \n",
       "2025           18         47.449000      -122.309306         10.913043   \n",
       "8209           15         39.871944       -75.241139          8.066667   \n",
       "7870           17         37.618972      -122.374889         12.250000   \n",
       "8085            3         41.978603       -87.904842          8.850000   \n",
       "\n",
       "       std_wtd  holidays  Season  YearOfDeparture  MonthOfDeparture  \\\n",
       "8833  9.069047         0       1             2012                 4   \n",
       "2025  8.289715         0       3             2012                 2   \n",
       "8209  6.562520         0       1             2012                 3   \n",
       "7870  8.033896         0       0             2011                11   \n",
       "8085  6.318519         0       0             2012                 9   \n",
       "\n",
       "      DayOfDeparture  \n",
       "8833               1  \n",
       "2025               0  \n",
       "8209               6  \n",
       "7870               1  \n",
       "8085               0  "
      ]
     },
     "execution_count": 459,
     "metadata": {},
     "output_type": "execute_result"
    }
   ],
   "source": [
    "df_test.drop(['DateOfDeparture'], axis=1, inplace=True)\n",
    "\n",
    "df_test.head()"
   ]
  },
  {
   "cell_type": "markdown",
   "metadata": {},
   "source": [
    "Δημιουργία συνάρτησης `calculateDistanceFromLatLon` που υπολογίζει την απόσταση μεταξύ 2 γεωγραφικών συντεταγμένων."
   ]
  },
  {
   "cell_type": "code",
   "execution_count": 460,
   "metadata": {},
   "outputs": [],
   "source": [
    "from math import sin, cos, sqrt, atan2, radians\n",
    "def calculateDistanceFromLatLon(lon1, lat1, lon2, lat2):\n",
    "    # approximate radius of earth in km\n",
    "    R = 6373.0\n",
    "    \n",
    "    lon1 = radians(abs(lon1))\n",
    "    lat1 = radians(abs(lat1))\n",
    "    lon2 = radians(abs(lon2))\n",
    "    lat2 = radians(abs(lat2))\n",
    "\n",
    "    dlon = lon2 - lon1\n",
    "    dlat = lat2 - lat1\n",
    "\n",
    "    a = sin(dlat / 2)**2 + cos(lat1) * cos(lat2) * sin(dlon / 2)**2\n",
    "    c = 2 * atan2(sqrt(a), sqrt(1 - a))\n",
    "\n",
    "    return R * c"
   ]
  },
  {
   "cell_type": "markdown",
   "metadata": {},
   "source": [
    "Χρήση της συνάρτησης `calculateDistanceFromLatLon` στους `df_train` και `df_test`."
   ]
  },
  {
   "cell_type": "code",
   "execution_count": 461,
   "metadata": {},
   "outputs": [
    {
     "data": {
      "text/html": [
       "<div>\n",
       "<style scoped>\n",
       "    .dataframe tbody tr th:only-of-type {\n",
       "        vertical-align: middle;\n",
       "    }\n",
       "\n",
       "    .dataframe tbody tr th {\n",
       "        vertical-align: top;\n",
       "    }\n",
       "\n",
       "    .dataframe thead th {\n",
       "        text-align: right;\n",
       "    }\n",
       "</style>\n",
       "<table border=\"1\" class=\"dataframe\">\n",
       "  <thead>\n",
       "    <tr style=\"text-align: right;\">\n",
       "      <th></th>\n",
       "      <th>Departure</th>\n",
       "      <th>CityDeparture</th>\n",
       "      <th>LongitudeDeparture</th>\n",
       "      <th>LatitudeDeparture</th>\n",
       "      <th>Arrival</th>\n",
       "      <th>CityArrival</th>\n",
       "      <th>LongitudeArrival</th>\n",
       "      <th>LatitudeArrival</th>\n",
       "      <th>WeeksToDeparture</th>\n",
       "      <th>std_wtd</th>\n",
       "      <th>holidays</th>\n",
       "      <th>Season</th>\n",
       "      <th>YearOfDeparture</th>\n",
       "      <th>MonthOfDeparture</th>\n",
       "      <th>DayOfDeparture</th>\n",
       "      <th>Distance</th>\n",
       "    </tr>\n",
       "  </thead>\n",
       "  <tbody>\n",
       "    <tr>\n",
       "      <th>2755</th>\n",
       "      <td>IAH</td>\n",
       "      <td>7</td>\n",
       "      <td>29.984433</td>\n",
       "      <td>-95.341442</td>\n",
       "      <td>ORD</td>\n",
       "      <td>3</td>\n",
       "      <td>41.978603</td>\n",
       "      <td>-87.904842</td>\n",
       "      <td>7.923077</td>\n",
       "      <td>7.847096</td>\n",
       "      <td>0</td>\n",
       "      <td>0</td>\n",
       "      <td>2011</td>\n",
       "      <td>11</td>\n",
       "      <td>2</td>\n",
       "      <td>823.505267</td>\n",
       "    </tr>\n",
       "    <tr>\n",
       "      <th>1941</th>\n",
       "      <td>DFW</td>\n",
       "      <td>4</td>\n",
       "      <td>32.896828</td>\n",
       "      <td>-97.037997</td>\n",
       "      <td>LAS</td>\n",
       "      <td>8</td>\n",
       "      <td>36.080056</td>\n",
       "      <td>-115.152250</td>\n",
       "      <td>7.777778</td>\n",
       "      <td>5.610448</td>\n",
       "      <td>0</td>\n",
       "      <td>0</td>\n",
       "      <td>2012</td>\n",
       "      <td>11</td>\n",
       "      <td>4</td>\n",
       "      <td>2016.491722</td>\n",
       "    </tr>\n",
       "    <tr>\n",
       "      <th>3424</th>\n",
       "      <td>LAX</td>\n",
       "      <td>9</td>\n",
       "      <td>33.942536</td>\n",
       "      <td>-118.408075</td>\n",
       "      <td>JFK</td>\n",
       "      <td>12</td>\n",
       "      <td>40.639751</td>\n",
       "      <td>-73.778925</td>\n",
       "      <td>18.945946</td>\n",
       "      <td>12.402836</td>\n",
       "      <td>0</td>\n",
       "      <td>2</td>\n",
       "      <td>2012</td>\n",
       "      <td>8</td>\n",
       "      <td>4</td>\n",
       "      <td>4955.860858</td>\n",
       "    </tr>\n",
       "    <tr>\n",
       "      <th>4081</th>\n",
       "      <td>LAX</td>\n",
       "      <td>9</td>\n",
       "      <td>33.942536</td>\n",
       "      <td>-118.408075</td>\n",
       "      <td>SEA</td>\n",
       "      <td>18</td>\n",
       "      <td>47.449000</td>\n",
       "      <td>-122.309306</td>\n",
       "      <td>11.833333</td>\n",
       "      <td>9.276744</td>\n",
       "      <td>0</td>\n",
       "      <td>0</td>\n",
       "      <td>2012</td>\n",
       "      <td>9</td>\n",
       "      <td>4</td>\n",
       "      <td>872.162320</td>\n",
       "    </tr>\n",
       "    <tr>\n",
       "      <th>5505</th>\n",
       "      <td>DFW</td>\n",
       "      <td>4</td>\n",
       "      <td>32.896828</td>\n",
       "      <td>-97.037997</td>\n",
       "      <td>DEN</td>\n",
       "      <td>5</td>\n",
       "      <td>39.861656</td>\n",
       "      <td>-104.673178</td>\n",
       "      <td>9.055556</td>\n",
       "      <td>6.457756</td>\n",
       "      <td>0</td>\n",
       "      <td>0</td>\n",
       "      <td>2011</td>\n",
       "      <td>9</td>\n",
       "      <td>0</td>\n",
       "      <td>860.175726</td>\n",
       "    </tr>\n",
       "  </tbody>\n",
       "</table>\n",
       "</div>"
      ],
      "text/plain": [
       "     Departure  CityDeparture  LongitudeDeparture  LatitudeDeparture Arrival  \\\n",
       "2755       IAH              7           29.984433         -95.341442     ORD   \n",
       "1941       DFW              4           32.896828         -97.037997     LAS   \n",
       "3424       LAX              9           33.942536        -118.408075     JFK   \n",
       "4081       LAX              9           33.942536        -118.408075     SEA   \n",
       "5505       DFW              4           32.896828         -97.037997     DEN   \n",
       "\n",
       "      CityArrival  LongitudeArrival  LatitudeArrival  WeeksToDeparture  \\\n",
       "2755            3         41.978603       -87.904842          7.923077   \n",
       "1941            8         36.080056      -115.152250          7.777778   \n",
       "3424           12         40.639751       -73.778925         18.945946   \n",
       "4081           18         47.449000      -122.309306         11.833333   \n",
       "5505            5         39.861656      -104.673178          9.055556   \n",
       "\n",
       "        std_wtd  holidays  Season  YearOfDeparture  MonthOfDeparture  \\\n",
       "2755   7.847096         0       0             2011                11   \n",
       "1941   5.610448         0       0             2012                11   \n",
       "3424  12.402836         0       2             2012                 8   \n",
       "4081   9.276744         0       0             2012                 9   \n",
       "5505   6.457756         0       0             2011                 9   \n",
       "\n",
       "      DayOfDeparture     Distance  \n",
       "2755               2   823.505267  \n",
       "1941               4  2016.491722  \n",
       "3424               4  4955.860858  \n",
       "4081               4   872.162320  \n",
       "5505               0   860.175726  "
      ]
     },
     "execution_count": 461,
     "metadata": {},
     "output_type": "execute_result"
    }
   ],
   "source": [
    "distances = [calculateDistanceFromLatLon(row.LongitudeDeparture, row.LatitudeDeparture, row.LongitudeArrival, row.LatitudeArrival) for index, row in df_train.iterrows()]\n",
    "df_train['Distance'] = distances\n",
    "\n",
    "df_train.head()"
   ]
  },
  {
   "cell_type": "code",
   "execution_count": 462,
   "metadata": {
    "scrolled": true
   },
   "outputs": [
    {
     "data": {
      "text/html": [
       "<div>\n",
       "<style scoped>\n",
       "    .dataframe tbody tr th:only-of-type {\n",
       "        vertical-align: middle;\n",
       "    }\n",
       "\n",
       "    .dataframe tbody tr th {\n",
       "        vertical-align: top;\n",
       "    }\n",
       "\n",
       "    .dataframe thead th {\n",
       "        text-align: right;\n",
       "    }\n",
       "</style>\n",
       "<table border=\"1\" class=\"dataframe\">\n",
       "  <thead>\n",
       "    <tr style=\"text-align: right;\">\n",
       "      <th></th>\n",
       "      <th>Departure</th>\n",
       "      <th>CityDeparture</th>\n",
       "      <th>LongitudeDeparture</th>\n",
       "      <th>LatitudeDeparture</th>\n",
       "      <th>Arrival</th>\n",
       "      <th>CityArrival</th>\n",
       "      <th>LongitudeArrival</th>\n",
       "      <th>LatitudeArrival</th>\n",
       "      <th>WeeksToDeparture</th>\n",
       "      <th>std_wtd</th>\n",
       "      <th>holidays</th>\n",
       "      <th>Season</th>\n",
       "      <th>YearOfDeparture</th>\n",
       "      <th>MonthOfDeparture</th>\n",
       "      <th>DayOfDeparture</th>\n",
       "      <th>Distance</th>\n",
       "    </tr>\n",
       "  </thead>\n",
       "  <tbody>\n",
       "    <tr>\n",
       "      <th>8833</th>\n",
       "      <td>LAX</td>\n",
       "      <td>9</td>\n",
       "      <td>33.942536</td>\n",
       "      <td>-118.408075</td>\n",
       "      <td>DEN</td>\n",
       "      <td>5</td>\n",
       "      <td>39.861656</td>\n",
       "      <td>-104.673178</td>\n",
       "      <td>11.619048</td>\n",
       "      <td>9.069047</td>\n",
       "      <td>0</td>\n",
       "      <td>1</td>\n",
       "      <td>2012</td>\n",
       "      <td>4</td>\n",
       "      <td>1</td>\n",
       "      <td>1544.881662</td>\n",
       "    </tr>\n",
       "    <tr>\n",
       "      <th>2025</th>\n",
       "      <td>LAX</td>\n",
       "      <td>9</td>\n",
       "      <td>33.942536</td>\n",
       "      <td>-118.408075</td>\n",
       "      <td>SEA</td>\n",
       "      <td>18</td>\n",
       "      <td>47.449000</td>\n",
       "      <td>-122.309306</td>\n",
       "      <td>10.913043</td>\n",
       "      <td>8.289715</td>\n",
       "      <td>0</td>\n",
       "      <td>3</td>\n",
       "      <td>2012</td>\n",
       "      <td>2</td>\n",
       "      <td>0</td>\n",
       "      <td>872.162320</td>\n",
       "    </tr>\n",
       "    <tr>\n",
       "      <th>8209</th>\n",
       "      <td>DFW</td>\n",
       "      <td>4</td>\n",
       "      <td>32.896828</td>\n",
       "      <td>-97.037997</td>\n",
       "      <td>PHL</td>\n",
       "      <td>15</td>\n",
       "      <td>39.871944</td>\n",
       "      <td>-75.241139</td>\n",
       "      <td>8.066667</td>\n",
       "      <td>6.562520</td>\n",
       "      <td>0</td>\n",
       "      <td>1</td>\n",
       "      <td>2012</td>\n",
       "      <td>3</td>\n",
       "      <td>6</td>\n",
       "      <td>2420.492812</td>\n",
       "    </tr>\n",
       "    <tr>\n",
       "      <th>7870</th>\n",
       "      <td>DFW</td>\n",
       "      <td>4</td>\n",
       "      <td>32.896828</td>\n",
       "      <td>-97.037997</td>\n",
       "      <td>SFO</td>\n",
       "      <td>17</td>\n",
       "      <td>37.618972</td>\n",
       "      <td>-122.374889</td>\n",
       "      <td>12.250000</td>\n",
       "      <td>8.033896</td>\n",
       "      <td>0</td>\n",
       "      <td>0</td>\n",
       "      <td>2011</td>\n",
       "      <td>11</td>\n",
       "      <td>1</td>\n",
       "      <td>2821.532925</td>\n",
       "    </tr>\n",
       "    <tr>\n",
       "      <th>8085</th>\n",
       "      <td>ATL</td>\n",
       "      <td>0</td>\n",
       "      <td>33.636719</td>\n",
       "      <td>-84.428067</td>\n",
       "      <td>ORD</td>\n",
       "      <td>3</td>\n",
       "      <td>41.978603</td>\n",
       "      <td>-87.904842</td>\n",
       "      <td>8.850000</td>\n",
       "      <td>6.318519</td>\n",
       "      <td>0</td>\n",
       "      <td>0</td>\n",
       "      <td>2012</td>\n",
       "      <td>9</td>\n",
       "      <td>0</td>\n",
       "      <td>390.647928</td>\n",
       "    </tr>\n",
       "  </tbody>\n",
       "</table>\n",
       "</div>"
      ],
      "text/plain": [
       "     Departure  CityDeparture  LongitudeDeparture  LatitudeDeparture Arrival  \\\n",
       "8833       LAX              9           33.942536        -118.408075     DEN   \n",
       "2025       LAX              9           33.942536        -118.408075     SEA   \n",
       "8209       DFW              4           32.896828         -97.037997     PHL   \n",
       "7870       DFW              4           32.896828         -97.037997     SFO   \n",
       "8085       ATL              0           33.636719         -84.428067     ORD   \n",
       "\n",
       "      CityArrival  LongitudeArrival  LatitudeArrival  WeeksToDeparture  \\\n",
       "8833            5         39.861656      -104.673178         11.619048   \n",
       "2025           18         47.449000      -122.309306         10.913043   \n",
       "8209           15         39.871944       -75.241139          8.066667   \n",
       "7870           17         37.618972      -122.374889         12.250000   \n",
       "8085            3         41.978603       -87.904842          8.850000   \n",
       "\n",
       "       std_wtd  holidays  Season  YearOfDeparture  MonthOfDeparture  \\\n",
       "8833  9.069047         0       1             2012                 4   \n",
       "2025  8.289715         0       3             2012                 2   \n",
       "8209  6.562520         0       1             2012                 3   \n",
       "7870  8.033896         0       0             2011                11   \n",
       "8085  6.318519         0       0             2012                 9   \n",
       "\n",
       "      DayOfDeparture     Distance  \n",
       "8833               1  1544.881662  \n",
       "2025               0   872.162320  \n",
       "8209               6  2420.492812  \n",
       "7870               1  2821.532925  \n",
       "8085               0   390.647928  "
      ]
     },
     "execution_count": 462,
     "metadata": {},
     "output_type": "execute_result"
    }
   ],
   "source": [
    "distances = [calculateDistanceFromLatLon(row.LongitudeDeparture, row.LatitudeDeparture, row.LongitudeArrival, row.LatitudeArrival) for index, row in df_test.iterrows()]\n",
    "df_test['Distance'] = distances\n",
    "\n",
    "df_test.head()"
   ]
  },
  {
   "cell_type": "markdown",
   "metadata": {},
   "source": [
    "Αφαίρεση των στηλών `LongitudeDeparture`, `LatitudeDeparture`, `LongitudeArrival`, `LatitudeArrival` από τους `df_train` και `df_test`."
   ]
  },
  {
   "cell_type": "code",
   "execution_count": 463,
   "metadata": {},
   "outputs": [
    {
     "data": {
      "text/html": [
       "<div>\n",
       "<style scoped>\n",
       "    .dataframe tbody tr th:only-of-type {\n",
       "        vertical-align: middle;\n",
       "    }\n",
       "\n",
       "    .dataframe tbody tr th {\n",
       "        vertical-align: top;\n",
       "    }\n",
       "\n",
       "    .dataframe thead th {\n",
       "        text-align: right;\n",
       "    }\n",
       "</style>\n",
       "<table border=\"1\" class=\"dataframe\">\n",
       "  <thead>\n",
       "    <tr style=\"text-align: right;\">\n",
       "      <th></th>\n",
       "      <th>Departure</th>\n",
       "      <th>CityDeparture</th>\n",
       "      <th>Arrival</th>\n",
       "      <th>CityArrival</th>\n",
       "      <th>WeeksToDeparture</th>\n",
       "      <th>std_wtd</th>\n",
       "      <th>holidays</th>\n",
       "      <th>Season</th>\n",
       "      <th>YearOfDeparture</th>\n",
       "      <th>MonthOfDeparture</th>\n",
       "      <th>DayOfDeparture</th>\n",
       "      <th>Distance</th>\n",
       "    </tr>\n",
       "  </thead>\n",
       "  <tbody>\n",
       "    <tr>\n",
       "      <th>2755</th>\n",
       "      <td>IAH</td>\n",
       "      <td>7</td>\n",
       "      <td>ORD</td>\n",
       "      <td>3</td>\n",
       "      <td>7.923077</td>\n",
       "      <td>7.847096</td>\n",
       "      <td>0</td>\n",
       "      <td>0</td>\n",
       "      <td>2011</td>\n",
       "      <td>11</td>\n",
       "      <td>2</td>\n",
       "      <td>823.505267</td>\n",
       "    </tr>\n",
       "    <tr>\n",
       "      <th>1941</th>\n",
       "      <td>DFW</td>\n",
       "      <td>4</td>\n",
       "      <td>LAS</td>\n",
       "      <td>8</td>\n",
       "      <td>7.777778</td>\n",
       "      <td>5.610448</td>\n",
       "      <td>0</td>\n",
       "      <td>0</td>\n",
       "      <td>2012</td>\n",
       "      <td>11</td>\n",
       "      <td>4</td>\n",
       "      <td>2016.491722</td>\n",
       "    </tr>\n",
       "    <tr>\n",
       "      <th>3424</th>\n",
       "      <td>LAX</td>\n",
       "      <td>9</td>\n",
       "      <td>JFK</td>\n",
       "      <td>12</td>\n",
       "      <td>18.945946</td>\n",
       "      <td>12.402836</td>\n",
       "      <td>0</td>\n",
       "      <td>2</td>\n",
       "      <td>2012</td>\n",
       "      <td>8</td>\n",
       "      <td>4</td>\n",
       "      <td>4955.860858</td>\n",
       "    </tr>\n",
       "    <tr>\n",
       "      <th>4081</th>\n",
       "      <td>LAX</td>\n",
       "      <td>9</td>\n",
       "      <td>SEA</td>\n",
       "      <td>18</td>\n",
       "      <td>11.833333</td>\n",
       "      <td>9.276744</td>\n",
       "      <td>0</td>\n",
       "      <td>0</td>\n",
       "      <td>2012</td>\n",
       "      <td>9</td>\n",
       "      <td>4</td>\n",
       "      <td>872.162320</td>\n",
       "    </tr>\n",
       "    <tr>\n",
       "      <th>5505</th>\n",
       "      <td>DFW</td>\n",
       "      <td>4</td>\n",
       "      <td>DEN</td>\n",
       "      <td>5</td>\n",
       "      <td>9.055556</td>\n",
       "      <td>6.457756</td>\n",
       "      <td>0</td>\n",
       "      <td>0</td>\n",
       "      <td>2011</td>\n",
       "      <td>9</td>\n",
       "      <td>0</td>\n",
       "      <td>860.175726</td>\n",
       "    </tr>\n",
       "  </tbody>\n",
       "</table>\n",
       "</div>"
      ],
      "text/plain": [
       "     Departure  CityDeparture Arrival  CityArrival  WeeksToDeparture  \\\n",
       "2755       IAH              7     ORD            3          7.923077   \n",
       "1941       DFW              4     LAS            8          7.777778   \n",
       "3424       LAX              9     JFK           12         18.945946   \n",
       "4081       LAX              9     SEA           18         11.833333   \n",
       "5505       DFW              4     DEN            5          9.055556   \n",
       "\n",
       "        std_wtd  holidays  Season  YearOfDeparture  MonthOfDeparture  \\\n",
       "2755   7.847096         0       0             2011                11   \n",
       "1941   5.610448         0       0             2012                11   \n",
       "3424  12.402836         0       2             2012                 8   \n",
       "4081   9.276744         0       0             2012                 9   \n",
       "5505   6.457756         0       0             2011                 9   \n",
       "\n",
       "      DayOfDeparture     Distance  \n",
       "2755               2   823.505267  \n",
       "1941               4  2016.491722  \n",
       "3424               4  4955.860858  \n",
       "4081               4   872.162320  \n",
       "5505               0   860.175726  "
      ]
     },
     "execution_count": 463,
     "metadata": {},
     "output_type": "execute_result"
    }
   ],
   "source": [
    "df_train.drop(['LongitudeDeparture', 'LatitudeDeparture', 'LongitudeArrival', 'LatitudeArrival'], axis=1, inplace=True)\n",
    "\n",
    "df_train.head()"
   ]
  },
  {
   "cell_type": "code",
   "execution_count": 464,
   "metadata": {
    "scrolled": true
   },
   "outputs": [
    {
     "data": {
      "text/html": [
       "<div>\n",
       "<style scoped>\n",
       "    .dataframe tbody tr th:only-of-type {\n",
       "        vertical-align: middle;\n",
       "    }\n",
       "\n",
       "    .dataframe tbody tr th {\n",
       "        vertical-align: top;\n",
       "    }\n",
       "\n",
       "    .dataframe thead th {\n",
       "        text-align: right;\n",
       "    }\n",
       "</style>\n",
       "<table border=\"1\" class=\"dataframe\">\n",
       "  <thead>\n",
       "    <tr style=\"text-align: right;\">\n",
       "      <th></th>\n",
       "      <th>Departure</th>\n",
       "      <th>CityDeparture</th>\n",
       "      <th>Arrival</th>\n",
       "      <th>CityArrival</th>\n",
       "      <th>WeeksToDeparture</th>\n",
       "      <th>std_wtd</th>\n",
       "      <th>holidays</th>\n",
       "      <th>Season</th>\n",
       "      <th>YearOfDeparture</th>\n",
       "      <th>MonthOfDeparture</th>\n",
       "      <th>DayOfDeparture</th>\n",
       "      <th>Distance</th>\n",
       "    </tr>\n",
       "  </thead>\n",
       "  <tbody>\n",
       "    <tr>\n",
       "      <th>8833</th>\n",
       "      <td>LAX</td>\n",
       "      <td>9</td>\n",
       "      <td>DEN</td>\n",
       "      <td>5</td>\n",
       "      <td>11.619048</td>\n",
       "      <td>9.069047</td>\n",
       "      <td>0</td>\n",
       "      <td>1</td>\n",
       "      <td>2012</td>\n",
       "      <td>4</td>\n",
       "      <td>1</td>\n",
       "      <td>1544.881662</td>\n",
       "    </tr>\n",
       "    <tr>\n",
       "      <th>2025</th>\n",
       "      <td>LAX</td>\n",
       "      <td>9</td>\n",
       "      <td>SEA</td>\n",
       "      <td>18</td>\n",
       "      <td>10.913043</td>\n",
       "      <td>8.289715</td>\n",
       "      <td>0</td>\n",
       "      <td>3</td>\n",
       "      <td>2012</td>\n",
       "      <td>2</td>\n",
       "      <td>0</td>\n",
       "      <td>872.162320</td>\n",
       "    </tr>\n",
       "    <tr>\n",
       "      <th>8209</th>\n",
       "      <td>DFW</td>\n",
       "      <td>4</td>\n",
       "      <td>PHL</td>\n",
       "      <td>15</td>\n",
       "      <td>8.066667</td>\n",
       "      <td>6.562520</td>\n",
       "      <td>0</td>\n",
       "      <td>1</td>\n",
       "      <td>2012</td>\n",
       "      <td>3</td>\n",
       "      <td>6</td>\n",
       "      <td>2420.492812</td>\n",
       "    </tr>\n",
       "    <tr>\n",
       "      <th>7870</th>\n",
       "      <td>DFW</td>\n",
       "      <td>4</td>\n",
       "      <td>SFO</td>\n",
       "      <td>17</td>\n",
       "      <td>12.250000</td>\n",
       "      <td>8.033896</td>\n",
       "      <td>0</td>\n",
       "      <td>0</td>\n",
       "      <td>2011</td>\n",
       "      <td>11</td>\n",
       "      <td>1</td>\n",
       "      <td>2821.532925</td>\n",
       "    </tr>\n",
       "    <tr>\n",
       "      <th>8085</th>\n",
       "      <td>ATL</td>\n",
       "      <td>0</td>\n",
       "      <td>ORD</td>\n",
       "      <td>3</td>\n",
       "      <td>8.850000</td>\n",
       "      <td>6.318519</td>\n",
       "      <td>0</td>\n",
       "      <td>0</td>\n",
       "      <td>2012</td>\n",
       "      <td>9</td>\n",
       "      <td>0</td>\n",
       "      <td>390.647928</td>\n",
       "    </tr>\n",
       "  </tbody>\n",
       "</table>\n",
       "</div>"
      ],
      "text/plain": [
       "     Departure  CityDeparture Arrival  CityArrival  WeeksToDeparture  \\\n",
       "8833       LAX              9     DEN            5         11.619048   \n",
       "2025       LAX              9     SEA           18         10.913043   \n",
       "8209       DFW              4     PHL           15          8.066667   \n",
       "7870       DFW              4     SFO           17         12.250000   \n",
       "8085       ATL              0     ORD            3          8.850000   \n",
       "\n",
       "       std_wtd  holidays  Season  YearOfDeparture  MonthOfDeparture  \\\n",
       "8833  9.069047         0       1             2012                 4   \n",
       "2025  8.289715         0       3             2012                 2   \n",
       "8209  6.562520         0       1             2012                 3   \n",
       "7870  8.033896         0       0             2011                11   \n",
       "8085  6.318519         0       0             2012                 9   \n",
       "\n",
       "      DayOfDeparture     Distance  \n",
       "8833               1  1544.881662  \n",
       "2025               0   872.162320  \n",
       "8209               6  2420.492812  \n",
       "7870               1  2821.532925  \n",
       "8085               0   390.647928  "
      ]
     },
     "execution_count": 464,
     "metadata": {},
     "output_type": "execute_result"
    }
   ],
   "source": [
    "df_test.drop(['LongitudeDeparture', 'LatitudeDeparture', 'LongitudeArrival', 'LatitudeArrival'], axis=1, inplace=True)\n",
    "\n",
    "df_test.head()"
   ]
  },
  {
   "cell_type": "markdown",
   "metadata": {},
   "source": [
    "Δημιουργία του χαρακτηριστικού `std_mean_combined` στο `df_train`."
   ]
  },
  {
   "cell_type": "code",
   "execution_count": 465,
   "metadata": {
    "scrolled": true
   },
   "outputs": [
    {
     "data": {
      "text/html": [
       "<div>\n",
       "<style scoped>\n",
       "    .dataframe tbody tr th:only-of-type {\n",
       "        vertical-align: middle;\n",
       "    }\n",
       "\n",
       "    .dataframe tbody tr th {\n",
       "        vertical-align: top;\n",
       "    }\n",
       "\n",
       "    .dataframe thead th {\n",
       "        text-align: right;\n",
       "    }\n",
       "</style>\n",
       "<table border=\"1\" class=\"dataframe\">\n",
       "  <thead>\n",
       "    <tr style=\"text-align: right;\">\n",
       "      <th></th>\n",
       "      <th>Departure</th>\n",
       "      <th>CityDeparture</th>\n",
       "      <th>Arrival</th>\n",
       "      <th>CityArrival</th>\n",
       "      <th>WeeksToDeparture</th>\n",
       "      <th>std_wtd</th>\n",
       "      <th>holidays</th>\n",
       "      <th>Season</th>\n",
       "      <th>YearOfDeparture</th>\n",
       "      <th>MonthOfDeparture</th>\n",
       "      <th>DayOfDeparture</th>\n",
       "      <th>Distance</th>\n",
       "      <th>std_mean_combined</th>\n",
       "    </tr>\n",
       "  </thead>\n",
       "  <tbody>\n",
       "    <tr>\n",
       "      <th>2755</th>\n",
       "      <td>IAH</td>\n",
       "      <td>7</td>\n",
       "      <td>ORD</td>\n",
       "      <td>3</td>\n",
       "      <td>7.923077</td>\n",
       "      <td>7.847096</td>\n",
       "      <td>0</td>\n",
       "      <td>0</td>\n",
       "      <td>2011</td>\n",
       "      <td>11</td>\n",
       "      <td>2</td>\n",
       "      <td>823.505267</td>\n",
       "      <td>0.990410</td>\n",
       "    </tr>\n",
       "    <tr>\n",
       "      <th>1941</th>\n",
       "      <td>DFW</td>\n",
       "      <td>4</td>\n",
       "      <td>LAS</td>\n",
       "      <td>8</td>\n",
       "      <td>7.777778</td>\n",
       "      <td>5.610448</td>\n",
       "      <td>0</td>\n",
       "      <td>0</td>\n",
       "      <td>2012</td>\n",
       "      <td>11</td>\n",
       "      <td>4</td>\n",
       "      <td>2016.491722</td>\n",
       "      <td>0.721343</td>\n",
       "    </tr>\n",
       "    <tr>\n",
       "      <th>3424</th>\n",
       "      <td>LAX</td>\n",
       "      <td>9</td>\n",
       "      <td>JFK</td>\n",
       "      <td>12</td>\n",
       "      <td>18.945946</td>\n",
       "      <td>12.402836</td>\n",
       "      <td>0</td>\n",
       "      <td>2</td>\n",
       "      <td>2012</td>\n",
       "      <td>8</td>\n",
       "      <td>4</td>\n",
       "      <td>4955.860858</td>\n",
       "      <td>0.654643</td>\n",
       "    </tr>\n",
       "    <tr>\n",
       "      <th>4081</th>\n",
       "      <td>LAX</td>\n",
       "      <td>9</td>\n",
       "      <td>SEA</td>\n",
       "      <td>18</td>\n",
       "      <td>11.833333</td>\n",
       "      <td>9.276744</td>\n",
       "      <td>0</td>\n",
       "      <td>0</td>\n",
       "      <td>2012</td>\n",
       "      <td>9</td>\n",
       "      <td>4</td>\n",
       "      <td>872.162320</td>\n",
       "      <td>0.783950</td>\n",
       "    </tr>\n",
       "    <tr>\n",
       "      <th>5505</th>\n",
       "      <td>DFW</td>\n",
       "      <td>4</td>\n",
       "      <td>DEN</td>\n",
       "      <td>5</td>\n",
       "      <td>9.055556</td>\n",
       "      <td>6.457756</td>\n",
       "      <td>0</td>\n",
       "      <td>0</td>\n",
       "      <td>2011</td>\n",
       "      <td>9</td>\n",
       "      <td>0</td>\n",
       "      <td>860.175726</td>\n",
       "      <td>0.713126</td>\n",
       "    </tr>\n",
       "  </tbody>\n",
       "</table>\n",
       "</div>"
      ],
      "text/plain": [
       "     Departure  CityDeparture Arrival  CityArrival  WeeksToDeparture  \\\n",
       "2755       IAH              7     ORD            3          7.923077   \n",
       "1941       DFW              4     LAS            8          7.777778   \n",
       "3424       LAX              9     JFK           12         18.945946   \n",
       "4081       LAX              9     SEA           18         11.833333   \n",
       "5505       DFW              4     DEN            5          9.055556   \n",
       "\n",
       "        std_wtd  holidays  Season  YearOfDeparture  MonthOfDeparture  \\\n",
       "2755   7.847096         0       0             2011                11   \n",
       "1941   5.610448         0       0             2012                11   \n",
       "3424  12.402836         0       2             2012                 8   \n",
       "4081   9.276744         0       0             2012                 9   \n",
       "5505   6.457756         0       0             2011                 9   \n",
       "\n",
       "      DayOfDeparture     Distance  std_mean_combined  \n",
       "2755               2   823.505267           0.990410  \n",
       "1941               4  2016.491722           0.721343  \n",
       "3424               4  4955.860858           0.654643  \n",
       "4081               4   872.162320           0.783950  \n",
       "5505               0   860.175726           0.713126  "
      ]
     },
     "execution_count": 465,
     "metadata": {},
     "output_type": "execute_result"
    }
   ],
   "source": [
    "combination = [(row.std_wtd / row.WeeksToDeparture) for index, row in df_train.iterrows()]\n",
    "df_train['std_mean_combined'] = combination\n",
    "\n",
    "df_train.head()"
   ]
  },
  {
   "cell_type": "markdown",
   "metadata": {},
   "source": [
    "Δημιουργία του χαρακτηριστικού `std_mean_combined` στο `df_test`."
   ]
  },
  {
   "cell_type": "code",
   "execution_count": 466,
   "metadata": {
    "scrolled": false
   },
   "outputs": [
    {
     "data": {
      "text/html": [
       "<div>\n",
       "<style scoped>\n",
       "    .dataframe tbody tr th:only-of-type {\n",
       "        vertical-align: middle;\n",
       "    }\n",
       "\n",
       "    .dataframe tbody tr th {\n",
       "        vertical-align: top;\n",
       "    }\n",
       "\n",
       "    .dataframe thead th {\n",
       "        text-align: right;\n",
       "    }\n",
       "</style>\n",
       "<table border=\"1\" class=\"dataframe\">\n",
       "  <thead>\n",
       "    <tr style=\"text-align: right;\">\n",
       "      <th></th>\n",
       "      <th>Departure</th>\n",
       "      <th>CityDeparture</th>\n",
       "      <th>Arrival</th>\n",
       "      <th>CityArrival</th>\n",
       "      <th>WeeksToDeparture</th>\n",
       "      <th>std_wtd</th>\n",
       "      <th>holidays</th>\n",
       "      <th>Season</th>\n",
       "      <th>YearOfDeparture</th>\n",
       "      <th>MonthOfDeparture</th>\n",
       "      <th>DayOfDeparture</th>\n",
       "      <th>Distance</th>\n",
       "      <th>std_mean_combined</th>\n",
       "    </tr>\n",
       "  </thead>\n",
       "  <tbody>\n",
       "    <tr>\n",
       "      <th>8833</th>\n",
       "      <td>LAX</td>\n",
       "      <td>9</td>\n",
       "      <td>DEN</td>\n",
       "      <td>5</td>\n",
       "      <td>11.619048</td>\n",
       "      <td>9.069047</td>\n",
       "      <td>0</td>\n",
       "      <td>1</td>\n",
       "      <td>2012</td>\n",
       "      <td>4</td>\n",
       "      <td>1</td>\n",
       "      <td>1544.881662</td>\n",
       "      <td>0.780533</td>\n",
       "    </tr>\n",
       "    <tr>\n",
       "      <th>2025</th>\n",
       "      <td>LAX</td>\n",
       "      <td>9</td>\n",
       "      <td>SEA</td>\n",
       "      <td>18</td>\n",
       "      <td>10.913043</td>\n",
       "      <td>8.289715</td>\n",
       "      <td>0</td>\n",
       "      <td>3</td>\n",
       "      <td>2012</td>\n",
       "      <td>2</td>\n",
       "      <td>0</td>\n",
       "      <td>872.162320</td>\n",
       "      <td>0.759615</td>\n",
       "    </tr>\n",
       "    <tr>\n",
       "      <th>8209</th>\n",
       "      <td>DFW</td>\n",
       "      <td>4</td>\n",
       "      <td>PHL</td>\n",
       "      <td>15</td>\n",
       "      <td>8.066667</td>\n",
       "      <td>6.562520</td>\n",
       "      <td>0</td>\n",
       "      <td>1</td>\n",
       "      <td>2012</td>\n",
       "      <td>3</td>\n",
       "      <td>6</td>\n",
       "      <td>2420.492812</td>\n",
       "      <td>0.813536</td>\n",
       "    </tr>\n",
       "    <tr>\n",
       "      <th>7870</th>\n",
       "      <td>DFW</td>\n",
       "      <td>4</td>\n",
       "      <td>SFO</td>\n",
       "      <td>17</td>\n",
       "      <td>12.250000</td>\n",
       "      <td>8.033896</td>\n",
       "      <td>0</td>\n",
       "      <td>0</td>\n",
       "      <td>2011</td>\n",
       "      <td>11</td>\n",
       "      <td>1</td>\n",
       "      <td>2821.532925</td>\n",
       "      <td>0.655828</td>\n",
       "    </tr>\n",
       "    <tr>\n",
       "      <th>8085</th>\n",
       "      <td>ATL</td>\n",
       "      <td>0</td>\n",
       "      <td>ORD</td>\n",
       "      <td>3</td>\n",
       "      <td>8.850000</td>\n",
       "      <td>6.318519</td>\n",
       "      <td>0</td>\n",
       "      <td>0</td>\n",
       "      <td>2012</td>\n",
       "      <td>9</td>\n",
       "      <td>0</td>\n",
       "      <td>390.647928</td>\n",
       "      <td>0.713957</td>\n",
       "    </tr>\n",
       "  </tbody>\n",
       "</table>\n",
       "</div>"
      ],
      "text/plain": [
       "     Departure  CityDeparture Arrival  CityArrival  WeeksToDeparture  \\\n",
       "8833       LAX              9     DEN            5         11.619048   \n",
       "2025       LAX              9     SEA           18         10.913043   \n",
       "8209       DFW              4     PHL           15          8.066667   \n",
       "7870       DFW              4     SFO           17         12.250000   \n",
       "8085       ATL              0     ORD            3          8.850000   \n",
       "\n",
       "       std_wtd  holidays  Season  YearOfDeparture  MonthOfDeparture  \\\n",
       "8833  9.069047         0       1             2012                 4   \n",
       "2025  8.289715         0       3             2012                 2   \n",
       "8209  6.562520         0       1             2012                 3   \n",
       "7870  8.033896         0       0             2011                11   \n",
       "8085  6.318519         0       0             2012                 9   \n",
       "\n",
       "      DayOfDeparture     Distance  std_mean_combined  \n",
       "8833               1  1544.881662           0.780533  \n",
       "2025               0   872.162320           0.759615  \n",
       "8209               6  2420.492812           0.813536  \n",
       "7870               1  2821.532925           0.655828  \n",
       "8085               0   390.647928           0.713957  "
      ]
     },
     "execution_count": 466,
     "metadata": {},
     "output_type": "execute_result"
    }
   ],
   "source": [
    "combination = [(row.std_wtd / row.WeeksToDeparture) for index, row in df_test.iterrows()]\n",
    "df_test['std_mean_combined'] = combination\n",
    "\n",
    "df_test.head()"
   ]
  },
  {
   "cell_type": "markdown",
   "metadata": {},
   "source": [
    "Αφαίρεση των στηλών `WeeksToDeparture`, και `std_wtd` από τον `df_train`."
   ]
  },
  {
   "cell_type": "code",
   "execution_count": 467,
   "metadata": {
    "scrolled": true
   },
   "outputs": [
    {
     "data": {
      "text/html": [
       "<div>\n",
       "<style scoped>\n",
       "    .dataframe tbody tr th:only-of-type {\n",
       "        vertical-align: middle;\n",
       "    }\n",
       "\n",
       "    .dataframe tbody tr th {\n",
       "        vertical-align: top;\n",
       "    }\n",
       "\n",
       "    .dataframe thead th {\n",
       "        text-align: right;\n",
       "    }\n",
       "</style>\n",
       "<table border=\"1\" class=\"dataframe\">\n",
       "  <thead>\n",
       "    <tr style=\"text-align: right;\">\n",
       "      <th></th>\n",
       "      <th>Departure</th>\n",
       "      <th>CityDeparture</th>\n",
       "      <th>Arrival</th>\n",
       "      <th>CityArrival</th>\n",
       "      <th>holidays</th>\n",
       "      <th>Season</th>\n",
       "      <th>YearOfDeparture</th>\n",
       "      <th>MonthOfDeparture</th>\n",
       "      <th>DayOfDeparture</th>\n",
       "      <th>Distance</th>\n",
       "      <th>std_mean_combined</th>\n",
       "    </tr>\n",
       "  </thead>\n",
       "  <tbody>\n",
       "    <tr>\n",
       "      <th>2755</th>\n",
       "      <td>IAH</td>\n",
       "      <td>7</td>\n",
       "      <td>ORD</td>\n",
       "      <td>3</td>\n",
       "      <td>0</td>\n",
       "      <td>0</td>\n",
       "      <td>2011</td>\n",
       "      <td>11</td>\n",
       "      <td>2</td>\n",
       "      <td>823.505267</td>\n",
       "      <td>0.990410</td>\n",
       "    </tr>\n",
       "    <tr>\n",
       "      <th>1941</th>\n",
       "      <td>DFW</td>\n",
       "      <td>4</td>\n",
       "      <td>LAS</td>\n",
       "      <td>8</td>\n",
       "      <td>0</td>\n",
       "      <td>0</td>\n",
       "      <td>2012</td>\n",
       "      <td>11</td>\n",
       "      <td>4</td>\n",
       "      <td>2016.491722</td>\n",
       "      <td>0.721343</td>\n",
       "    </tr>\n",
       "    <tr>\n",
       "      <th>3424</th>\n",
       "      <td>LAX</td>\n",
       "      <td>9</td>\n",
       "      <td>JFK</td>\n",
       "      <td>12</td>\n",
       "      <td>0</td>\n",
       "      <td>2</td>\n",
       "      <td>2012</td>\n",
       "      <td>8</td>\n",
       "      <td>4</td>\n",
       "      <td>4955.860858</td>\n",
       "      <td>0.654643</td>\n",
       "    </tr>\n",
       "    <tr>\n",
       "      <th>4081</th>\n",
       "      <td>LAX</td>\n",
       "      <td>9</td>\n",
       "      <td>SEA</td>\n",
       "      <td>18</td>\n",
       "      <td>0</td>\n",
       "      <td>0</td>\n",
       "      <td>2012</td>\n",
       "      <td>9</td>\n",
       "      <td>4</td>\n",
       "      <td>872.162320</td>\n",
       "      <td>0.783950</td>\n",
       "    </tr>\n",
       "    <tr>\n",
       "      <th>5505</th>\n",
       "      <td>DFW</td>\n",
       "      <td>4</td>\n",
       "      <td>DEN</td>\n",
       "      <td>5</td>\n",
       "      <td>0</td>\n",
       "      <td>0</td>\n",
       "      <td>2011</td>\n",
       "      <td>9</td>\n",
       "      <td>0</td>\n",
       "      <td>860.175726</td>\n",
       "      <td>0.713126</td>\n",
       "    </tr>\n",
       "  </tbody>\n",
       "</table>\n",
       "</div>"
      ],
      "text/plain": [
       "     Departure  CityDeparture Arrival  CityArrival  holidays  Season  \\\n",
       "2755       IAH              7     ORD            3         0       0   \n",
       "1941       DFW              4     LAS            8         0       0   \n",
       "3424       LAX              9     JFK           12         0       2   \n",
       "4081       LAX              9     SEA           18         0       0   \n",
       "5505       DFW              4     DEN            5         0       0   \n",
       "\n",
       "      YearOfDeparture  MonthOfDeparture  DayOfDeparture     Distance  \\\n",
       "2755             2011                11               2   823.505267   \n",
       "1941             2012                11               4  2016.491722   \n",
       "3424             2012                 8               4  4955.860858   \n",
       "4081             2012                 9               4   872.162320   \n",
       "5505             2011                 9               0   860.175726   \n",
       "\n",
       "      std_mean_combined  \n",
       "2755           0.990410  \n",
       "1941           0.721343  \n",
       "3424           0.654643  \n",
       "4081           0.783950  \n",
       "5505           0.713126  "
      ]
     },
     "execution_count": 467,
     "metadata": {},
     "output_type": "execute_result"
    }
   ],
   "source": [
    "df_train.drop(['WeeksToDeparture', 'std_wtd'], axis=1, inplace=True)\n",
    "\n",
    "df_train.head()"
   ]
  },
  {
   "cell_type": "markdown",
   "metadata": {},
   "source": [
    "Αφαίρεση των στηλών `WeeksToDeparture`, και `std_wtd` από τον `df_test`."
   ]
  },
  {
   "cell_type": "code",
   "execution_count": 468,
   "metadata": {
    "scrolled": false
   },
   "outputs": [
    {
     "data": {
      "text/html": [
       "<div>\n",
       "<style scoped>\n",
       "    .dataframe tbody tr th:only-of-type {\n",
       "        vertical-align: middle;\n",
       "    }\n",
       "\n",
       "    .dataframe tbody tr th {\n",
       "        vertical-align: top;\n",
       "    }\n",
       "\n",
       "    .dataframe thead th {\n",
       "        text-align: right;\n",
       "    }\n",
       "</style>\n",
       "<table border=\"1\" class=\"dataframe\">\n",
       "  <thead>\n",
       "    <tr style=\"text-align: right;\">\n",
       "      <th></th>\n",
       "      <th>Departure</th>\n",
       "      <th>CityDeparture</th>\n",
       "      <th>Arrival</th>\n",
       "      <th>CityArrival</th>\n",
       "      <th>holidays</th>\n",
       "      <th>Season</th>\n",
       "      <th>YearOfDeparture</th>\n",
       "      <th>MonthOfDeparture</th>\n",
       "      <th>DayOfDeparture</th>\n",
       "      <th>Distance</th>\n",
       "      <th>std_mean_combined</th>\n",
       "    </tr>\n",
       "  </thead>\n",
       "  <tbody>\n",
       "    <tr>\n",
       "      <th>8833</th>\n",
       "      <td>LAX</td>\n",
       "      <td>9</td>\n",
       "      <td>DEN</td>\n",
       "      <td>5</td>\n",
       "      <td>0</td>\n",
       "      <td>1</td>\n",
       "      <td>2012</td>\n",
       "      <td>4</td>\n",
       "      <td>1</td>\n",
       "      <td>1544.881662</td>\n",
       "      <td>0.780533</td>\n",
       "    </tr>\n",
       "    <tr>\n",
       "      <th>2025</th>\n",
       "      <td>LAX</td>\n",
       "      <td>9</td>\n",
       "      <td>SEA</td>\n",
       "      <td>18</td>\n",
       "      <td>0</td>\n",
       "      <td>3</td>\n",
       "      <td>2012</td>\n",
       "      <td>2</td>\n",
       "      <td>0</td>\n",
       "      <td>872.162320</td>\n",
       "      <td>0.759615</td>\n",
       "    </tr>\n",
       "    <tr>\n",
       "      <th>8209</th>\n",
       "      <td>DFW</td>\n",
       "      <td>4</td>\n",
       "      <td>PHL</td>\n",
       "      <td>15</td>\n",
       "      <td>0</td>\n",
       "      <td>1</td>\n",
       "      <td>2012</td>\n",
       "      <td>3</td>\n",
       "      <td>6</td>\n",
       "      <td>2420.492812</td>\n",
       "      <td>0.813536</td>\n",
       "    </tr>\n",
       "    <tr>\n",
       "      <th>7870</th>\n",
       "      <td>DFW</td>\n",
       "      <td>4</td>\n",
       "      <td>SFO</td>\n",
       "      <td>17</td>\n",
       "      <td>0</td>\n",
       "      <td>0</td>\n",
       "      <td>2011</td>\n",
       "      <td>11</td>\n",
       "      <td>1</td>\n",
       "      <td>2821.532925</td>\n",
       "      <td>0.655828</td>\n",
       "    </tr>\n",
       "    <tr>\n",
       "      <th>8085</th>\n",
       "      <td>ATL</td>\n",
       "      <td>0</td>\n",
       "      <td>ORD</td>\n",
       "      <td>3</td>\n",
       "      <td>0</td>\n",
       "      <td>0</td>\n",
       "      <td>2012</td>\n",
       "      <td>9</td>\n",
       "      <td>0</td>\n",
       "      <td>390.647928</td>\n",
       "      <td>0.713957</td>\n",
       "    </tr>\n",
       "  </tbody>\n",
       "</table>\n",
       "</div>"
      ],
      "text/plain": [
       "     Departure  CityDeparture Arrival  CityArrival  holidays  Season  \\\n",
       "8833       LAX              9     DEN            5         0       1   \n",
       "2025       LAX              9     SEA           18         0       3   \n",
       "8209       DFW              4     PHL           15         0       1   \n",
       "7870       DFW              4     SFO           17         0       0   \n",
       "8085       ATL              0     ORD            3         0       0   \n",
       "\n",
       "      YearOfDeparture  MonthOfDeparture  DayOfDeparture     Distance  \\\n",
       "8833             2012                 4               1  1544.881662   \n",
       "2025             2012                 2               0   872.162320   \n",
       "8209             2012                 3               6  2420.492812   \n",
       "7870             2011                11               1  2821.532925   \n",
       "8085             2012                 9               0   390.647928   \n",
       "\n",
       "      std_mean_combined  \n",
       "8833           0.780533  \n",
       "2025           0.759615  \n",
       "8209           0.813536  \n",
       "7870           0.655828  \n",
       "8085           0.713957  "
      ]
     },
     "execution_count": 468,
     "metadata": {},
     "output_type": "execute_result"
    }
   ],
   "source": [
    "df_test.drop(['WeeksToDeparture', 'std_wtd'], axis=1, inplace=True)\n",
    "\n",
    "df_test.head()"
   ]
  },
  {
   "cell_type": "markdown",
   "metadata": {},
   "source": [
    "Δημιουργία του χαρακτηριστικού `ETA` στον `df_train` χρησιμοποιώντας το `Distance`."
   ]
  },
  {
   "cell_type": "code",
   "execution_count": 469,
   "metadata": {
    "scrolled": true
   },
   "outputs": [
    {
     "data": {
      "text/html": [
       "<div>\n",
       "<style scoped>\n",
       "    .dataframe tbody tr th:only-of-type {\n",
       "        vertical-align: middle;\n",
       "    }\n",
       "\n",
       "    .dataframe tbody tr th {\n",
       "        vertical-align: top;\n",
       "    }\n",
       "\n",
       "    .dataframe thead th {\n",
       "        text-align: right;\n",
       "    }\n",
       "</style>\n",
       "<table border=\"1\" class=\"dataframe\">\n",
       "  <thead>\n",
       "    <tr style=\"text-align: right;\">\n",
       "      <th></th>\n",
       "      <th>Departure</th>\n",
       "      <th>CityDeparture</th>\n",
       "      <th>Arrival</th>\n",
       "      <th>CityArrival</th>\n",
       "      <th>holidays</th>\n",
       "      <th>Season</th>\n",
       "      <th>YearOfDeparture</th>\n",
       "      <th>MonthOfDeparture</th>\n",
       "      <th>DayOfDeparture</th>\n",
       "      <th>Distance</th>\n",
       "      <th>std_mean_combined</th>\n",
       "      <th>ETA</th>\n",
       "    </tr>\n",
       "  </thead>\n",
       "  <tbody>\n",
       "    <tr>\n",
       "      <th>2755</th>\n",
       "      <td>IAH</td>\n",
       "      <td>7</td>\n",
       "      <td>ORD</td>\n",
       "      <td>3</td>\n",
       "      <td>0</td>\n",
       "      <td>0</td>\n",
       "      <td>2011</td>\n",
       "      <td>11</td>\n",
       "      <td>2</td>\n",
       "      <td>823.505267</td>\n",
       "      <td>0.990410</td>\n",
       "      <td>1.372509</td>\n",
       "    </tr>\n",
       "    <tr>\n",
       "      <th>1941</th>\n",
       "      <td>DFW</td>\n",
       "      <td>4</td>\n",
       "      <td>LAS</td>\n",
       "      <td>8</td>\n",
       "      <td>0</td>\n",
       "      <td>0</td>\n",
       "      <td>2012</td>\n",
       "      <td>11</td>\n",
       "      <td>4</td>\n",
       "      <td>2016.491722</td>\n",
       "      <td>0.721343</td>\n",
       "      <td>3.360820</td>\n",
       "    </tr>\n",
       "    <tr>\n",
       "      <th>3424</th>\n",
       "      <td>LAX</td>\n",
       "      <td>9</td>\n",
       "      <td>JFK</td>\n",
       "      <td>12</td>\n",
       "      <td>0</td>\n",
       "      <td>2</td>\n",
       "      <td>2012</td>\n",
       "      <td>8</td>\n",
       "      <td>4</td>\n",
       "      <td>4955.860858</td>\n",
       "      <td>0.654643</td>\n",
       "      <td>8.259768</td>\n",
       "    </tr>\n",
       "    <tr>\n",
       "      <th>4081</th>\n",
       "      <td>LAX</td>\n",
       "      <td>9</td>\n",
       "      <td>SEA</td>\n",
       "      <td>18</td>\n",
       "      <td>0</td>\n",
       "      <td>0</td>\n",
       "      <td>2012</td>\n",
       "      <td>9</td>\n",
       "      <td>4</td>\n",
       "      <td>872.162320</td>\n",
       "      <td>0.783950</td>\n",
       "      <td>1.453604</td>\n",
       "    </tr>\n",
       "    <tr>\n",
       "      <th>5505</th>\n",
       "      <td>DFW</td>\n",
       "      <td>4</td>\n",
       "      <td>DEN</td>\n",
       "      <td>5</td>\n",
       "      <td>0</td>\n",
       "      <td>0</td>\n",
       "      <td>2011</td>\n",
       "      <td>9</td>\n",
       "      <td>0</td>\n",
       "      <td>860.175726</td>\n",
       "      <td>0.713126</td>\n",
       "      <td>1.433626</td>\n",
       "    </tr>\n",
       "  </tbody>\n",
       "</table>\n",
       "</div>"
      ],
      "text/plain": [
       "     Departure  CityDeparture Arrival  CityArrival  holidays  Season  \\\n",
       "2755       IAH              7     ORD            3         0       0   \n",
       "1941       DFW              4     LAS            8         0       0   \n",
       "3424       LAX              9     JFK           12         0       2   \n",
       "4081       LAX              9     SEA           18         0       0   \n",
       "5505       DFW              4     DEN            5         0       0   \n",
       "\n",
       "      YearOfDeparture  MonthOfDeparture  DayOfDeparture     Distance  \\\n",
       "2755             2011                11               2   823.505267   \n",
       "1941             2012                11               4  2016.491722   \n",
       "3424             2012                 8               4  4955.860858   \n",
       "4081             2012                 9               4   872.162320   \n",
       "5505             2011                 9               0   860.175726   \n",
       "\n",
       "      std_mean_combined       ETA  \n",
       "2755           0.990410  1.372509  \n",
       "1941           0.721343  3.360820  \n",
       "3424           0.654643  8.259768  \n",
       "4081           0.783950  1.453604  \n",
       "5505           0.713126  1.433626  "
      ]
     },
     "execution_count": 469,
     "metadata": {},
     "output_type": "execute_result"
    }
   ],
   "source": [
    "average_speed = 600\n",
    "\n",
    "eta = [(row.Distance / average_speed) for index, row in df_train.iterrows()]\n",
    "df_train['ETA'] = eta\n",
    "\n",
    "df_train.head()"
   ]
  },
  {
   "cell_type": "markdown",
   "metadata": {},
   "source": [
    "Δημιουργία του χαρακτηριστικού `ETA` στον `df_test` χρησιμοποιώντας το `Distance`."
   ]
  },
  {
   "cell_type": "code",
   "execution_count": 470,
   "metadata": {
    "scrolled": true
   },
   "outputs": [
    {
     "data": {
      "text/html": [
       "<div>\n",
       "<style scoped>\n",
       "    .dataframe tbody tr th:only-of-type {\n",
       "        vertical-align: middle;\n",
       "    }\n",
       "\n",
       "    .dataframe tbody tr th {\n",
       "        vertical-align: top;\n",
       "    }\n",
       "\n",
       "    .dataframe thead th {\n",
       "        text-align: right;\n",
       "    }\n",
       "</style>\n",
       "<table border=\"1\" class=\"dataframe\">\n",
       "  <thead>\n",
       "    <tr style=\"text-align: right;\">\n",
       "      <th></th>\n",
       "      <th>Departure</th>\n",
       "      <th>CityDeparture</th>\n",
       "      <th>Arrival</th>\n",
       "      <th>CityArrival</th>\n",
       "      <th>holidays</th>\n",
       "      <th>Season</th>\n",
       "      <th>YearOfDeparture</th>\n",
       "      <th>MonthOfDeparture</th>\n",
       "      <th>DayOfDeparture</th>\n",
       "      <th>Distance</th>\n",
       "      <th>std_mean_combined</th>\n",
       "      <th>ETA</th>\n",
       "    </tr>\n",
       "  </thead>\n",
       "  <tbody>\n",
       "    <tr>\n",
       "      <th>8833</th>\n",
       "      <td>LAX</td>\n",
       "      <td>9</td>\n",
       "      <td>DEN</td>\n",
       "      <td>5</td>\n",
       "      <td>0</td>\n",
       "      <td>1</td>\n",
       "      <td>2012</td>\n",
       "      <td>4</td>\n",
       "      <td>1</td>\n",
       "      <td>1544.881662</td>\n",
       "      <td>0.780533</td>\n",
       "      <td>2.574803</td>\n",
       "    </tr>\n",
       "    <tr>\n",
       "      <th>2025</th>\n",
       "      <td>LAX</td>\n",
       "      <td>9</td>\n",
       "      <td>SEA</td>\n",
       "      <td>18</td>\n",
       "      <td>0</td>\n",
       "      <td>3</td>\n",
       "      <td>2012</td>\n",
       "      <td>2</td>\n",
       "      <td>0</td>\n",
       "      <td>872.162320</td>\n",
       "      <td>0.759615</td>\n",
       "      <td>1.453604</td>\n",
       "    </tr>\n",
       "    <tr>\n",
       "      <th>8209</th>\n",
       "      <td>DFW</td>\n",
       "      <td>4</td>\n",
       "      <td>PHL</td>\n",
       "      <td>15</td>\n",
       "      <td>0</td>\n",
       "      <td>1</td>\n",
       "      <td>2012</td>\n",
       "      <td>3</td>\n",
       "      <td>6</td>\n",
       "      <td>2420.492812</td>\n",
       "      <td>0.813536</td>\n",
       "      <td>4.034155</td>\n",
       "    </tr>\n",
       "    <tr>\n",
       "      <th>7870</th>\n",
       "      <td>DFW</td>\n",
       "      <td>4</td>\n",
       "      <td>SFO</td>\n",
       "      <td>17</td>\n",
       "      <td>0</td>\n",
       "      <td>0</td>\n",
       "      <td>2011</td>\n",
       "      <td>11</td>\n",
       "      <td>1</td>\n",
       "      <td>2821.532925</td>\n",
       "      <td>0.655828</td>\n",
       "      <td>4.702555</td>\n",
       "    </tr>\n",
       "    <tr>\n",
       "      <th>8085</th>\n",
       "      <td>ATL</td>\n",
       "      <td>0</td>\n",
       "      <td>ORD</td>\n",
       "      <td>3</td>\n",
       "      <td>0</td>\n",
       "      <td>0</td>\n",
       "      <td>2012</td>\n",
       "      <td>9</td>\n",
       "      <td>0</td>\n",
       "      <td>390.647928</td>\n",
       "      <td>0.713957</td>\n",
       "      <td>0.651080</td>\n",
       "    </tr>\n",
       "  </tbody>\n",
       "</table>\n",
       "</div>"
      ],
      "text/plain": [
       "     Departure  CityDeparture Arrival  CityArrival  holidays  Season  \\\n",
       "8833       LAX              9     DEN            5         0       1   \n",
       "2025       LAX              9     SEA           18         0       3   \n",
       "8209       DFW              4     PHL           15         0       1   \n",
       "7870       DFW              4     SFO           17         0       0   \n",
       "8085       ATL              0     ORD            3         0       0   \n",
       "\n",
       "      YearOfDeparture  MonthOfDeparture  DayOfDeparture     Distance  \\\n",
       "8833             2012                 4               1  1544.881662   \n",
       "2025             2012                 2               0   872.162320   \n",
       "8209             2012                 3               6  2420.492812   \n",
       "7870             2011                11               1  2821.532925   \n",
       "8085             2012                 9               0   390.647928   \n",
       "\n",
       "      std_mean_combined       ETA  \n",
       "8833           0.780533  2.574803  \n",
       "2025           0.759615  1.453604  \n",
       "8209           0.813536  4.034155  \n",
       "7870           0.655828  4.702555  \n",
       "8085           0.713957  0.651080  "
      ]
     },
     "execution_count": 470,
     "metadata": {},
     "output_type": "execute_result"
    }
   ],
   "source": [
    "eta = [(row.Distance / average_speed) for index, row in df_test.iterrows()]\n",
    "df_test['ETA'] = eta\n",
    "\n",
    "df_test.head()"
   ]
  },
  {
   "cell_type": "markdown",
   "metadata": {},
   "source": [
    "Δημιουργία χαρακτηριστικού `cost` στον `df_train` χρησιμοποιώντας το `Distance`."
   ]
  },
  {
   "cell_type": "code",
   "execution_count": 471,
   "metadata": {},
   "outputs": [
    {
     "data": {
      "text/html": [
       "<div>\n",
       "<style scoped>\n",
       "    .dataframe tbody tr th:only-of-type {\n",
       "        vertical-align: middle;\n",
       "    }\n",
       "\n",
       "    .dataframe tbody tr th {\n",
       "        vertical-align: top;\n",
       "    }\n",
       "\n",
       "    .dataframe thead th {\n",
       "        text-align: right;\n",
       "    }\n",
       "</style>\n",
       "<table border=\"1\" class=\"dataframe\">\n",
       "  <thead>\n",
       "    <tr style=\"text-align: right;\">\n",
       "      <th></th>\n",
       "      <th>Departure</th>\n",
       "      <th>CityDeparture</th>\n",
       "      <th>Arrival</th>\n",
       "      <th>CityArrival</th>\n",
       "      <th>holidays</th>\n",
       "      <th>Season</th>\n",
       "      <th>YearOfDeparture</th>\n",
       "      <th>MonthOfDeparture</th>\n",
       "      <th>DayOfDeparture</th>\n",
       "      <th>Distance</th>\n",
       "      <th>std_mean_combined</th>\n",
       "      <th>ETA</th>\n",
       "      <th>cost</th>\n",
       "    </tr>\n",
       "  </thead>\n",
       "  <tbody>\n",
       "    <tr>\n",
       "      <th>2755</th>\n",
       "      <td>IAH</td>\n",
       "      <td>7</td>\n",
       "      <td>ORD</td>\n",
       "      <td>3</td>\n",
       "      <td>0</td>\n",
       "      <td>0</td>\n",
       "      <td>2011</td>\n",
       "      <td>11</td>\n",
       "      <td>2</td>\n",
       "      <td>823.505267</td>\n",
       "      <td>0.990410</td>\n",
       "      <td>1.372509</td>\n",
       "      <td>3401.434800</td>\n",
       "    </tr>\n",
       "    <tr>\n",
       "      <th>1941</th>\n",
       "      <td>DFW</td>\n",
       "      <td>4</td>\n",
       "      <td>LAS</td>\n",
       "      <td>8</td>\n",
       "      <td>0</td>\n",
       "      <td>0</td>\n",
       "      <td>2012</td>\n",
       "      <td>11</td>\n",
       "      <td>4</td>\n",
       "      <td>2016.491722</td>\n",
       "      <td>0.721343</td>\n",
       "      <td>3.360820</td>\n",
       "      <td>8328.987548</td>\n",
       "    </tr>\n",
       "    <tr>\n",
       "      <th>3424</th>\n",
       "      <td>LAX</td>\n",
       "      <td>9</td>\n",
       "      <td>JFK</td>\n",
       "      <td>12</td>\n",
       "      <td>0</td>\n",
       "      <td>2</td>\n",
       "      <td>2012</td>\n",
       "      <td>8</td>\n",
       "      <td>4</td>\n",
       "      <td>4955.860858</td>\n",
       "      <td>0.654643</td>\n",
       "      <td>8.259768</td>\n",
       "      <td>20469.860066</td>\n",
       "    </tr>\n",
       "    <tr>\n",
       "      <th>4081</th>\n",
       "      <td>LAX</td>\n",
       "      <td>9</td>\n",
       "      <td>SEA</td>\n",
       "      <td>18</td>\n",
       "      <td>0</td>\n",
       "      <td>0</td>\n",
       "      <td>2012</td>\n",
       "      <td>9</td>\n",
       "      <td>4</td>\n",
       "      <td>872.162320</td>\n",
       "      <td>0.783950</td>\n",
       "      <td>1.453604</td>\n",
       "      <td>3602.409582</td>\n",
       "    </tr>\n",
       "    <tr>\n",
       "      <th>5505</th>\n",
       "      <td>DFW</td>\n",
       "      <td>4</td>\n",
       "      <td>DEN</td>\n",
       "      <td>5</td>\n",
       "      <td>0</td>\n",
       "      <td>0</td>\n",
       "      <td>2011</td>\n",
       "      <td>9</td>\n",
       "      <td>0</td>\n",
       "      <td>860.175726</td>\n",
       "      <td>0.713126</td>\n",
       "      <td>1.433626</td>\n",
       "      <td>3552.899736</td>\n",
       "    </tr>\n",
       "  </tbody>\n",
       "</table>\n",
       "</div>"
      ],
      "text/plain": [
       "     Departure  CityDeparture Arrival  CityArrival  holidays  Season  \\\n",
       "2755       IAH              7     ORD            3         0       0   \n",
       "1941       DFW              4     LAS            8         0       0   \n",
       "3424       LAX              9     JFK           12         0       2   \n",
       "4081       LAX              9     SEA           18         0       0   \n",
       "5505       DFW              4     DEN            5         0       0   \n",
       "\n",
       "      YearOfDeparture  MonthOfDeparture  DayOfDeparture     Distance  \\\n",
       "2755             2011                11               2   823.505267   \n",
       "1941             2012                11               4  2016.491722   \n",
       "3424             2012                 8               4  4955.860858   \n",
       "4081             2012                 9               4   872.162320   \n",
       "5505             2011                 9               0   860.175726   \n",
       "\n",
       "      std_mean_combined       ETA          cost  \n",
       "2755           0.990410  1.372509   3401.434800  \n",
       "1941           0.721343  3.360820   8328.987548  \n",
       "3424           0.654643  8.259768  20469.860066  \n",
       "4081           0.783950  1.453604   3602.409582  \n",
       "5505           0.713126  1.433626   3552.899736  "
      ]
     },
     "execution_count": 471,
     "metadata": {},
     "output_type": "execute_result"
    }
   ],
   "source": [
    "cost = [((190 * row.Distance) / 46) for index, row in df_train.iterrows()]\n",
    "df_train['cost'] = cost\n",
    "\n",
    "df_train.head()"
   ]
  },
  {
   "cell_type": "markdown",
   "metadata": {},
   "source": [
    "Δημιουργία χαρακτηριστικού `cost` στον `df_train` χρησιμοποιώντας το `Distance`."
   ]
  },
  {
   "cell_type": "code",
   "execution_count": 472,
   "metadata": {},
   "outputs": [
    {
     "data": {
      "text/html": [
       "<div>\n",
       "<style scoped>\n",
       "    .dataframe tbody tr th:only-of-type {\n",
       "        vertical-align: middle;\n",
       "    }\n",
       "\n",
       "    .dataframe tbody tr th {\n",
       "        vertical-align: top;\n",
       "    }\n",
       "\n",
       "    .dataframe thead th {\n",
       "        text-align: right;\n",
       "    }\n",
       "</style>\n",
       "<table border=\"1\" class=\"dataframe\">\n",
       "  <thead>\n",
       "    <tr style=\"text-align: right;\">\n",
       "      <th></th>\n",
       "      <th>Departure</th>\n",
       "      <th>CityDeparture</th>\n",
       "      <th>Arrival</th>\n",
       "      <th>CityArrival</th>\n",
       "      <th>holidays</th>\n",
       "      <th>Season</th>\n",
       "      <th>YearOfDeparture</th>\n",
       "      <th>MonthOfDeparture</th>\n",
       "      <th>DayOfDeparture</th>\n",
       "      <th>Distance</th>\n",
       "      <th>std_mean_combined</th>\n",
       "      <th>ETA</th>\n",
       "      <th>cost</th>\n",
       "    </tr>\n",
       "  </thead>\n",
       "  <tbody>\n",
       "    <tr>\n",
       "      <th>8833</th>\n",
       "      <td>LAX</td>\n",
       "      <td>9</td>\n",
       "      <td>DEN</td>\n",
       "      <td>5</td>\n",
       "      <td>0</td>\n",
       "      <td>1</td>\n",
       "      <td>2012</td>\n",
       "      <td>4</td>\n",
       "      <td>1</td>\n",
       "      <td>1544.881662</td>\n",
       "      <td>0.780533</td>\n",
       "      <td>2.574803</td>\n",
       "      <td>6381.032953</td>\n",
       "    </tr>\n",
       "    <tr>\n",
       "      <th>2025</th>\n",
       "      <td>LAX</td>\n",
       "      <td>9</td>\n",
       "      <td>SEA</td>\n",
       "      <td>18</td>\n",
       "      <td>0</td>\n",
       "      <td>3</td>\n",
       "      <td>2012</td>\n",
       "      <td>2</td>\n",
       "      <td>0</td>\n",
       "      <td>872.162320</td>\n",
       "      <td>0.759615</td>\n",
       "      <td>1.453604</td>\n",
       "      <td>3602.409582</td>\n",
       "    </tr>\n",
       "    <tr>\n",
       "      <th>8209</th>\n",
       "      <td>DFW</td>\n",
       "      <td>4</td>\n",
       "      <td>PHL</td>\n",
       "      <td>15</td>\n",
       "      <td>0</td>\n",
       "      <td>1</td>\n",
       "      <td>2012</td>\n",
       "      <td>3</td>\n",
       "      <td>6</td>\n",
       "      <td>2420.492812</td>\n",
       "      <td>0.813536</td>\n",
       "      <td>4.034155</td>\n",
       "      <td>9997.687703</td>\n",
       "    </tr>\n",
       "    <tr>\n",
       "      <th>7870</th>\n",
       "      <td>DFW</td>\n",
       "      <td>4</td>\n",
       "      <td>SFO</td>\n",
       "      <td>17</td>\n",
       "      <td>0</td>\n",
       "      <td>0</td>\n",
       "      <td>2011</td>\n",
       "      <td>11</td>\n",
       "      <td>1</td>\n",
       "      <td>2821.532925</td>\n",
       "      <td>0.655828</td>\n",
       "      <td>4.702555</td>\n",
       "      <td>11654.157735</td>\n",
       "    </tr>\n",
       "    <tr>\n",
       "      <th>8085</th>\n",
       "      <td>ATL</td>\n",
       "      <td>0</td>\n",
       "      <td>ORD</td>\n",
       "      <td>3</td>\n",
       "      <td>0</td>\n",
       "      <td>0</td>\n",
       "      <td>2012</td>\n",
       "      <td>9</td>\n",
       "      <td>0</td>\n",
       "      <td>390.647928</td>\n",
       "      <td>0.713957</td>\n",
       "      <td>0.651080</td>\n",
       "      <td>1613.545788</td>\n",
       "    </tr>\n",
       "  </tbody>\n",
       "</table>\n",
       "</div>"
      ],
      "text/plain": [
       "     Departure  CityDeparture Arrival  CityArrival  holidays  Season  \\\n",
       "8833       LAX              9     DEN            5         0       1   \n",
       "2025       LAX              9     SEA           18         0       3   \n",
       "8209       DFW              4     PHL           15         0       1   \n",
       "7870       DFW              4     SFO           17         0       0   \n",
       "8085       ATL              0     ORD            3         0       0   \n",
       "\n",
       "      YearOfDeparture  MonthOfDeparture  DayOfDeparture     Distance  \\\n",
       "8833             2012                 4               1  1544.881662   \n",
       "2025             2012                 2               0   872.162320   \n",
       "8209             2012                 3               6  2420.492812   \n",
       "7870             2011                11               1  2821.532925   \n",
       "8085             2012                 9               0   390.647928   \n",
       "\n",
       "      std_mean_combined       ETA          cost  \n",
       "8833           0.780533  2.574803   6381.032953  \n",
       "2025           0.759615  1.453604   3602.409582  \n",
       "8209           0.813536  4.034155   9997.687703  \n",
       "7870           0.655828  4.702555  11654.157735  \n",
       "8085           0.713957  0.651080   1613.545788  "
      ]
     },
     "execution_count": 472,
     "metadata": {},
     "output_type": "execute_result"
    }
   ],
   "source": [
    "cost = [((190 * row.Distance) / 46) for index, row in df_test.iterrows()]\n",
    "df_test['cost'] = cost\n",
    "\n",
    "df_test.head()"
   ]
  },
  {
   "cell_type": "markdown",
   "metadata": {},
   "source": [
    "Μετατροπή των `Departure` και `Arrival` του πίνακα `df_train` σε αριθμητικές τιμές."
   ]
  },
  {
   "cell_type": "code",
   "execution_count": 473,
   "metadata": {},
   "outputs": [
    {
     "data": {
      "text/html": [
       "<div>\n",
       "<style scoped>\n",
       "    .dataframe tbody tr th:only-of-type {\n",
       "        vertical-align: middle;\n",
       "    }\n",
       "\n",
       "    .dataframe tbody tr th {\n",
       "        vertical-align: top;\n",
       "    }\n",
       "\n",
       "    .dataframe thead th {\n",
       "        text-align: right;\n",
       "    }\n",
       "</style>\n",
       "<table border=\"1\" class=\"dataframe\">\n",
       "  <thead>\n",
       "    <tr style=\"text-align: right;\">\n",
       "      <th></th>\n",
       "      <th>Departure</th>\n",
       "      <th>CityDeparture</th>\n",
       "      <th>Arrival</th>\n",
       "      <th>CityArrival</th>\n",
       "      <th>holidays</th>\n",
       "      <th>Season</th>\n",
       "      <th>YearOfDeparture</th>\n",
       "      <th>MonthOfDeparture</th>\n",
       "      <th>DayOfDeparture</th>\n",
       "      <th>Distance</th>\n",
       "      <th>std_mean_combined</th>\n",
       "      <th>ETA</th>\n",
       "      <th>cost</th>\n",
       "    </tr>\n",
       "  </thead>\n",
       "  <tbody>\n",
       "    <tr>\n",
       "      <th>2755</th>\n",
       "      <td>7</td>\n",
       "      <td>7</td>\n",
       "      <td>15</td>\n",
       "      <td>3</td>\n",
       "      <td>0</td>\n",
       "      <td>0</td>\n",
       "      <td>2011</td>\n",
       "      <td>11</td>\n",
       "      <td>2</td>\n",
       "      <td>823.505267</td>\n",
       "      <td>0.990410</td>\n",
       "      <td>1.372509</td>\n",
       "      <td>3401.434800</td>\n",
       "    </tr>\n",
       "    <tr>\n",
       "      <th>1941</th>\n",
       "      <td>4</td>\n",
       "      <td>4</td>\n",
       "      <td>9</td>\n",
       "      <td>8</td>\n",
       "      <td>0</td>\n",
       "      <td>0</td>\n",
       "      <td>2012</td>\n",
       "      <td>11</td>\n",
       "      <td>4</td>\n",
       "      <td>2016.491722</td>\n",
       "      <td>0.721343</td>\n",
       "      <td>3.360820</td>\n",
       "      <td>8328.987548</td>\n",
       "    </tr>\n",
       "    <tr>\n",
       "      <th>3424</th>\n",
       "      <td>10</td>\n",
       "      <td>9</td>\n",
       "      <td>8</td>\n",
       "      <td>12</td>\n",
       "      <td>0</td>\n",
       "      <td>2</td>\n",
       "      <td>2012</td>\n",
       "      <td>8</td>\n",
       "      <td>4</td>\n",
       "      <td>4955.860858</td>\n",
       "      <td>0.654643</td>\n",
       "      <td>8.259768</td>\n",
       "      <td>20469.860066</td>\n",
       "    </tr>\n",
       "    <tr>\n",
       "      <th>4081</th>\n",
       "      <td>10</td>\n",
       "      <td>9</td>\n",
       "      <td>18</td>\n",
       "      <td>18</td>\n",
       "      <td>0</td>\n",
       "      <td>0</td>\n",
       "      <td>2012</td>\n",
       "      <td>9</td>\n",
       "      <td>4</td>\n",
       "      <td>872.162320</td>\n",
       "      <td>0.783950</td>\n",
       "      <td>1.453604</td>\n",
       "      <td>3602.409582</td>\n",
       "    </tr>\n",
       "    <tr>\n",
       "      <th>5505</th>\n",
       "      <td>4</td>\n",
       "      <td>4</td>\n",
       "      <td>3</td>\n",
       "      <td>5</td>\n",
       "      <td>0</td>\n",
       "      <td>0</td>\n",
       "      <td>2011</td>\n",
       "      <td>9</td>\n",
       "      <td>0</td>\n",
       "      <td>860.175726</td>\n",
       "      <td>0.713126</td>\n",
       "      <td>1.433626</td>\n",
       "      <td>3552.899736</td>\n",
       "    </tr>\n",
       "  </tbody>\n",
       "</table>\n",
       "</div>"
      ],
      "text/plain": [
       "      Departure  CityDeparture  Arrival  CityArrival  holidays  Season  \\\n",
       "2755          7              7       15            3         0       0   \n",
       "1941          4              4        9            8         0       0   \n",
       "3424         10              9        8           12         0       2   \n",
       "4081         10              9       18           18         0       0   \n",
       "5505          4              4        3            5         0       0   \n",
       "\n",
       "      YearOfDeparture  MonthOfDeparture  DayOfDeparture     Distance  \\\n",
       "2755             2011                11               2   823.505267   \n",
       "1941             2012                11               4  2016.491722   \n",
       "3424             2012                 8               4  4955.860858   \n",
       "4081             2012                 9               4   872.162320   \n",
       "5505             2011                 9               0   860.175726   \n",
       "\n",
       "      std_mean_combined       ETA          cost  \n",
       "2755           0.990410  1.372509   3401.434800  \n",
       "1941           0.721343  3.360820   8328.987548  \n",
       "3424           0.654643  8.259768  20469.860066  \n",
       "4081           0.783950  1.453604   3602.409582  \n",
       "5505           0.713126  1.433626   3552.899736  "
      ]
     },
     "execution_count": 473,
     "metadata": {},
     "output_type": "execute_result"
    }
   ],
   "source": [
    "enc.fit(df_train['Departure'])\n",
    "df_train['Departure'] = enc.transform(df_train['Departure'])\n",
    "enc.fit(df_train['Arrival'])\n",
    "df_train['Arrival'] = enc.transform(df_train['Arrival'])\n",
    "\n",
    "df_train.head()"
   ]
  },
  {
   "cell_type": "markdown",
   "metadata": {},
   "source": [
    "Μετατροπή των `Departure` και `Arrival` του πίνακα `df_test` σε αριθμητικές τιμές που αντιστοιχούν στις εποχές."
   ]
  },
  {
   "cell_type": "code",
   "execution_count": 474,
   "metadata": {},
   "outputs": [
    {
     "data": {
      "text/html": [
       "<div>\n",
       "<style scoped>\n",
       "    .dataframe tbody tr th:only-of-type {\n",
       "        vertical-align: middle;\n",
       "    }\n",
       "\n",
       "    .dataframe tbody tr th {\n",
       "        vertical-align: top;\n",
       "    }\n",
       "\n",
       "    .dataframe thead th {\n",
       "        text-align: right;\n",
       "    }\n",
       "</style>\n",
       "<table border=\"1\" class=\"dataframe\">\n",
       "  <thead>\n",
       "    <tr style=\"text-align: right;\">\n",
       "      <th></th>\n",
       "      <th>Departure</th>\n",
       "      <th>CityDeparture</th>\n",
       "      <th>Arrival</th>\n",
       "      <th>CityArrival</th>\n",
       "      <th>holidays</th>\n",
       "      <th>Season</th>\n",
       "      <th>YearOfDeparture</th>\n",
       "      <th>MonthOfDeparture</th>\n",
       "      <th>DayOfDeparture</th>\n",
       "      <th>Distance</th>\n",
       "      <th>std_mean_combined</th>\n",
       "      <th>ETA</th>\n",
       "      <th>cost</th>\n",
       "    </tr>\n",
       "  </thead>\n",
       "  <tbody>\n",
       "    <tr>\n",
       "      <th>8833</th>\n",
       "      <td>10</td>\n",
       "      <td>9</td>\n",
       "      <td>3</td>\n",
       "      <td>5</td>\n",
       "      <td>0</td>\n",
       "      <td>1</td>\n",
       "      <td>2012</td>\n",
       "      <td>4</td>\n",
       "      <td>1</td>\n",
       "      <td>1544.881662</td>\n",
       "      <td>0.780533</td>\n",
       "      <td>2.574803</td>\n",
       "      <td>6381.032953</td>\n",
       "    </tr>\n",
       "    <tr>\n",
       "      <th>2025</th>\n",
       "      <td>10</td>\n",
       "      <td>9</td>\n",
       "      <td>18</td>\n",
       "      <td>18</td>\n",
       "      <td>0</td>\n",
       "      <td>3</td>\n",
       "      <td>2012</td>\n",
       "      <td>2</td>\n",
       "      <td>0</td>\n",
       "      <td>872.162320</td>\n",
       "      <td>0.759615</td>\n",
       "      <td>1.453604</td>\n",
       "      <td>3602.409582</td>\n",
       "    </tr>\n",
       "    <tr>\n",
       "      <th>8209</th>\n",
       "      <td>4</td>\n",
       "      <td>4</td>\n",
       "      <td>16</td>\n",
       "      <td>15</td>\n",
       "      <td>0</td>\n",
       "      <td>1</td>\n",
       "      <td>2012</td>\n",
       "      <td>3</td>\n",
       "      <td>6</td>\n",
       "      <td>2420.492812</td>\n",
       "      <td>0.813536</td>\n",
       "      <td>4.034155</td>\n",
       "      <td>9997.687703</td>\n",
       "    </tr>\n",
       "    <tr>\n",
       "      <th>7870</th>\n",
       "      <td>4</td>\n",
       "      <td>4</td>\n",
       "      <td>19</td>\n",
       "      <td>17</td>\n",
       "      <td>0</td>\n",
       "      <td>0</td>\n",
       "      <td>2011</td>\n",
       "      <td>11</td>\n",
       "      <td>1</td>\n",
       "      <td>2821.532925</td>\n",
       "      <td>0.655828</td>\n",
       "      <td>4.702555</td>\n",
       "      <td>11654.157735</td>\n",
       "    </tr>\n",
       "    <tr>\n",
       "      <th>8085</th>\n",
       "      <td>0</td>\n",
       "      <td>0</td>\n",
       "      <td>15</td>\n",
       "      <td>3</td>\n",
       "      <td>0</td>\n",
       "      <td>0</td>\n",
       "      <td>2012</td>\n",
       "      <td>9</td>\n",
       "      <td>0</td>\n",
       "      <td>390.647928</td>\n",
       "      <td>0.713957</td>\n",
       "      <td>0.651080</td>\n",
       "      <td>1613.545788</td>\n",
       "    </tr>\n",
       "  </tbody>\n",
       "</table>\n",
       "</div>"
      ],
      "text/plain": [
       "      Departure  CityDeparture  Arrival  CityArrival  holidays  Season  \\\n",
       "8833         10              9        3            5         0       1   \n",
       "2025         10              9       18           18         0       3   \n",
       "8209          4              4       16           15         0       1   \n",
       "7870          4              4       19           17         0       0   \n",
       "8085          0              0       15            3         0       0   \n",
       "\n",
       "      YearOfDeparture  MonthOfDeparture  DayOfDeparture     Distance  \\\n",
       "8833             2012                 4               1  1544.881662   \n",
       "2025             2012                 2               0   872.162320   \n",
       "8209             2012                 3               6  2420.492812   \n",
       "7870             2011                11               1  2821.532925   \n",
       "8085             2012                 9               0   390.647928   \n",
       "\n",
       "      std_mean_combined       ETA          cost  \n",
       "8833           0.780533  2.574803   6381.032953  \n",
       "2025           0.759615  1.453604   3602.409582  \n",
       "8209           0.813536  4.034155   9997.687703  \n",
       "7870           0.655828  4.702555  11654.157735  \n",
       "8085           0.713957  0.651080   1613.545788  "
      ]
     },
     "execution_count": 474,
     "metadata": {},
     "output_type": "execute_result"
    }
   ],
   "source": [
    "enc.fit(df_test['Departure'])\n",
    "df_test['Departure'] = enc.transform(df_test['Departure'])\n",
    "enc.fit(df_test['Arrival'])\n",
    "df_test['Arrival'] = enc.transform(df_test['Arrival'])\n",
    "\n",
    "df_test.head()"
   ]
  },
  {
   "cell_type": "markdown",
   "metadata": {},
   "source": [
    "Οπτικοποιούμε όλες τις μεταβλητές ως προς όλες τις άλλες στο `df_train`."
   ]
  },
  {
   "cell_type": "code",
   "execution_count": 475,
   "metadata": {
    "scrolled": true
   },
   "outputs": [],
   "source": [
    "from  pandas.plotting import scatter_matrix\n",
    "#scatter_matrix(df_train,alpha=0.2 ,figsize=(20, 20), diagonal='kde')"
   ]
  },
  {
   "cell_type": "markdown",
   "metadata": {},
   "source": [
    "Στρογγυλοποιούμε τις τιμές των στηλών `Distance` και `cost` του `df_train`."
   ]
  },
  {
   "cell_type": "code",
   "execution_count": 476,
   "metadata": {
    "scrolled": true
   },
   "outputs": [
    {
     "data": {
      "text/html": [
       "<div>\n",
       "<style scoped>\n",
       "    .dataframe tbody tr th:only-of-type {\n",
       "        vertical-align: middle;\n",
       "    }\n",
       "\n",
       "    .dataframe tbody tr th {\n",
       "        vertical-align: top;\n",
       "    }\n",
       "\n",
       "    .dataframe thead th {\n",
       "        text-align: right;\n",
       "    }\n",
       "</style>\n",
       "<table border=\"1\" class=\"dataframe\">\n",
       "  <thead>\n",
       "    <tr style=\"text-align: right;\">\n",
       "      <th></th>\n",
       "      <th>Departure</th>\n",
       "      <th>CityDeparture</th>\n",
       "      <th>Arrival</th>\n",
       "      <th>CityArrival</th>\n",
       "      <th>holidays</th>\n",
       "      <th>Season</th>\n",
       "      <th>YearOfDeparture</th>\n",
       "      <th>MonthOfDeparture</th>\n",
       "      <th>DayOfDeparture</th>\n",
       "      <th>Distance</th>\n",
       "      <th>std_mean_combined</th>\n",
       "      <th>ETA</th>\n",
       "      <th>cost</th>\n",
       "    </tr>\n",
       "  </thead>\n",
       "  <tbody>\n",
       "    <tr>\n",
       "      <th>2755</th>\n",
       "      <td>7</td>\n",
       "      <td>7</td>\n",
       "      <td>15</td>\n",
       "      <td>3</td>\n",
       "      <td>0</td>\n",
       "      <td>0</td>\n",
       "      <td>2011</td>\n",
       "      <td>11</td>\n",
       "      <td>2</td>\n",
       "      <td>824</td>\n",
       "      <td>0.990410</td>\n",
       "      <td>1.372509</td>\n",
       "      <td>3401</td>\n",
       "    </tr>\n",
       "    <tr>\n",
       "      <th>1941</th>\n",
       "      <td>4</td>\n",
       "      <td>4</td>\n",
       "      <td>9</td>\n",
       "      <td>8</td>\n",
       "      <td>0</td>\n",
       "      <td>0</td>\n",
       "      <td>2012</td>\n",
       "      <td>11</td>\n",
       "      <td>4</td>\n",
       "      <td>2016</td>\n",
       "      <td>0.721343</td>\n",
       "      <td>3.360820</td>\n",
       "      <td>8329</td>\n",
       "    </tr>\n",
       "    <tr>\n",
       "      <th>3424</th>\n",
       "      <td>10</td>\n",
       "      <td>9</td>\n",
       "      <td>8</td>\n",
       "      <td>12</td>\n",
       "      <td>0</td>\n",
       "      <td>2</td>\n",
       "      <td>2012</td>\n",
       "      <td>8</td>\n",
       "      <td>4</td>\n",
       "      <td>4956</td>\n",
       "      <td>0.654643</td>\n",
       "      <td>8.259768</td>\n",
       "      <td>20470</td>\n",
       "    </tr>\n",
       "    <tr>\n",
       "      <th>4081</th>\n",
       "      <td>10</td>\n",
       "      <td>9</td>\n",
       "      <td>18</td>\n",
       "      <td>18</td>\n",
       "      <td>0</td>\n",
       "      <td>0</td>\n",
       "      <td>2012</td>\n",
       "      <td>9</td>\n",
       "      <td>4</td>\n",
       "      <td>872</td>\n",
       "      <td>0.783950</td>\n",
       "      <td>1.453604</td>\n",
       "      <td>3602</td>\n",
       "    </tr>\n",
       "    <tr>\n",
       "      <th>5505</th>\n",
       "      <td>4</td>\n",
       "      <td>4</td>\n",
       "      <td>3</td>\n",
       "      <td>5</td>\n",
       "      <td>0</td>\n",
       "      <td>0</td>\n",
       "      <td>2011</td>\n",
       "      <td>9</td>\n",
       "      <td>0</td>\n",
       "      <td>860</td>\n",
       "      <td>0.713126</td>\n",
       "      <td>1.433626</td>\n",
       "      <td>3553</td>\n",
       "    </tr>\n",
       "  </tbody>\n",
       "</table>\n",
       "</div>"
      ],
      "text/plain": [
       "      Departure  CityDeparture  Arrival  CityArrival  holidays  Season  \\\n",
       "2755          7              7       15            3         0       0   \n",
       "1941          4              4        9            8         0       0   \n",
       "3424         10              9        8           12         0       2   \n",
       "4081         10              9       18           18         0       0   \n",
       "5505          4              4        3            5         0       0   \n",
       "\n",
       "      YearOfDeparture  MonthOfDeparture  DayOfDeparture  Distance  \\\n",
       "2755             2011                11               2       824   \n",
       "1941             2012                11               4      2016   \n",
       "3424             2012                 8               4      4956   \n",
       "4081             2012                 9               4       872   \n",
       "5505             2011                 9               0       860   \n",
       "\n",
       "      std_mean_combined       ETA   cost  \n",
       "2755           0.990410  1.372509   3401  \n",
       "1941           0.721343  3.360820   8329  \n",
       "3424           0.654643  8.259768  20470  \n",
       "4081           0.783950  1.453604   3602  \n",
       "5505           0.713126  1.433626   3553  "
      ]
     },
     "execution_count": 476,
     "metadata": {},
     "output_type": "execute_result"
    }
   ],
   "source": [
    "df_train['Distance'] = df_train['Distance'].apply(round)\n",
    "df_train['cost'] = df_train['cost'].apply(round)\n",
    "\n",
    "df_train.head()"
   ]
  },
  {
   "cell_type": "markdown",
   "metadata": {},
   "source": [
    "Στρογγυλοποιούμε τις τιμές των στηλών `Distance` και `cost` του `df_test`."
   ]
  },
  {
   "cell_type": "code",
   "execution_count": null,
   "metadata": {
    "scrolled": false
   },
   "outputs": [
    {
     "data": {
      "text/html": [
       "<div>\n",
       "<style scoped>\n",
       "    .dataframe tbody tr th:only-of-type {\n",
       "        vertical-align: middle;\n",
       "    }\n",
       "\n",
       "    .dataframe tbody tr th {\n",
       "        vertical-align: top;\n",
       "    }\n",
       "\n",
       "    .dataframe thead th {\n",
       "        text-align: right;\n",
       "    }\n",
       "</style>\n",
       "<table border=\"1\" class=\"dataframe\">\n",
       "  <thead>\n",
       "    <tr style=\"text-align: right;\">\n",
       "      <th></th>\n",
       "      <th>Departure</th>\n",
       "      <th>CityDeparture</th>\n",
       "      <th>Arrival</th>\n",
       "      <th>CityArrival</th>\n",
       "      <th>holidays</th>\n",
       "      <th>Season</th>\n",
       "      <th>YearOfDeparture</th>\n",
       "      <th>MonthOfDeparture</th>\n",
       "      <th>DayOfDeparture</th>\n",
       "      <th>Distance</th>\n",
       "      <th>std_mean_combined</th>\n",
       "      <th>ETA</th>\n",
       "      <th>cost</th>\n",
       "    </tr>\n",
       "  </thead>\n",
       "  <tbody>\n",
       "    <tr>\n",
       "      <th>8833</th>\n",
       "      <td>10</td>\n",
       "      <td>9</td>\n",
       "      <td>3</td>\n",
       "      <td>5</td>\n",
       "      <td>0</td>\n",
       "      <td>1</td>\n",
       "      <td>2012</td>\n",
       "      <td>4</td>\n",
       "      <td>1</td>\n",
       "      <td>1545</td>\n",
       "      <td>0.780533</td>\n",
       "      <td>2.574803</td>\n",
       "      <td>6381</td>\n",
       "    </tr>\n",
       "    <tr>\n",
       "      <th>2025</th>\n",
       "      <td>10</td>\n",
       "      <td>9</td>\n",
       "      <td>18</td>\n",
       "      <td>18</td>\n",
       "      <td>0</td>\n",
       "      <td>3</td>\n",
       "      <td>2012</td>\n",
       "      <td>2</td>\n",
       "      <td>0</td>\n",
       "      <td>872</td>\n",
       "      <td>0.759615</td>\n",
       "      <td>1.453604</td>\n",
       "      <td>3602</td>\n",
       "    </tr>\n",
       "    <tr>\n",
       "      <th>8209</th>\n",
       "      <td>4</td>\n",
       "      <td>4</td>\n",
       "      <td>16</td>\n",
       "      <td>15</td>\n",
       "      <td>0</td>\n",
       "      <td>1</td>\n",
       "      <td>2012</td>\n",
       "      <td>3</td>\n",
       "      <td>6</td>\n",
       "      <td>2420</td>\n",
       "      <td>0.813536</td>\n",
       "      <td>4.034155</td>\n",
       "      <td>9998</td>\n",
       "    </tr>\n",
       "    <tr>\n",
       "      <th>7870</th>\n",
       "      <td>4</td>\n",
       "      <td>4</td>\n",
       "      <td>19</td>\n",
       "      <td>17</td>\n",
       "      <td>0</td>\n",
       "      <td>0</td>\n",
       "      <td>2011</td>\n",
       "      <td>11</td>\n",
       "      <td>1</td>\n",
       "      <td>2822</td>\n",
       "      <td>0.655828</td>\n",
       "      <td>4.702555</td>\n",
       "      <td>11654</td>\n",
       "    </tr>\n",
       "    <tr>\n",
       "      <th>8085</th>\n",
       "      <td>0</td>\n",
       "      <td>0</td>\n",
       "      <td>15</td>\n",
       "      <td>3</td>\n",
       "      <td>0</td>\n",
       "      <td>0</td>\n",
       "      <td>2012</td>\n",
       "      <td>9</td>\n",
       "      <td>0</td>\n",
       "      <td>391</td>\n",
       "      <td>0.713957</td>\n",
       "      <td>0.651080</td>\n",
       "      <td>1614</td>\n",
       "    </tr>\n",
       "  </tbody>\n",
       "</table>\n",
       "</div>"
      ],
      "text/plain": [
       "      Departure  CityDeparture  Arrival  CityArrival  holidays  Season  \\\n",
       "8833         10              9        3            5         0       1   \n",
       "2025         10              9       18           18         0       3   \n",
       "8209          4              4       16           15         0       1   \n",
       "7870          4              4       19           17         0       0   \n",
       "8085          0              0       15            3         0       0   \n",
       "\n",
       "      YearOfDeparture  MonthOfDeparture  DayOfDeparture  Distance  \\\n",
       "8833             2012                 4               1      1545   \n",
       "2025             2012                 2               0       872   \n",
       "8209             2012                 3               6      2420   \n",
       "7870             2011                11               1      2822   \n",
       "8085             2012                 9               0       391   \n",
       "\n",
       "      std_mean_combined       ETA   cost  \n",
       "8833           0.780533  2.574803   6381  \n",
       "2025           0.759615  1.453604   3602  \n",
       "8209           0.813536  4.034155   9998  \n",
       "7870           0.655828  4.702555  11654  \n",
       "8085           0.713957  0.651080   1614  "
      ]
     },
     "execution_count": 477,
     "metadata": {},
     "output_type": "execute_result"
    }
   ],
   "source": [
    "df_test['Distance'] = df_test['Distance'].apply(round)\n",
    "df_test['cost'] = df_test['cost'].apply(round)\n",
    "\n",
    "df_test.head()"
   ]
  },
  {
   "cell_type": "markdown",
   "metadata": {},
   "source": [
    "Αντιγραφή των πινάκων `df_train` και `df_test` σε 2 πίνακες `X_train` και `X_test`."
   ]
  },
  {
   "cell_type": "code",
   "execution_count": null,
   "metadata": {
    "scrolled": false
   },
   "outputs": [
    {
     "data": {
      "text/html": [
       "<div>\n",
       "<style scoped>\n",
       "    .dataframe tbody tr th:only-of-type {\n",
       "        vertical-align: middle;\n",
       "    }\n",
       "\n",
       "    .dataframe tbody tr th {\n",
       "        vertical-align: top;\n",
       "    }\n",
       "\n",
       "    .dataframe thead th {\n",
       "        text-align: right;\n",
       "    }\n",
       "</style>\n",
       "<table border=\"1\" class=\"dataframe\">\n",
       "  <thead>\n",
       "    <tr style=\"text-align: right;\">\n",
       "      <th></th>\n",
       "      <th>Departure</th>\n",
       "      <th>CityDeparture</th>\n",
       "      <th>Arrival</th>\n",
       "      <th>CityArrival</th>\n",
       "      <th>holidays</th>\n",
       "      <th>Season</th>\n",
       "      <th>YearOfDeparture</th>\n",
       "      <th>MonthOfDeparture</th>\n",
       "      <th>DayOfDeparture</th>\n",
       "      <th>Distance</th>\n",
       "      <th>std_mean_combined</th>\n",
       "      <th>ETA</th>\n",
       "      <th>cost</th>\n",
       "    </tr>\n",
       "  </thead>\n",
       "  <tbody>\n",
       "    <tr>\n",
       "      <th>2755</th>\n",
       "      <td>7</td>\n",
       "      <td>7</td>\n",
       "      <td>15</td>\n",
       "      <td>3</td>\n",
       "      <td>0</td>\n",
       "      <td>0</td>\n",
       "      <td>2011</td>\n",
       "      <td>11</td>\n",
       "      <td>2</td>\n",
       "      <td>824</td>\n",
       "      <td>0.990410</td>\n",
       "      <td>1.372509</td>\n",
       "      <td>3401</td>\n",
       "    </tr>\n",
       "    <tr>\n",
       "      <th>1941</th>\n",
       "      <td>4</td>\n",
       "      <td>4</td>\n",
       "      <td>9</td>\n",
       "      <td>8</td>\n",
       "      <td>0</td>\n",
       "      <td>0</td>\n",
       "      <td>2012</td>\n",
       "      <td>11</td>\n",
       "      <td>4</td>\n",
       "      <td>2016</td>\n",
       "      <td>0.721343</td>\n",
       "      <td>3.360820</td>\n",
       "      <td>8329</td>\n",
       "    </tr>\n",
       "    <tr>\n",
       "      <th>3424</th>\n",
       "      <td>10</td>\n",
       "      <td>9</td>\n",
       "      <td>8</td>\n",
       "      <td>12</td>\n",
       "      <td>0</td>\n",
       "      <td>2</td>\n",
       "      <td>2012</td>\n",
       "      <td>8</td>\n",
       "      <td>4</td>\n",
       "      <td>4956</td>\n",
       "      <td>0.654643</td>\n",
       "      <td>8.259768</td>\n",
       "      <td>20470</td>\n",
       "    </tr>\n",
       "    <tr>\n",
       "      <th>4081</th>\n",
       "      <td>10</td>\n",
       "      <td>9</td>\n",
       "      <td>18</td>\n",
       "      <td>18</td>\n",
       "      <td>0</td>\n",
       "      <td>0</td>\n",
       "      <td>2012</td>\n",
       "      <td>9</td>\n",
       "      <td>4</td>\n",
       "      <td>872</td>\n",
       "      <td>0.783950</td>\n",
       "      <td>1.453604</td>\n",
       "      <td>3602</td>\n",
       "    </tr>\n",
       "    <tr>\n",
       "      <th>5505</th>\n",
       "      <td>4</td>\n",
       "      <td>4</td>\n",
       "      <td>3</td>\n",
       "      <td>5</td>\n",
       "      <td>0</td>\n",
       "      <td>0</td>\n",
       "      <td>2011</td>\n",
       "      <td>9</td>\n",
       "      <td>0</td>\n",
       "      <td>860</td>\n",
       "      <td>0.713126</td>\n",
       "      <td>1.433626</td>\n",
       "      <td>3553</td>\n",
       "    </tr>\n",
       "  </tbody>\n",
       "</table>\n",
       "</div>"
      ],
      "text/plain": [
       "      Departure  CityDeparture  Arrival  CityArrival  holidays  Season  \\\n",
       "2755          7              7       15            3         0       0   \n",
       "1941          4              4        9            8         0       0   \n",
       "3424         10              9        8           12         0       2   \n",
       "4081         10              9       18           18         0       0   \n",
       "5505          4              4        3            5         0       0   \n",
       "\n",
       "      YearOfDeparture  MonthOfDeparture  DayOfDeparture  Distance  \\\n",
       "2755             2011                11               2       824   \n",
       "1941             2012                11               4      2016   \n",
       "3424             2012                 8               4      4956   \n",
       "4081             2012                 9               4       872   \n",
       "5505             2011                 9               0       860   \n",
       "\n",
       "      std_mean_combined       ETA   cost  \n",
       "2755           0.990410  1.372509   3401  \n",
       "1941           0.721343  3.360820   8329  \n",
       "3424           0.654643  8.259768  20470  \n",
       "4081           0.783950  1.453604   3602  \n",
       "5505           0.713126  1.433626   3553  "
      ]
     },
     "execution_count": 478,
     "metadata": {},
     "output_type": "execute_result"
    }
   ],
   "source": [
    "import numpy as np\n",
    "\n",
    "X_train = df_train.copy()\n",
    "X_test = df_test.copy()\n",
    "\n",
    "X_train.head()"
   ]
  },
  {
   "cell_type": "code",
   "execution_count": null,
   "metadata": {
    "scrolled": true
   },
   "outputs": [
    {
     "data": {
      "text/html": [
       "<div>\n",
       "<style scoped>\n",
       "    .dataframe tbody tr th:only-of-type {\n",
       "        vertical-align: middle;\n",
       "    }\n",
       "\n",
       "    .dataframe tbody tr th {\n",
       "        vertical-align: top;\n",
       "    }\n",
       "\n",
       "    .dataframe thead th {\n",
       "        text-align: right;\n",
       "    }\n",
       "</style>\n",
       "<table border=\"1\" class=\"dataframe\">\n",
       "  <thead>\n",
       "    <tr style=\"text-align: right;\">\n",
       "      <th></th>\n",
       "      <th>Departure</th>\n",
       "      <th>CityDeparture</th>\n",
       "      <th>Arrival</th>\n",
       "      <th>CityArrival</th>\n",
       "      <th>holidays</th>\n",
       "      <th>Season</th>\n",
       "      <th>YearOfDeparture</th>\n",
       "      <th>MonthOfDeparture</th>\n",
       "      <th>DayOfDeparture</th>\n",
       "      <th>Distance</th>\n",
       "      <th>std_mean_combined</th>\n",
       "      <th>ETA</th>\n",
       "      <th>cost</th>\n",
       "    </tr>\n",
       "  </thead>\n",
       "  <tbody>\n",
       "    <tr>\n",
       "      <th>8833</th>\n",
       "      <td>10</td>\n",
       "      <td>9</td>\n",
       "      <td>3</td>\n",
       "      <td>5</td>\n",
       "      <td>0</td>\n",
       "      <td>1</td>\n",
       "      <td>2012</td>\n",
       "      <td>4</td>\n",
       "      <td>1</td>\n",
       "      <td>1545</td>\n",
       "      <td>0.780533</td>\n",
       "      <td>2.574803</td>\n",
       "      <td>6381</td>\n",
       "    </tr>\n",
       "    <tr>\n",
       "      <th>2025</th>\n",
       "      <td>10</td>\n",
       "      <td>9</td>\n",
       "      <td>18</td>\n",
       "      <td>18</td>\n",
       "      <td>0</td>\n",
       "      <td>3</td>\n",
       "      <td>2012</td>\n",
       "      <td>2</td>\n",
       "      <td>0</td>\n",
       "      <td>872</td>\n",
       "      <td>0.759615</td>\n",
       "      <td>1.453604</td>\n",
       "      <td>3602</td>\n",
       "    </tr>\n",
       "    <tr>\n",
       "      <th>8209</th>\n",
       "      <td>4</td>\n",
       "      <td>4</td>\n",
       "      <td>16</td>\n",
       "      <td>15</td>\n",
       "      <td>0</td>\n",
       "      <td>1</td>\n",
       "      <td>2012</td>\n",
       "      <td>3</td>\n",
       "      <td>6</td>\n",
       "      <td>2420</td>\n",
       "      <td>0.813536</td>\n",
       "      <td>4.034155</td>\n",
       "      <td>9998</td>\n",
       "    </tr>\n",
       "    <tr>\n",
       "      <th>7870</th>\n",
       "      <td>4</td>\n",
       "      <td>4</td>\n",
       "      <td>19</td>\n",
       "      <td>17</td>\n",
       "      <td>0</td>\n",
       "      <td>0</td>\n",
       "      <td>2011</td>\n",
       "      <td>11</td>\n",
       "      <td>1</td>\n",
       "      <td>2822</td>\n",
       "      <td>0.655828</td>\n",
       "      <td>4.702555</td>\n",
       "      <td>11654</td>\n",
       "    </tr>\n",
       "    <tr>\n",
       "      <th>8085</th>\n",
       "      <td>0</td>\n",
       "      <td>0</td>\n",
       "      <td>15</td>\n",
       "      <td>3</td>\n",
       "      <td>0</td>\n",
       "      <td>0</td>\n",
       "      <td>2012</td>\n",
       "      <td>9</td>\n",
       "      <td>0</td>\n",
       "      <td>391</td>\n",
       "      <td>0.713957</td>\n",
       "      <td>0.651080</td>\n",
       "      <td>1614</td>\n",
       "    </tr>\n",
       "  </tbody>\n",
       "</table>\n",
       "</div>"
      ],
      "text/plain": [
       "      Departure  CityDeparture  Arrival  CityArrival  holidays  Season  \\\n",
       "8833         10              9        3            5         0       1   \n",
       "2025         10              9       18           18         0       3   \n",
       "8209          4              4       16           15         0       1   \n",
       "7870          4              4       19           17         0       0   \n",
       "8085          0              0       15            3         0       0   \n",
       "\n",
       "      YearOfDeparture  MonthOfDeparture  DayOfDeparture  Distance  \\\n",
       "8833             2012                 4               1      1545   \n",
       "2025             2012                 2               0       872   \n",
       "8209             2012                 3               6      2420   \n",
       "7870             2011                11               1      2822   \n",
       "8085             2012                 9               0       391   \n",
       "\n",
       "      std_mean_combined       ETA   cost  \n",
       "8833           0.780533  2.574803   6381  \n",
       "2025           0.759615  1.453604   3602  \n",
       "8209           0.813536  4.034155   9998  \n",
       "7870           0.655828  4.702555  11654  \n",
       "8085           0.713957  0.651080   1614  "
      ]
     },
     "execution_count": 479,
     "metadata": {},
     "output_type": "execute_result"
    }
   ],
   "source": [
    "X_test.head()"
   ]
  },
  {
   "cell_type": "markdown",
   "metadata": {},
   "source": [
    "**BRUTE FORCE**\n",
    "(CHECK THE WHOLE SUPERSET)."
   ]
  },
  {
   "cell_type": "code",
   "execution_count": null,
   "metadata": {
    "scrolled": true
   },
   "outputs": [],
   "source": [
    "if False:\n",
    "    import random\n",
    "    from sklearn.ensemble import RandomForestClassifier\n",
    "    from IPython.display import clear_output\n",
    "    from sklearn.metrics import f1_score\n",
    "\n",
    "    elements = ['YearOfDeparture', 'Departure', 'CityDeparture', 'Arrival', 'CityArrival', 'holidays', 'Season', 'MonthOfDeparture', 'DayOfDeparture', 'Distance', 'std_mean_combined', 'ETA']\n",
    "    sets = [set([])]\n",
    "    for n in elements:\n",
    "        sets.extend([s | {n} for s in sets])\n",
    "    \n",
    "    temp = []\n",
    "    \n",
    "    max_score = 0\n",
    "    i = 0\n",
    "    for s in sets:\n",
    "        i = i + 1\n",
    "\n",
    "        #clear_output()\n",
    "        #print('done', ((i/len(sets)) * 100), '%')\n",
    "\n",
    "        s = list(s)\n",
    "\n",
    "        if len(s) != 0 and len(s) != len(elements):\n",
    "            X_train = df_train.copy()\n",
    "            X_test = df_test.copy()\n",
    "\n",
    "            columns = s\n",
    "\n",
    "            X_train.drop(columns, axis=1, inplace=True)\n",
    "            X_test.drop(columns, axis=1, inplace=True)\n",
    "\n",
    "            y_train = np.ravel(y_train)\n",
    "\n",
    "            numbers = [i for i in range(30, 45)]\n",
    "            numbers = [32]\n",
    "            for n in numbers:\n",
    "                clf = RandomForestClassifier(n_estimators=n, random_state=7)\n",
    "\n",
    "                clf.fit(X_train, y_train)\n",
    "\n",
    "                y_pred = clf.predict(X_test)\n",
    "\n",
    "                score = f1_score(y_test, y_pred, average='micro')\n",
    "                temp.append([score, columns, n])\n",
    "                if score > 0.515:\n",
    "                    print(score, 'by dropping', columns, 'and using n_estimators =', n)\n",
    "                if score > max_score:\n",
    "                    max_score = score\n",
    "                    best_set = columns.copy()\n",
    "                    best_n = n\n",
    "            \n",
    "\n",
    "    print('max score:', max_score, 'achieved by dropping:', best_set, 'and using n_estimators =', best_n)\n",
    "\n",
    "    for t in sorted(temp, key=lambda temp: temp[0]):\n",
    "        print(t)"
   ]
  },
  {
   "cell_type": "markdown",
   "metadata": {},
   "source": [
    "**BRUTE FORCE**\n",
    "(CHECK THE WHOLE SUPERSET)."
   ]
  },
  {
   "cell_type": "code",
   "execution_count": null,
   "metadata": {
    "scrolled": true
   },
   "outputs": [
    {
     "name": "stdout",
     "output_type": "stream",
     "text": [
      "done 0.0244140625 %\n",
      "done 0.048828125 %\n",
      "0.5567415730337079 by dropping ['YearOfDeparture']\n",
      "done 0.0732421875 %\n",
      "done 0.09765625 %\n",
      "done 0.1220703125 %\n",
      "done 0.146484375 %\n",
      "done 0.1708984375 %\n"
     ]
    },
    {
     "name": "stderr",
     "output_type": "stream",
     "text": [
      "c:\\users\\cc\\anaconda3\\envs\\venv\\lib\\site-packages\\sklearn\\neural_network\\multilayer_perceptron.py:562: ConvergenceWarning: Stochastic Optimizer: Maximum iterations (800) reached and the optimization hasn't converged yet.\n",
      "  % self.max_iter, ConvergenceWarning)\n"
     ]
    },
    {
     "name": "stdout",
     "output_type": "stream",
     "text": [
      "done 0.1953125 %\n"
     ]
    },
    {
     "name": "stderr",
     "output_type": "stream",
     "text": [
      "c:\\users\\cc\\anaconda3\\envs\\venv\\lib\\site-packages\\sklearn\\neural_network\\multilayer_perceptron.py:562: ConvergenceWarning: Stochastic Optimizer: Maximum iterations (800) reached and the optimization hasn't converged yet.\n",
      "  % self.max_iter, ConvergenceWarning)\n"
     ]
    },
    {
     "name": "stdout",
     "output_type": "stream",
     "text": [
      "done 0.2197265625 %\n",
      "done 0.244140625 %\n",
      "done 0.2685546875 %\n",
      "done 0.29296875 %\n",
      "done 0.3173828125 %\n",
      "done 0.341796875 %\n"
     ]
    },
    {
     "name": "stderr",
     "output_type": "stream",
     "text": [
      "c:\\users\\cc\\anaconda3\\envs\\venv\\lib\\site-packages\\sklearn\\neural_network\\multilayer_perceptron.py:562: ConvergenceWarning: Stochastic Optimizer: Maximum iterations (800) reached and the optimization hasn't converged yet.\n",
      "  % self.max_iter, ConvergenceWarning)\n"
     ]
    },
    {
     "name": "stdout",
     "output_type": "stream",
     "text": [
      "done 0.3662109375 %\n"
     ]
    },
    {
     "name": "stderr",
     "output_type": "stream",
     "text": [
      "c:\\users\\cc\\anaconda3\\envs\\venv\\lib\\site-packages\\sklearn\\neural_network\\multilayer_perceptron.py:562: ConvergenceWarning: Stochastic Optimizer: Maximum iterations (800) reached and the optimization hasn't converged yet.\n",
      "  % self.max_iter, ConvergenceWarning)\n"
     ]
    },
    {
     "name": "stdout",
     "output_type": "stream",
     "text": [
      "done 0.390625 %\n"
     ]
    },
    {
     "name": "stderr",
     "output_type": "stream",
     "text": [
      "c:\\users\\cc\\anaconda3\\envs\\venv\\lib\\site-packages\\sklearn\\neural_network\\multilayer_perceptron.py:562: ConvergenceWarning: Stochastic Optimizer: Maximum iterations (800) reached and the optimization hasn't converged yet.\n",
      "  % self.max_iter, ConvergenceWarning)\n"
     ]
    },
    {
     "name": "stdout",
     "output_type": "stream",
     "text": [
      "done 0.4150390625 %\n",
      "done 0.439453125 %\n",
      "done 0.4638671875 %\n"
     ]
    },
    {
     "name": "stderr",
     "output_type": "stream",
     "text": [
      "c:\\users\\cc\\anaconda3\\envs\\venv\\lib\\site-packages\\sklearn\\neural_network\\multilayer_perceptron.py:562: ConvergenceWarning: Stochastic Optimizer: Maximum iterations (800) reached and the optimization hasn't converged yet.\n",
      "  % self.max_iter, ConvergenceWarning)\n"
     ]
    },
    {
     "name": "stdout",
     "output_type": "stream",
     "text": [
      "done 0.48828125 %\n",
      "done 0.5126953125 %\n",
      "done 0.537109375 %\n"
     ]
    },
    {
     "name": "stderr",
     "output_type": "stream",
     "text": [
      "c:\\users\\cc\\anaconda3\\envs\\venv\\lib\\site-packages\\sklearn\\neural_network\\multilayer_perceptron.py:562: ConvergenceWarning: Stochastic Optimizer: Maximum iterations (800) reached and the optimization hasn't converged yet.\n",
      "  % self.max_iter, ConvergenceWarning)\n"
     ]
    },
    {
     "name": "stdout",
     "output_type": "stream",
     "text": [
      "done 0.5615234375 %\n"
     ]
    },
    {
     "name": "stderr",
     "output_type": "stream",
     "text": [
      "c:\\users\\cc\\anaconda3\\envs\\venv\\lib\\site-packages\\sklearn\\neural_network\\multilayer_perceptron.py:562: ConvergenceWarning: Stochastic Optimizer: Maximum iterations (800) reached and the optimization hasn't converged yet.\n",
      "  % self.max_iter, ConvergenceWarning)\n"
     ]
    },
    {
     "name": "stdout",
     "output_type": "stream",
     "text": [
      "done 0.5859375 %\n"
     ]
    },
    {
     "name": "stderr",
     "output_type": "stream",
     "text": [
      "c:\\users\\cc\\anaconda3\\envs\\venv\\lib\\site-packages\\sklearn\\neural_network\\multilayer_perceptron.py:562: ConvergenceWarning: Stochastic Optimizer: Maximum iterations (800) reached and the optimization hasn't converged yet.\n",
      "  % self.max_iter, ConvergenceWarning)\n"
     ]
    },
    {
     "name": "stdout",
     "output_type": "stream",
     "text": [
      "done 0.6103515625 %\n"
     ]
    },
    {
     "name": "stderr",
     "output_type": "stream",
     "text": [
      "c:\\users\\cc\\anaconda3\\envs\\venv\\lib\\site-packages\\sklearn\\neural_network\\multilayer_perceptron.py:562: ConvergenceWarning: Stochastic Optimizer: Maximum iterations (800) reached and the optimization hasn't converged yet.\n",
      "  % self.max_iter, ConvergenceWarning)\n"
     ]
    },
    {
     "name": "stdout",
     "output_type": "stream",
     "text": [
      "done 0.634765625 %\n"
     ]
    },
    {
     "name": "stderr",
     "output_type": "stream",
     "text": [
      "c:\\users\\cc\\anaconda3\\envs\\venv\\lib\\site-packages\\sklearn\\neural_network\\multilayer_perceptron.py:562: ConvergenceWarning: Stochastic Optimizer: Maximum iterations (800) reached and the optimization hasn't converged yet.\n",
      "  % self.max_iter, ConvergenceWarning)\n"
     ]
    },
    {
     "name": "stdout",
     "output_type": "stream",
     "text": [
      "done 0.6591796875 %\n"
     ]
    },
    {
     "name": "stderr",
     "output_type": "stream",
     "text": [
      "c:\\users\\cc\\anaconda3\\envs\\venv\\lib\\site-packages\\sklearn\\neural_network\\multilayer_perceptron.py:562: ConvergenceWarning: Stochastic Optimizer: Maximum iterations (800) reached and the optimization hasn't converged yet.\n",
      "  % self.max_iter, ConvergenceWarning)\n"
     ]
    },
    {
     "name": "stdout",
     "output_type": "stream",
     "text": [
      "done 0.68359375 %\n"
     ]
    },
    {
     "name": "stderr",
     "output_type": "stream",
     "text": [
      "c:\\users\\cc\\anaconda3\\envs\\venv\\lib\\site-packages\\sklearn\\neural_network\\multilayer_perceptron.py:562: ConvergenceWarning: Stochastic Optimizer: Maximum iterations (800) reached and the optimization hasn't converged yet.\n",
      "  % self.max_iter, ConvergenceWarning)\n"
     ]
    },
    {
     "name": "stdout",
     "output_type": "stream",
     "text": [
      "done 0.7080078125 %\n",
      "done 0.732421875 %\n"
     ]
    },
    {
     "name": "stderr",
     "output_type": "stream",
     "text": [
      "c:\\users\\cc\\anaconda3\\envs\\venv\\lib\\site-packages\\sklearn\\neural_network\\multilayer_perceptron.py:562: ConvergenceWarning: Stochastic Optimizer: Maximum iterations (800) reached and the optimization hasn't converged yet.\n",
      "  % self.max_iter, ConvergenceWarning)\n"
     ]
    },
    {
     "name": "stdout",
     "output_type": "stream",
     "text": [
      "done 0.7568359375 %\n",
      "done 0.78125 %\n"
     ]
    },
    {
     "name": "stderr",
     "output_type": "stream",
     "text": [
      "c:\\users\\cc\\anaconda3\\envs\\venv\\lib\\site-packages\\sklearn\\neural_network\\multilayer_perceptron.py:562: ConvergenceWarning: Stochastic Optimizer: Maximum iterations (800) reached and the optimization hasn't converged yet.\n",
      "  % self.max_iter, ConvergenceWarning)\n"
     ]
    },
    {
     "name": "stdout",
     "output_type": "stream",
     "text": [
      "done 0.8056640625 %\n",
      "done 0.830078125 %\n",
      "done 0.8544921875 %\n"
     ]
    },
    {
     "name": "stderr",
     "output_type": "stream",
     "text": [
      "c:\\users\\cc\\anaconda3\\envs\\venv\\lib\\site-packages\\sklearn\\neural_network\\multilayer_perceptron.py:562: ConvergenceWarning: Stochastic Optimizer: Maximum iterations (800) reached and the optimization hasn't converged yet.\n",
      "  % self.max_iter, ConvergenceWarning)\n"
     ]
    },
    {
     "name": "stdout",
     "output_type": "stream",
     "text": [
      "done 0.87890625 %\n",
      "done 0.9033203125 %\n",
      "done 0.927734375 %\n",
      "done 0.9521484375 %\n"
     ]
    },
    {
     "name": "stderr",
     "output_type": "stream",
     "text": [
      "c:\\users\\cc\\anaconda3\\envs\\venv\\lib\\site-packages\\sklearn\\neural_network\\multilayer_perceptron.py:562: ConvergenceWarning: Stochastic Optimizer: Maximum iterations (800) reached and the optimization hasn't converged yet.\n",
      "  % self.max_iter, ConvergenceWarning)\n"
     ]
    },
    {
     "name": "stdout",
     "output_type": "stream",
     "text": [
      "done 0.9765625 %\n"
     ]
    },
    {
     "name": "stderr",
     "output_type": "stream",
     "text": [
      "c:\\users\\cc\\anaconda3\\envs\\venv\\lib\\site-packages\\sklearn\\neural_network\\multilayer_perceptron.py:562: ConvergenceWarning: Stochastic Optimizer: Maximum iterations (800) reached and the optimization hasn't converged yet.\n",
      "  % self.max_iter, ConvergenceWarning)\n"
     ]
    },
    {
     "name": "stdout",
     "output_type": "stream",
     "text": [
      "done 1.0009765625 %\n",
      "done 1.025390625 %\n",
      "done 1.0498046875 %\n",
      "done 1.07421875 %\n",
      "done 1.0986328125 %\n",
      "done 1.123046875 %\n",
      "done 1.1474609375 %\n"
     ]
    },
    {
     "name": "stderr",
     "output_type": "stream",
     "text": [
      "c:\\users\\cc\\anaconda3\\envs\\venv\\lib\\site-packages\\sklearn\\neural_network\\multilayer_perceptron.py:562: ConvergenceWarning: Stochastic Optimizer: Maximum iterations (800) reached and the optimization hasn't converged yet.\n",
      "  % self.max_iter, ConvergenceWarning)\n"
     ]
    },
    {
     "name": "stdout",
     "output_type": "stream",
     "text": [
      "done 1.171875 %\n"
     ]
    },
    {
     "name": "stderr",
     "output_type": "stream",
     "text": [
      "c:\\users\\cc\\anaconda3\\envs\\venv\\lib\\site-packages\\sklearn\\neural_network\\multilayer_perceptron.py:562: ConvergenceWarning: Stochastic Optimizer: Maximum iterations (800) reached and the optimization hasn't converged yet.\n",
      "  % self.max_iter, ConvergenceWarning)\n"
     ]
    },
    {
     "name": "stdout",
     "output_type": "stream",
     "text": [
      "done 1.1962890625 %\n",
      "done 1.220703125 %\n",
      "done 1.2451171875 %\n",
      "done 1.26953125 %\n",
      "done 1.2939453125 %\n",
      "done 1.318359375 %\n",
      "done 1.3427734375 %\n"
     ]
    },
    {
     "name": "stderr",
     "output_type": "stream",
     "text": [
      "c:\\users\\cc\\anaconda3\\envs\\venv\\lib\\site-packages\\sklearn\\neural_network\\multilayer_perceptron.py:562: ConvergenceWarning: Stochastic Optimizer: Maximum iterations (800) reached and the optimization hasn't converged yet.\n",
      "  % self.max_iter, ConvergenceWarning)\n"
     ]
    },
    {
     "name": "stdout",
     "output_type": "stream",
     "text": [
      "done 1.3671875 %\n"
     ]
    },
    {
     "name": "stderr",
     "output_type": "stream",
     "text": [
      "c:\\users\\cc\\anaconda3\\envs\\venv\\lib\\site-packages\\sklearn\\neural_network\\multilayer_perceptron.py:562: ConvergenceWarning: Stochastic Optimizer: Maximum iterations (800) reached and the optimization hasn't converged yet.\n",
      "  % self.max_iter, ConvergenceWarning)\n"
     ]
    },
    {
     "name": "stdout",
     "output_type": "stream",
     "text": [
      "done 1.3916015625 %\n"
     ]
    },
    {
     "name": "stderr",
     "output_type": "stream",
     "text": [
      "c:\\users\\cc\\anaconda3\\envs\\venv\\lib\\site-packages\\sklearn\\neural_network\\multilayer_perceptron.py:562: ConvergenceWarning: Stochastic Optimizer: Maximum iterations (800) reached and the optimization hasn't converged yet.\n",
      "  % self.max_iter, ConvergenceWarning)\n"
     ]
    },
    {
     "name": "stdout",
     "output_type": "stream",
     "text": [
      "done 1.416015625 %\n"
     ]
    },
    {
     "name": "stderr",
     "output_type": "stream",
     "text": [
      "c:\\users\\cc\\anaconda3\\envs\\venv\\lib\\site-packages\\sklearn\\neural_network\\multilayer_perceptron.py:562: ConvergenceWarning: Stochastic Optimizer: Maximum iterations (800) reached and the optimization hasn't converged yet.\n",
      "  % self.max_iter, ConvergenceWarning)\n"
     ]
    },
    {
     "name": "stdout",
     "output_type": "stream",
     "text": [
      "done 1.4404296875 %\n"
     ]
    },
    {
     "name": "stderr",
     "output_type": "stream",
     "text": [
      "c:\\users\\cc\\anaconda3\\envs\\venv\\lib\\site-packages\\sklearn\\neural_network\\multilayer_perceptron.py:562: ConvergenceWarning: Stochastic Optimizer: Maximum iterations (800) reached and the optimization hasn't converged yet.\n",
      "  % self.max_iter, ConvergenceWarning)\n"
     ]
    },
    {
     "name": "stdout",
     "output_type": "stream",
     "text": [
      "done 1.46484375 %\n"
     ]
    },
    {
     "name": "stderr",
     "output_type": "stream",
     "text": [
      "c:\\users\\cc\\anaconda3\\envs\\venv\\lib\\site-packages\\sklearn\\neural_network\\multilayer_perceptron.py:562: ConvergenceWarning: Stochastic Optimizer: Maximum iterations (800) reached and the optimization hasn't converged yet.\n",
      "  % self.max_iter, ConvergenceWarning)\n"
     ]
    },
    {
     "name": "stdout",
     "output_type": "stream",
     "text": [
      "done 1.4892578125 %\n"
     ]
    },
    {
     "name": "stderr",
     "output_type": "stream",
     "text": [
      "c:\\users\\cc\\anaconda3\\envs\\venv\\lib\\site-packages\\sklearn\\neural_network\\multilayer_perceptron.py:562: ConvergenceWarning: Stochastic Optimizer: Maximum iterations (800) reached and the optimization hasn't converged yet.\n",
      "  % self.max_iter, ConvergenceWarning)\n"
     ]
    },
    {
     "name": "stdout",
     "output_type": "stream",
     "text": [
      "done 1.513671875 %\n",
      "done 1.5380859375 %\n",
      "done 1.5625 %\n",
      "done 1.5869140625 %\n",
      "done 1.611328125 %\n",
      "done 1.6357421875 %\n",
      "done 1.66015625 %\n"
     ]
    },
    {
     "name": "stderr",
     "output_type": "stream",
     "text": [
      "c:\\users\\cc\\anaconda3\\envs\\venv\\lib\\site-packages\\sklearn\\neural_network\\multilayer_perceptron.py:562: ConvergenceWarning: Stochastic Optimizer: Maximum iterations (800) reached and the optimization hasn't converged yet.\n",
      "  % self.max_iter, ConvergenceWarning)\n"
     ]
    },
    {
     "name": "stdout",
     "output_type": "stream",
     "text": [
      "done 1.6845703125 %\n",
      "done 1.708984375 %\n",
      "done 1.7333984375 %\n"
     ]
    },
    {
     "name": "stderr",
     "output_type": "stream",
     "text": [
      "c:\\users\\cc\\anaconda3\\envs\\venv\\lib\\site-packages\\sklearn\\neural_network\\multilayer_perceptron.py:562: ConvergenceWarning: Stochastic Optimizer: Maximum iterations (800) reached and the optimization hasn't converged yet.\n",
      "  % self.max_iter, ConvergenceWarning)\n"
     ]
    },
    {
     "name": "stdout",
     "output_type": "stream",
     "text": [
      "done 1.7578125 %\n"
     ]
    },
    {
     "name": "stderr",
     "output_type": "stream",
     "text": [
      "c:\\users\\cc\\anaconda3\\envs\\venv\\lib\\site-packages\\sklearn\\neural_network\\multilayer_perceptron.py:562: ConvergenceWarning: Stochastic Optimizer: Maximum iterations (800) reached and the optimization hasn't converged yet.\n",
      "  % self.max_iter, ConvergenceWarning)\n"
     ]
    },
    {
     "name": "stdout",
     "output_type": "stream",
     "text": [
      "done 1.7822265625 %\n",
      "done 1.806640625 %\n",
      "done 1.8310546875 %\n"
     ]
    },
    {
     "name": "stderr",
     "output_type": "stream",
     "text": [
      "c:\\users\\cc\\anaconda3\\envs\\venv\\lib\\site-packages\\sklearn\\neural_network\\multilayer_perceptron.py:562: ConvergenceWarning: Stochastic Optimizer: Maximum iterations (800) reached and the optimization hasn't converged yet.\n",
      "  % self.max_iter, ConvergenceWarning)\n"
     ]
    },
    {
     "name": "stdout",
     "output_type": "stream",
     "text": [
      "done 1.85546875 %\n",
      "done 1.8798828125 %\n"
     ]
    },
    {
     "name": "stderr",
     "output_type": "stream",
     "text": [
      "c:\\users\\cc\\anaconda3\\envs\\venv\\lib\\site-packages\\sklearn\\neural_network\\multilayer_perceptron.py:562: ConvergenceWarning: Stochastic Optimizer: Maximum iterations (800) reached and the optimization hasn't converged yet.\n",
      "  % self.max_iter, ConvergenceWarning)\n"
     ]
    },
    {
     "name": "stdout",
     "output_type": "stream",
     "text": [
      "done 1.904296875 %\n",
      "done 1.9287109375 %\n"
     ]
    },
    {
     "name": "stderr",
     "output_type": "stream",
     "text": [
      "c:\\users\\cc\\anaconda3\\envs\\venv\\lib\\site-packages\\sklearn\\neural_network\\multilayer_perceptron.py:562: ConvergenceWarning: Stochastic Optimizer: Maximum iterations (800) reached and the optimization hasn't converged yet.\n",
      "  % self.max_iter, ConvergenceWarning)\n"
     ]
    },
    {
     "name": "stdout",
     "output_type": "stream",
     "text": [
      "done 1.953125 %\n"
     ]
    },
    {
     "name": "stderr",
     "output_type": "stream",
     "text": [
      "c:\\users\\cc\\anaconda3\\envs\\venv\\lib\\site-packages\\sklearn\\neural_network\\multilayer_perceptron.py:562: ConvergenceWarning: Stochastic Optimizer: Maximum iterations (800) reached and the optimization hasn't converged yet.\n",
      "  % self.max_iter, ConvergenceWarning)\n"
     ]
    },
    {
     "name": "stdout",
     "output_type": "stream",
     "text": [
      "done 1.9775390625 %\n",
      "done 2.001953125 %\n",
      "done 2.0263671875 %\n"
     ]
    },
    {
     "name": "stderr",
     "output_type": "stream",
     "text": [
      "c:\\users\\cc\\anaconda3\\envs\\venv\\lib\\site-packages\\sklearn\\neural_network\\multilayer_perceptron.py:562: ConvergenceWarning: Stochastic Optimizer: Maximum iterations (800) reached and the optimization hasn't converged yet.\n",
      "  % self.max_iter, ConvergenceWarning)\n"
     ]
    },
    {
     "name": "stdout",
     "output_type": "stream",
     "text": [
      "done 2.05078125 %\n"
     ]
    },
    {
     "name": "stderr",
     "output_type": "stream",
     "text": [
      "c:\\users\\cc\\anaconda3\\envs\\venv\\lib\\site-packages\\sklearn\\neural_network\\multilayer_perceptron.py:562: ConvergenceWarning: Stochastic Optimizer: Maximum iterations (800) reached and the optimization hasn't converged yet.\n",
      "  % self.max_iter, ConvergenceWarning)\n"
     ]
    },
    {
     "name": "stdout",
     "output_type": "stream",
     "text": [
      "done 2.0751953125 %\n",
      "done 2.099609375 %\n",
      "done 2.1240234375 %\n",
      "done 2.1484375 %\n"
     ]
    },
    {
     "name": "stderr",
     "output_type": "stream",
     "text": [
      "c:\\users\\cc\\anaconda3\\envs\\venv\\lib\\site-packages\\sklearn\\neural_network\\multilayer_perceptron.py:562: ConvergenceWarning: Stochastic Optimizer: Maximum iterations (800) reached and the optimization hasn't converged yet.\n",
      "  % self.max_iter, ConvergenceWarning)\n"
     ]
    },
    {
     "name": "stdout",
     "output_type": "stream",
     "text": [
      "done 2.1728515625 %\n"
     ]
    },
    {
     "name": "stderr",
     "output_type": "stream",
     "text": [
      "c:\\users\\cc\\anaconda3\\envs\\venv\\lib\\site-packages\\sklearn\\neural_network\\multilayer_perceptron.py:562: ConvergenceWarning: Stochastic Optimizer: Maximum iterations (800) reached and the optimization hasn't converged yet.\n",
      "  % self.max_iter, ConvergenceWarning)\n"
     ]
    },
    {
     "name": "stdout",
     "output_type": "stream",
     "text": [
      "done 2.197265625 %\n",
      "done 2.2216796875 %\n"
     ]
    },
    {
     "name": "stderr",
     "output_type": "stream",
     "text": [
      "c:\\users\\cc\\anaconda3\\envs\\venv\\lib\\site-packages\\sklearn\\neural_network\\multilayer_perceptron.py:562: ConvergenceWarning: Stochastic Optimizer: Maximum iterations (800) reached and the optimization hasn't converged yet.\n",
      "  % self.max_iter, ConvergenceWarning)\n"
     ]
    },
    {
     "name": "stdout",
     "output_type": "stream",
     "text": [
      "done 2.24609375 %\n"
     ]
    },
    {
     "name": "stderr",
     "output_type": "stream",
     "text": [
      "c:\\users\\cc\\anaconda3\\envs\\venv\\lib\\site-packages\\sklearn\\neural_network\\multilayer_perceptron.py:562: ConvergenceWarning: Stochastic Optimizer: Maximum iterations (800) reached and the optimization hasn't converged yet.\n",
      "  % self.max_iter, ConvergenceWarning)\n"
     ]
    },
    {
     "name": "stdout",
     "output_type": "stream",
     "text": [
      "done 2.2705078125 %\n"
     ]
    },
    {
     "name": "stderr",
     "output_type": "stream",
     "text": [
      "c:\\users\\cc\\anaconda3\\envs\\venv\\lib\\site-packages\\sklearn\\neural_network\\multilayer_perceptron.py:562: ConvergenceWarning: Stochastic Optimizer: Maximum iterations (800) reached and the optimization hasn't converged yet.\n",
      "  % self.max_iter, ConvergenceWarning)\n"
     ]
    },
    {
     "name": "stdout",
     "output_type": "stream",
     "text": [
      "done 2.294921875 %\n"
     ]
    },
    {
     "name": "stderr",
     "output_type": "stream",
     "text": [
      "c:\\users\\cc\\anaconda3\\envs\\venv\\lib\\site-packages\\sklearn\\neural_network\\multilayer_perceptron.py:562: ConvergenceWarning: Stochastic Optimizer: Maximum iterations (800) reached and the optimization hasn't converged yet.\n",
      "  % self.max_iter, ConvergenceWarning)\n"
     ]
    },
    {
     "name": "stdout",
     "output_type": "stream",
     "text": [
      "done 2.3193359375 %\n"
     ]
    },
    {
     "name": "stderr",
     "output_type": "stream",
     "text": [
      "c:\\users\\cc\\anaconda3\\envs\\venv\\lib\\site-packages\\sklearn\\neural_network\\multilayer_perceptron.py:562: ConvergenceWarning: Stochastic Optimizer: Maximum iterations (800) reached and the optimization hasn't converged yet.\n",
      "  % self.max_iter, ConvergenceWarning)\n"
     ]
    },
    {
     "name": "stdout",
     "output_type": "stream",
     "text": [
      "done 2.34375 %\n",
      "done 2.3681640625 %\n",
      "done 2.392578125 %\n",
      "done 2.4169921875 %\n",
      "done 2.44140625 %\n",
      "done 2.4658203125 %\n",
      "done 2.490234375 %\n",
      "done 2.5146484375 %\n"
     ]
    },
    {
     "name": "stderr",
     "output_type": "stream",
     "text": [
      "c:\\users\\cc\\anaconda3\\envs\\venv\\lib\\site-packages\\sklearn\\neural_network\\multilayer_perceptron.py:562: ConvergenceWarning: Stochastic Optimizer: Maximum iterations (800) reached and the optimization hasn't converged yet.\n",
      "  % self.max_iter, ConvergenceWarning)\n"
     ]
    },
    {
     "name": "stdout",
     "output_type": "stream",
     "text": [
      "done 2.5390625 %\n"
     ]
    },
    {
     "name": "stderr",
     "output_type": "stream",
     "text": [
      "c:\\users\\cc\\anaconda3\\envs\\venv\\lib\\site-packages\\sklearn\\neural_network\\multilayer_perceptron.py:562: ConvergenceWarning: Stochastic Optimizer: Maximum iterations (800) reached and the optimization hasn't converged yet.\n",
      "  % self.max_iter, ConvergenceWarning)\n"
     ]
    },
    {
     "name": "stdout",
     "output_type": "stream",
     "text": [
      "done 2.5634765625 %\n",
      "done 2.587890625 %\n",
      "done 2.6123046875 %\n"
     ]
    },
    {
     "name": "stderr",
     "output_type": "stream",
     "text": [
      "c:\\users\\cc\\anaconda3\\envs\\venv\\lib\\site-packages\\sklearn\\neural_network\\multilayer_perceptron.py:562: ConvergenceWarning: Stochastic Optimizer: Maximum iterations (800) reached and the optimization hasn't converged yet.\n",
      "  % self.max_iter, ConvergenceWarning)\n"
     ]
    },
    {
     "name": "stdout",
     "output_type": "stream",
     "text": [
      "done 2.63671875 %\n",
      "done 2.6611328125 %\n",
      "done 2.685546875 %\n"
     ]
    },
    {
     "name": "stderr",
     "output_type": "stream",
     "text": [
      "c:\\users\\cc\\anaconda3\\envs\\venv\\lib\\site-packages\\sklearn\\neural_network\\multilayer_perceptron.py:562: ConvergenceWarning: Stochastic Optimizer: Maximum iterations (800) reached and the optimization hasn't converged yet.\n",
      "  % self.max_iter, ConvergenceWarning)\n"
     ]
    },
    {
     "name": "stdout",
     "output_type": "stream",
     "text": [
      "done 2.7099609375 %\n",
      "done 2.734375 %\n",
      "done 2.7587890625 %\n",
      "done 2.783203125 %\n"
     ]
    },
    {
     "name": "stderr",
     "output_type": "stream",
     "text": [
      "c:\\users\\cc\\anaconda3\\envs\\venv\\lib\\site-packages\\sklearn\\neural_network\\multilayer_perceptron.py:562: ConvergenceWarning: Stochastic Optimizer: Maximum iterations (800) reached and the optimization hasn't converged yet.\n",
      "  % self.max_iter, ConvergenceWarning)\n"
     ]
    },
    {
     "name": "stdout",
     "output_type": "stream",
     "text": [
      "done 2.8076171875 %\n",
      "done 2.83203125 %\n",
      "done 2.8564453125 %\n"
     ]
    },
    {
     "name": "stderr",
     "output_type": "stream",
     "text": [
      "c:\\users\\cc\\anaconda3\\envs\\venv\\lib\\site-packages\\sklearn\\neural_network\\multilayer_perceptron.py:562: ConvergenceWarning: Stochastic Optimizer: Maximum iterations (800) reached and the optimization hasn't converged yet.\n",
      "  % self.max_iter, ConvergenceWarning)\n"
     ]
    },
    {
     "name": "stdout",
     "output_type": "stream",
     "text": [
      "done 2.880859375 %\n"
     ]
    },
    {
     "name": "stderr",
     "output_type": "stream",
     "text": [
      "c:\\users\\cc\\anaconda3\\envs\\venv\\lib\\site-packages\\sklearn\\neural_network\\multilayer_perceptron.py:562: ConvergenceWarning: Stochastic Optimizer: Maximum iterations (800) reached and the optimization hasn't converged yet.\n",
      "  % self.max_iter, ConvergenceWarning)\n"
     ]
    },
    {
     "name": "stdout",
     "output_type": "stream",
     "text": [
      "done 2.9052734375 %\n"
     ]
    },
    {
     "name": "stderr",
     "output_type": "stream",
     "text": [
      "c:\\users\\cc\\anaconda3\\envs\\venv\\lib\\site-packages\\sklearn\\neural_network\\multilayer_perceptron.py:562: ConvergenceWarning: Stochastic Optimizer: Maximum iterations (800) reached and the optimization hasn't converged yet.\n",
      "  % self.max_iter, ConvergenceWarning)\n"
     ]
    },
    {
     "name": "stdout",
     "output_type": "stream",
     "text": [
      "done 2.9296875 %\n",
      "done 2.9541015625 %\n"
     ]
    },
    {
     "name": "stderr",
     "output_type": "stream",
     "text": [
      "c:\\users\\cc\\anaconda3\\envs\\venv\\lib\\site-packages\\sklearn\\neural_network\\multilayer_perceptron.py:562: ConvergenceWarning: Stochastic Optimizer: Maximum iterations (800) reached and the optimization hasn't converged yet.\n",
      "  % self.max_iter, ConvergenceWarning)\n"
     ]
    },
    {
     "name": "stdout",
     "output_type": "stream",
     "text": [
      "done 2.978515625 %\n",
      "done 3.0029296875 %\n"
     ]
    },
    {
     "name": "stderr",
     "output_type": "stream",
     "text": [
      "c:\\users\\cc\\anaconda3\\envs\\venv\\lib\\site-packages\\sklearn\\neural_network\\multilayer_perceptron.py:562: ConvergenceWarning: Stochastic Optimizer: Maximum iterations (800) reached and the optimization hasn't converged yet.\n",
      "  % self.max_iter, ConvergenceWarning)\n"
     ]
    },
    {
     "name": "stdout",
     "output_type": "stream",
     "text": [
      "done 3.02734375 %\n",
      "done 3.0517578125 %\n",
      "done 3.076171875 %\n",
      "done 3.1005859375 %\n",
      "done 3.125 %\n",
      "done 3.1494140625 %\n",
      "done 3.173828125 %\n",
      "done 3.1982421875 %\n",
      "done 3.22265625 %\n",
      "done 3.2470703125 %\n",
      "done 3.271484375 %\n",
      "done 3.2958984375 %\n",
      "done 3.3203125 %\n"
     ]
    },
    {
     "name": "stderr",
     "output_type": "stream",
     "text": [
      "c:\\users\\cc\\anaconda3\\envs\\venv\\lib\\site-packages\\sklearn\\neural_network\\multilayer_perceptron.py:562: ConvergenceWarning: Stochastic Optimizer: Maximum iterations (800) reached and the optimization hasn't converged yet.\n",
      "  % self.max_iter, ConvergenceWarning)\n"
     ]
    },
    {
     "name": "stdout",
     "output_type": "stream",
     "text": [
      "done 3.3447265625 %\n",
      "done 3.369140625 %\n",
      "done 3.3935546875 %\n",
      "done 3.41796875 %\n"
     ]
    },
    {
     "name": "stderr",
     "output_type": "stream",
     "text": [
      "c:\\users\\cc\\anaconda3\\envs\\venv\\lib\\site-packages\\sklearn\\neural_network\\multilayer_perceptron.py:562: ConvergenceWarning: Stochastic Optimizer: Maximum iterations (800) reached and the optimization hasn't converged yet.\n",
      "  % self.max_iter, ConvergenceWarning)\n"
     ]
    },
    {
     "name": "stdout",
     "output_type": "stream",
     "text": [
      "done 3.4423828125 %\n",
      "done 3.466796875 %\n",
      "done 3.4912109375 %\n"
     ]
    },
    {
     "name": "stderr",
     "output_type": "stream",
     "text": [
      "c:\\users\\cc\\anaconda3\\envs\\venv\\lib\\site-packages\\sklearn\\neural_network\\multilayer_perceptron.py:562: ConvergenceWarning: Stochastic Optimizer: Maximum iterations (800) reached and the optimization hasn't converged yet.\n",
      "  % self.max_iter, ConvergenceWarning)\n"
     ]
    },
    {
     "name": "stdout",
     "output_type": "stream",
     "text": [
      "done 3.515625 %\n"
     ]
    },
    {
     "name": "stderr",
     "output_type": "stream",
     "text": [
      "c:\\users\\cc\\anaconda3\\envs\\venv\\lib\\site-packages\\sklearn\\neural_network\\multilayer_perceptron.py:562: ConvergenceWarning: Stochastic Optimizer: Maximum iterations (800) reached and the optimization hasn't converged yet.\n",
      "  % self.max_iter, ConvergenceWarning)\n"
     ]
    },
    {
     "name": "stdout",
     "output_type": "stream",
     "text": [
      "done 3.5400390625 %\n",
      "done 3.564453125 %\n",
      "done 3.5888671875 %\n"
     ]
    },
    {
     "name": "stderr",
     "output_type": "stream",
     "text": [
      "c:\\users\\cc\\anaconda3\\envs\\venv\\lib\\site-packages\\sklearn\\neural_network\\multilayer_perceptron.py:562: ConvergenceWarning: Stochastic Optimizer: Maximum iterations (800) reached and the optimization hasn't converged yet.\n",
      "  % self.max_iter, ConvergenceWarning)\n"
     ]
    },
    {
     "name": "stdout",
     "output_type": "stream",
     "text": [
      "done 3.61328125 %\n",
      "done 3.6376953125 %\n"
     ]
    },
    {
     "name": "stderr",
     "output_type": "stream",
     "text": [
      "c:\\users\\cc\\anaconda3\\envs\\venv\\lib\\site-packages\\sklearn\\neural_network\\multilayer_perceptron.py:562: ConvergenceWarning: Stochastic Optimizer: Maximum iterations (800) reached and the optimization hasn't converged yet.\n",
      "  % self.max_iter, ConvergenceWarning)\n"
     ]
    },
    {
     "name": "stdout",
     "output_type": "stream",
     "text": [
      "done 3.662109375 %\n",
      "done 3.6865234375 %\n",
      "done 3.7109375 %\n"
     ]
    },
    {
     "name": "stderr",
     "output_type": "stream",
     "text": [
      "c:\\users\\cc\\anaconda3\\envs\\venv\\lib\\site-packages\\sklearn\\neural_network\\multilayer_perceptron.py:562: ConvergenceWarning: Stochastic Optimizer: Maximum iterations (800) reached and the optimization hasn't converged yet.\n",
      "  % self.max_iter, ConvergenceWarning)\n"
     ]
    },
    {
     "name": "stdout",
     "output_type": "stream",
     "text": [
      "done 3.7353515625 %\n",
      "done 3.759765625 %\n"
     ]
    },
    {
     "name": "stderr",
     "output_type": "stream",
     "text": [
      "c:\\users\\cc\\anaconda3\\envs\\venv\\lib\\site-packages\\sklearn\\neural_network\\multilayer_perceptron.py:562: ConvergenceWarning: Stochastic Optimizer: Maximum iterations (800) reached and the optimization hasn't converged yet.\n",
      "  % self.max_iter, ConvergenceWarning)\n"
     ]
    },
    {
     "name": "stdout",
     "output_type": "stream",
     "text": [
      "done 3.7841796875 %\n"
     ]
    },
    {
     "name": "stderr",
     "output_type": "stream",
     "text": [
      "c:\\users\\cc\\anaconda3\\envs\\venv\\lib\\site-packages\\sklearn\\neural_network\\multilayer_perceptron.py:562: ConvergenceWarning: Stochastic Optimizer: Maximum iterations (800) reached and the optimization hasn't converged yet.\n",
      "  % self.max_iter, ConvergenceWarning)\n"
     ]
    },
    {
     "name": "stdout",
     "output_type": "stream",
     "text": [
      "done 3.80859375 %\n"
     ]
    },
    {
     "name": "stderr",
     "output_type": "stream",
     "text": [
      "c:\\users\\cc\\anaconda3\\envs\\venv\\lib\\site-packages\\sklearn\\neural_network\\multilayer_perceptron.py:562: ConvergenceWarning: Stochastic Optimizer: Maximum iterations (800) reached and the optimization hasn't converged yet.\n",
      "  % self.max_iter, ConvergenceWarning)\n"
     ]
    },
    {
     "name": "stdout",
     "output_type": "stream",
     "text": [
      "done 3.8330078125 %\n"
     ]
    },
    {
     "name": "stderr",
     "output_type": "stream",
     "text": [
      "c:\\users\\cc\\anaconda3\\envs\\venv\\lib\\site-packages\\sklearn\\neural_network\\multilayer_perceptron.py:562: ConvergenceWarning: Stochastic Optimizer: Maximum iterations (800) reached and the optimization hasn't converged yet.\n",
      "  % self.max_iter, ConvergenceWarning)\n"
     ]
    },
    {
     "name": "stdout",
     "output_type": "stream",
     "text": [
      "done 3.857421875 %\n"
     ]
    },
    {
     "name": "stderr",
     "output_type": "stream",
     "text": [
      "c:\\users\\cc\\anaconda3\\envs\\venv\\lib\\site-packages\\sklearn\\neural_network\\multilayer_perceptron.py:562: ConvergenceWarning: Stochastic Optimizer: Maximum iterations (800) reached and the optimization hasn't converged yet.\n",
      "  % self.max_iter, ConvergenceWarning)\n"
     ]
    },
    {
     "name": "stdout",
     "output_type": "stream",
     "text": [
      "done 3.8818359375 %\n"
     ]
    },
    {
     "name": "stderr",
     "output_type": "stream",
     "text": [
      "c:\\users\\cc\\anaconda3\\envs\\venv\\lib\\site-packages\\sklearn\\neural_network\\multilayer_perceptron.py:562: ConvergenceWarning: Stochastic Optimizer: Maximum iterations (800) reached and the optimization hasn't converged yet.\n",
      "  % self.max_iter, ConvergenceWarning)\n"
     ]
    },
    {
     "name": "stdout",
     "output_type": "stream",
     "text": [
      "done 3.90625 %\n",
      "done 3.9306640625 %\n",
      "done 3.955078125 %\n",
      "done 3.9794921875 %\n",
      "done 4.00390625 %\n",
      "done 4.0283203125 %\n",
      "done 4.052734375 %\n",
      "done 4.0771484375 %\n"
     ]
    },
    {
     "name": "stderr",
     "output_type": "stream",
     "text": [
      "c:\\users\\cc\\anaconda3\\envs\\venv\\lib\\site-packages\\sklearn\\neural_network\\multilayer_perceptron.py:562: ConvergenceWarning: Stochastic Optimizer: Maximum iterations (800) reached and the optimization hasn't converged yet.\n",
      "  % self.max_iter, ConvergenceWarning)\n"
     ]
    },
    {
     "name": "stdout",
     "output_type": "stream",
     "text": [
      "done 4.1015625 %\n"
     ]
    },
    {
     "name": "stderr",
     "output_type": "stream",
     "text": [
      "c:\\users\\cc\\anaconda3\\envs\\venv\\lib\\site-packages\\sklearn\\neural_network\\multilayer_perceptron.py:562: ConvergenceWarning: Stochastic Optimizer: Maximum iterations (800) reached and the optimization hasn't converged yet.\n",
      "  % self.max_iter, ConvergenceWarning)\n"
     ]
    },
    {
     "name": "stdout",
     "output_type": "stream",
     "text": [
      "done 4.1259765625 %\n"
     ]
    },
    {
     "name": "stderr",
     "output_type": "stream",
     "text": [
      "c:\\users\\cc\\anaconda3\\envs\\venv\\lib\\site-packages\\sklearn\\neural_network\\multilayer_perceptron.py:562: ConvergenceWarning: Stochastic Optimizer: Maximum iterations (800) reached and the optimization hasn't converged yet.\n",
      "  % self.max_iter, ConvergenceWarning)\n"
     ]
    },
    {
     "name": "stdout",
     "output_type": "stream",
     "text": [
      "done 4.150390625 %\n",
      "done 4.1748046875 %\n"
     ]
    },
    {
     "name": "stderr",
     "output_type": "stream",
     "text": [
      "c:\\users\\cc\\anaconda3\\envs\\venv\\lib\\site-packages\\sklearn\\neural_network\\multilayer_perceptron.py:562: ConvergenceWarning: Stochastic Optimizer: Maximum iterations (800) reached and the optimization hasn't converged yet.\n",
      "  % self.max_iter, ConvergenceWarning)\n"
     ]
    },
    {
     "name": "stdout",
     "output_type": "stream",
     "text": [
      "done 4.19921875 %\n",
      "done 4.2236328125 %\n",
      "done 4.248046875 %\n"
     ]
    },
    {
     "name": "stderr",
     "output_type": "stream",
     "text": [
      "c:\\users\\cc\\anaconda3\\envs\\venv\\lib\\site-packages\\sklearn\\neural_network\\multilayer_perceptron.py:562: ConvergenceWarning: Stochastic Optimizer: Maximum iterations (800) reached and the optimization hasn't converged yet.\n",
      "  % self.max_iter, ConvergenceWarning)\n"
     ]
    },
    {
     "name": "stdout",
     "output_type": "stream",
     "text": [
      "done 4.2724609375 %\n"
     ]
    },
    {
     "name": "stderr",
     "output_type": "stream",
     "text": [
      "c:\\users\\cc\\anaconda3\\envs\\venv\\lib\\site-packages\\sklearn\\neural_network\\multilayer_perceptron.py:562: ConvergenceWarning: Stochastic Optimizer: Maximum iterations (800) reached and the optimization hasn't converged yet.\n",
      "  % self.max_iter, ConvergenceWarning)\n"
     ]
    },
    {
     "name": "stdout",
     "output_type": "stream",
     "text": [
      "done 4.296875 %\n",
      "done 4.3212890625 %\n",
      "done 4.345703125 %\n",
      "done 4.3701171875 %\n"
     ]
    },
    {
     "name": "stderr",
     "output_type": "stream",
     "text": [
      "c:\\users\\cc\\anaconda3\\envs\\venv\\lib\\site-packages\\sklearn\\neural_network\\multilayer_perceptron.py:562: ConvergenceWarning: Stochastic Optimizer: Maximum iterations (800) reached and the optimization hasn't converged yet.\n",
      "  % self.max_iter, ConvergenceWarning)\n"
     ]
    },
    {
     "name": "stdout",
     "output_type": "stream",
     "text": [
      "done 4.39453125 %\n"
     ]
    },
    {
     "name": "stderr",
     "output_type": "stream",
     "text": [
      "c:\\users\\cc\\anaconda3\\envs\\venv\\lib\\site-packages\\sklearn\\neural_network\\multilayer_perceptron.py:562: ConvergenceWarning: Stochastic Optimizer: Maximum iterations (800) reached and the optimization hasn't converged yet.\n",
      "  % self.max_iter, ConvergenceWarning)\n"
     ]
    },
    {
     "name": "stdout",
     "output_type": "stream",
     "text": [
      "done 4.4189453125 %\n",
      "done 4.443359375 %\n",
      "done 4.4677734375 %\n"
     ]
    },
    {
     "name": "stderr",
     "output_type": "stream",
     "text": [
      "c:\\users\\cc\\anaconda3\\envs\\venv\\lib\\site-packages\\sklearn\\neural_network\\multilayer_perceptron.py:562: ConvergenceWarning: Stochastic Optimizer: Maximum iterations (800) reached and the optimization hasn't converged yet.\n",
      "  % self.max_iter, ConvergenceWarning)\n"
     ]
    },
    {
     "name": "stdout",
     "output_type": "stream",
     "text": [
      "done 4.4921875 %\n",
      "done 4.5166015625 %\n",
      "done 4.541015625 %\n"
     ]
    },
    {
     "name": "stderr",
     "output_type": "stream",
     "text": [
      "c:\\users\\cc\\anaconda3\\envs\\venv\\lib\\site-packages\\sklearn\\neural_network\\multilayer_perceptron.py:562: ConvergenceWarning: Stochastic Optimizer: Maximum iterations (800) reached and the optimization hasn't converged yet.\n",
      "  % self.max_iter, ConvergenceWarning)\n"
     ]
    },
    {
     "name": "stdout",
     "output_type": "stream",
     "text": [
      "done 4.5654296875 %\n"
     ]
    },
    {
     "name": "stderr",
     "output_type": "stream",
     "text": [
      "c:\\users\\cc\\anaconda3\\envs\\venv\\lib\\site-packages\\sklearn\\neural_network\\multilayer_perceptron.py:562: ConvergenceWarning: Stochastic Optimizer: Maximum iterations (800) reached and the optimization hasn't converged yet.\n",
      "  % self.max_iter, ConvergenceWarning)\n"
     ]
    },
    {
     "name": "stdout",
     "output_type": "stream",
     "text": [
      "done 4.58984375 %\n",
      "done 4.6142578125 %\n",
      "done 4.638671875 %\n",
      "done 4.6630859375 %\n",
      "done 4.6875 %\n",
      "done 4.7119140625 %\n",
      "done 4.736328125 %\n",
      "done 4.7607421875 %\n",
      "done 4.78515625 %\n",
      "done 4.8095703125 %\n",
      "done 4.833984375 %\n",
      "done 4.8583984375 %\n"
     ]
    },
    {
     "name": "stderr",
     "output_type": "stream",
     "text": [
      "c:\\users\\cc\\anaconda3\\envs\\venv\\lib\\site-packages\\sklearn\\neural_network\\multilayer_perceptron.py:562: ConvergenceWarning: Stochastic Optimizer: Maximum iterations (800) reached and the optimization hasn't converged yet.\n",
      "  % self.max_iter, ConvergenceWarning)\n"
     ]
    },
    {
     "name": "stdout",
     "output_type": "stream",
     "text": [
      "done 4.8828125 %\n"
     ]
    },
    {
     "name": "stderr",
     "output_type": "stream",
     "text": [
      "c:\\users\\cc\\anaconda3\\envs\\venv\\lib\\site-packages\\sklearn\\neural_network\\multilayer_perceptron.py:562: ConvergenceWarning: Stochastic Optimizer: Maximum iterations (800) reached and the optimization hasn't converged yet.\n",
      "  % self.max_iter, ConvergenceWarning)\n"
     ]
    },
    {
     "name": "stdout",
     "output_type": "stream",
     "text": [
      "done 4.9072265625 %\n",
      "done 4.931640625 %\n",
      "done 4.9560546875 %\n",
      "done 4.98046875 %\n"
     ]
    },
    {
     "name": "stderr",
     "output_type": "stream",
     "text": [
      "c:\\users\\cc\\anaconda3\\envs\\venv\\lib\\site-packages\\sklearn\\neural_network\\multilayer_perceptron.py:562: ConvergenceWarning: Stochastic Optimizer: Maximum iterations (800) reached and the optimization hasn't converged yet.\n",
      "  % self.max_iter, ConvergenceWarning)\n"
     ]
    },
    {
     "name": "stdout",
     "output_type": "stream",
     "text": [
      "done 5.0048828125 %\n"
     ]
    },
    {
     "name": "stderr",
     "output_type": "stream",
     "text": [
      "c:\\users\\cc\\anaconda3\\envs\\venv\\lib\\site-packages\\sklearn\\neural_network\\multilayer_perceptron.py:562: ConvergenceWarning: Stochastic Optimizer: Maximum iterations (800) reached and the optimization hasn't converged yet.\n",
      "  % self.max_iter, ConvergenceWarning)\n"
     ]
    },
    {
     "name": "stdout",
     "output_type": "stream",
     "text": [
      "done 5.029296875 %\n",
      "done 5.0537109375 %\n"
     ]
    },
    {
     "name": "stderr",
     "output_type": "stream",
     "text": [
      "c:\\users\\cc\\anaconda3\\envs\\venv\\lib\\site-packages\\sklearn\\neural_network\\multilayer_perceptron.py:562: ConvergenceWarning: Stochastic Optimizer: Maximum iterations (800) reached and the optimization hasn't converged yet.\n",
      "  % self.max_iter, ConvergenceWarning)\n"
     ]
    },
    {
     "name": "stdout",
     "output_type": "stream",
     "text": [
      "done 5.078125 %\n",
      "done 5.1025390625 %\n",
      "done 5.126953125 %\n",
      "done 5.1513671875 %\n"
     ]
    },
    {
     "name": "stderr",
     "output_type": "stream",
     "text": [
      "c:\\users\\cc\\anaconda3\\envs\\venv\\lib\\site-packages\\sklearn\\neural_network\\multilayer_perceptron.py:562: ConvergenceWarning: Stochastic Optimizer: Maximum iterations (800) reached and the optimization hasn't converged yet.\n",
      "  % self.max_iter, ConvergenceWarning)\n"
     ]
    },
    {
     "name": "stdout",
     "output_type": "stream",
     "text": [
      "done 5.17578125 %\n",
      "done 5.2001953125 %\n",
      "done 5.224609375 %\n",
      "done 5.2490234375 %\n"
     ]
    },
    {
     "name": "stderr",
     "output_type": "stream",
     "text": [
      "c:\\users\\cc\\anaconda3\\envs\\venv\\lib\\site-packages\\sklearn\\neural_network\\multilayer_perceptron.py:562: ConvergenceWarning: Stochastic Optimizer: Maximum iterations (800) reached and the optimization hasn't converged yet.\n",
      "  % self.max_iter, ConvergenceWarning)\n"
     ]
    },
    {
     "name": "stdout",
     "output_type": "stream",
     "text": [
      "done 5.2734375 %\n",
      "done 5.2978515625 %\n"
     ]
    },
    {
     "name": "stderr",
     "output_type": "stream",
     "text": [
      "c:\\users\\cc\\anaconda3\\envs\\venv\\lib\\site-packages\\sklearn\\neural_network\\multilayer_perceptron.py:562: ConvergenceWarning: Stochastic Optimizer: Maximum iterations (800) reached and the optimization hasn't converged yet.\n",
      "  % self.max_iter, ConvergenceWarning)\n"
     ]
    },
    {
     "name": "stdout",
     "output_type": "stream",
     "text": [
      "done 5.322265625 %\n",
      "done 5.3466796875 %\n"
     ]
    },
    {
     "name": "stderr",
     "output_type": "stream",
     "text": [
      "c:\\users\\cc\\anaconda3\\envs\\venv\\lib\\site-packages\\sklearn\\neural_network\\multilayer_perceptron.py:562: ConvergenceWarning: Stochastic Optimizer: Maximum iterations (800) reached and the optimization hasn't converged yet.\n",
      "  % self.max_iter, ConvergenceWarning)\n"
     ]
    },
    {
     "name": "stdout",
     "output_type": "stream",
     "text": [
      "done 5.37109375 %\n",
      "done 5.3955078125 %\n"
     ]
    },
    {
     "name": "stderr",
     "output_type": "stream",
     "text": [
      "c:\\users\\cc\\anaconda3\\envs\\venv\\lib\\site-packages\\sklearn\\neural_network\\multilayer_perceptron.py:562: ConvergenceWarning: Stochastic Optimizer: Maximum iterations (800) reached and the optimization hasn't converged yet.\n",
      "  % self.max_iter, ConvergenceWarning)\n"
     ]
    },
    {
     "name": "stdout",
     "output_type": "stream",
     "text": [
      "done 5.419921875 %\n",
      "done 5.4443359375 %\n",
      "done 5.46875 %\n"
     ]
    },
    {
     "name": "stderr",
     "output_type": "stream",
     "text": [
      "c:\\users\\cc\\anaconda3\\envs\\venv\\lib\\site-packages\\sklearn\\neural_network\\multilayer_perceptron.py:562: ConvergenceWarning: Stochastic Optimizer: Maximum iterations (800) reached and the optimization hasn't converged yet.\n",
      "  % self.max_iter, ConvergenceWarning)\n"
     ]
    },
    {
     "name": "stdout",
     "output_type": "stream",
     "text": [
      "done 5.4931640625 %\n",
      "done 5.517578125 %\n",
      "done 5.5419921875 %\n",
      "done 5.56640625 %\n",
      "done 5.5908203125 %\n",
      "done 5.615234375 %\n",
      "done 5.6396484375 %\n"
     ]
    },
    {
     "name": "stderr",
     "output_type": "stream",
     "text": [
      "c:\\users\\cc\\anaconda3\\envs\\venv\\lib\\site-packages\\sklearn\\neural_network\\multilayer_perceptron.py:562: ConvergenceWarning: Stochastic Optimizer: Maximum iterations (800) reached and the optimization hasn't converged yet.\n",
      "  % self.max_iter, ConvergenceWarning)\n"
     ]
    },
    {
     "name": "stdout",
     "output_type": "stream",
     "text": [
      "done 5.6640625 %\n",
      "done 5.6884765625 %\n",
      "done 5.712890625 %\n",
      "done 5.7373046875 %\n",
      "done 5.76171875 %\n",
      "done 5.7861328125 %\n"
     ]
    },
    {
     "name": "stderr",
     "output_type": "stream",
     "text": [
      "c:\\users\\cc\\anaconda3\\envs\\venv\\lib\\site-packages\\sklearn\\neural_network\\multilayer_perceptron.py:562: ConvergenceWarning: Stochastic Optimizer: Maximum iterations (800) reached and the optimization hasn't converged yet.\n",
      "  % self.max_iter, ConvergenceWarning)\n"
     ]
    },
    {
     "name": "stdout",
     "output_type": "stream",
     "text": [
      "done 5.810546875 %\n",
      "done 5.8349609375 %\n",
      "done 5.859375 %\n"
     ]
    },
    {
     "name": "stderr",
     "output_type": "stream",
     "text": [
      "c:\\users\\cc\\anaconda3\\envs\\venv\\lib\\site-packages\\sklearn\\neural_network\\multilayer_perceptron.py:562: ConvergenceWarning: Stochastic Optimizer: Maximum iterations (800) reached and the optimization hasn't converged yet.\n",
      "  % self.max_iter, ConvergenceWarning)\n"
     ]
    },
    {
     "name": "stdout",
     "output_type": "stream",
     "text": [
      "done 5.8837890625 %\n",
      "done 5.908203125 %\n",
      "done 5.9326171875 %\n",
      "done 5.95703125 %\n",
      "done 5.9814453125 %\n"
     ]
    },
    {
     "name": "stderr",
     "output_type": "stream",
     "text": [
      "c:\\users\\cc\\anaconda3\\envs\\venv\\lib\\site-packages\\sklearn\\neural_network\\multilayer_perceptron.py:562: ConvergenceWarning: Stochastic Optimizer: Maximum iterations (800) reached and the optimization hasn't converged yet.\n",
      "  % self.max_iter, ConvergenceWarning)\n"
     ]
    },
    {
     "name": "stdout",
     "output_type": "stream",
     "text": [
      "done 6.005859375 %\n",
      "done 6.0302734375 %\n",
      "done 6.0546875 %\n"
     ]
    },
    {
     "name": "stderr",
     "output_type": "stream",
     "text": [
      "c:\\users\\cc\\anaconda3\\envs\\venv\\lib\\site-packages\\sklearn\\neural_network\\multilayer_perceptron.py:562: ConvergenceWarning: Stochastic Optimizer: Maximum iterations (800) reached and the optimization hasn't converged yet.\n",
      "  % self.max_iter, ConvergenceWarning)\n"
     ]
    },
    {
     "name": "stdout",
     "output_type": "stream",
     "text": [
      "done 6.0791015625 %\n"
     ]
    },
    {
     "name": "stderr",
     "output_type": "stream",
     "text": [
      "c:\\users\\cc\\anaconda3\\envs\\venv\\lib\\site-packages\\sklearn\\neural_network\\multilayer_perceptron.py:562: ConvergenceWarning: Stochastic Optimizer: Maximum iterations (800) reached and the optimization hasn't converged yet.\n",
      "  % self.max_iter, ConvergenceWarning)\n"
     ]
    },
    {
     "name": "stdout",
     "output_type": "stream",
     "text": [
      "done 6.103515625 %\n",
      "done 6.1279296875 %\n",
      "done 6.15234375 %\n"
     ]
    },
    {
     "name": "stderr",
     "output_type": "stream",
     "text": [
      "c:\\users\\cc\\anaconda3\\envs\\venv\\lib\\site-packages\\sklearn\\neural_network\\multilayer_perceptron.py:562: ConvergenceWarning: Stochastic Optimizer: Maximum iterations (800) reached and the optimization hasn't converged yet.\n",
      "  % self.max_iter, ConvergenceWarning)\n"
     ]
    },
    {
     "name": "stdout",
     "output_type": "stream",
     "text": [
      "done 6.1767578125 %\n",
      "done 6.201171875 %\n"
     ]
    },
    {
     "name": "stderr",
     "output_type": "stream",
     "text": [
      "c:\\users\\cc\\anaconda3\\envs\\venv\\lib\\site-packages\\sklearn\\neural_network\\multilayer_perceptron.py:562: ConvergenceWarning: Stochastic Optimizer: Maximum iterations (800) reached and the optimization hasn't converged yet.\n",
      "  % self.max_iter, ConvergenceWarning)\n"
     ]
    },
    {
     "name": "stdout",
     "output_type": "stream",
     "text": [
      "done 6.2255859375 %\n"
     ]
    },
    {
     "name": "stderr",
     "output_type": "stream",
     "text": [
      "c:\\users\\cc\\anaconda3\\envs\\venv\\lib\\site-packages\\sklearn\\neural_network\\multilayer_perceptron.py:562: ConvergenceWarning: Stochastic Optimizer: Maximum iterations (800) reached and the optimization hasn't converged yet.\n",
      "  % self.max_iter, ConvergenceWarning)\n"
     ]
    },
    {
     "name": "stdout",
     "output_type": "stream",
     "text": [
      "done 6.25 %\n",
      "done 6.2744140625 %\n",
      "done 6.298828125 %\n",
      "done 6.3232421875 %\n",
      "done 6.34765625 %\n",
      "done 6.3720703125 %\n",
      "done 6.396484375 %\n"
     ]
    }
   ],
   "source": [
    "if True:\n",
    "    import random\n",
    "    from sklearn.neural_network import MLPClassifier\n",
    "    from sklearn.preprocessing import StandardScaler\n",
    "    from IPython.display import clear_output\n",
    "    from sklearn.metrics import f1_score\n",
    "    \n",
    "    scaler = StandardScaler()\n",
    "    \n",
    "    elements = ['YearOfDeparture', 'Departure', 'CityDeparture', 'Arrival', 'CityArrival', 'holidays', 'Season', 'MonthOfDeparture', 'DayOfDeparture', 'Distance', 'std_mean_combined', 'ETA']\n",
    "    sets = [set([])]\n",
    "    for n in elements:\n",
    "        sets.extend([s | {n} for s in sets])\n",
    "    \n",
    "    temp = []\n",
    "    \n",
    "    max_score = 0\n",
    "    i = 0\n",
    "    for s in sets:\n",
    "        i = i + 1\n",
    "\n",
    "        #clear_output()\n",
    "        print('done', ((i/len(sets)) * 100), '%')\n",
    "\n",
    "        s = list(s)\n",
    "\n",
    "        if len(s) != 0 and len(s) != len(elements):\n",
    "            X_train = df_train.copy()\n",
    "            X_test = df_test.copy()\n",
    "\n",
    "            columns = s\n",
    "\n",
    "            X_train.drop(columns, axis=1, inplace=True)\n",
    "            X_test.drop(columns, axis=1, inplace=True)\n",
    "            \n",
    "            X_train = X_train.values\n",
    "            X_test = X_test.values\n",
    "\n",
    "            y_train = np.ravel(y_train)\n",
    "            y_test = np.ravel(y_test)\n",
    "            \n",
    "            # Don't cheat - fit only on training data\n",
    "            scaler.fit(X_train)\n",
    "            X_train = scaler.transform(X_train)\n",
    "            # apply same transformation to test data\n",
    "            X_test = scaler.transform(X_test)\n",
    "\n",
    "            clf = MLPClassifier(hidden_layer_sizes=(20, 20, 20,), activation='logistic', solver='sgd', max_iter=800, verbose=False,\n",
    "                                    learning_rate='adaptive', learning_rate_init=0.1, random_state=16)\n",
    "\n",
    "            clf.fit(X_train, y_train)\n",
    "\n",
    "            y_pred = clf.predict(X_test)\n",
    "\n",
    "            score = f1_score(y_test, y_pred, average='micro')\n",
    "            temp.append([score, columns, n])\n",
    "            if score > 0.55:\n",
    "                print(score, 'by dropping', columns)\n",
    "            if score > max_score:\n",
    "                max_score = score\n",
    "                best_set = columns.copy()\n",
    "                best_n = n\n",
    "                    \n",
    "    print('max score:', max_score, 'achieved by dropping:', best_set)\n",
    "\n",
    "    for t in sorted(temp, key=lambda temp: temp[0]):\n",
    "        print(t)"
   ]
  },
  {
   "cell_type": "markdown",
   "metadata": {},
   "source": [
    "**BRUTE FORCE RANDOM_STATE**\n",
    "(CHECK THE WHOLE SUPERSET)."
   ]
  },
  {
   "cell_type": "code",
   "execution_count": 418,
   "metadata": {
    "scrolled": true
   },
   "outputs": [],
   "source": [
    "if False:\n",
    "    from sklearn.preprocessing import StandardScaler  \n",
    "    scaler = StandardScaler()\n",
    "    # Don't cheat - fit only on training data\n",
    "    scaler.fit(X_train)\n",
    "    X_train = scaler.transform(X_train)\n",
    "    # apply same transformation to test data\n",
    "    X_test = scaler.transform(X_test)\n",
    "\n",
    "    from sklearn.neural_network import MLPClassifier\n",
    "\n",
    "    #clf = MLPClassifier(hidden_layer_sizes=(20, 20, 20,), activation='logistic', solver='sgd', max_iter=1500, verbose=True,\n",
    "    #                    learning_rate='adaptive', learning_rate_init=0.1, random_state=100) # .51\n",
    "\n",
    "    for i in range(100):\n",
    "        clf = MLPClassifier(hidden_layer_sizes=(20, 20, 20,), activation='logistic', solver='sgd', max_iter=800, verbose=False,\n",
    "                            learning_rate='adaptive', learning_rate_init=0.1, random_state=i) # .51\n",
    "\n",
    "        clf.fit(X_train, y_train)\n",
    "\n",
    "        y_pred_train = clf.predict(X_train)\n",
    "        y_pred = clf.predict(X_test)\n",
    "\n",
    "        print('random_state =', i)\n",
    "        if not submission:\n",
    "            y_pred_from_csv = np.loadtxt('y_pred_mlp.csv', delimiter=\",\", skiprows=1, usecols=[1])\n",
    "            print('On train:\\t', f1_score(y_train, y_pred_train, average='micro'))\n",
    "\n",
    "            print('On test:\\t', f1_score(y_test, y_pred, average='micro'))\n",
    "            score = f1_score(y_test, y_pred, average='micro')\n",
    "\n",
    "            if i == 1:\n",
    "                max_score = score\n",
    "                best_i = i\n",
    "            else:\n",
    "                if score > max_score:\n",
    "                    max_score = score\n",
    "                    best_i = i\n",
    "\n",
    "    print('Max score:', max_score, 'with i =', best_i)"
   ]
  },
  {
   "cell_type": "markdown",
   "metadata": {},
   "source": [
    "Αφαίρεση στηλών που θέλουμε να αγνοήσουμε στην εκπαίδευση από τους `X_train` και `X_test`."
   ]
  },
  {
   "cell_type": "code",
   "execution_count": 419,
   "metadata": {
    "scrolled": false
   },
   "outputs": [],
   "source": [
    "#columns = ['std_mean_combined', 'Distance', 'Arrival', 'CityDeparture', 'CityArrival', 'Departure', 'MonthOfDeparture', 'YearOfDeparture', 'Season']\n",
    "#columns = ['Arrival', 'Departure', 'Season']\n",
    "columns = ['YearOfDeparture']\n",
    "\n",
    "X_train.drop(columns, axis=1, inplace=True)\n",
    "X_test.drop(columns, axis=1, inplace=True)"
   ]
  },
  {
   "cell_type": "markdown",
   "metadata": {},
   "source": [
    "Κανονικοποιούμε τις στήλες που θέλουμε στα δεδομένα μας. https://www.kaggle.com/parasjindal96/how-to-normalize-dataframe-pandas"
   ]
  },
  {
   "cell_type": "code",
   "execution_count": 420,
   "metadata": {},
   "outputs": [
    {
     "data": {
      "text/plain": [
       "\"columns = ['Distance']\\nmax_normalize_range = 1\\n\\nX_train[columns] = ((X_train[columns] - X_train[columns].min()) / (X_train[columns].max() - X_train[columns].min())) * max_normalize_range\\nX_test[columns] = ((X_test[columns] - X_test[columns].min()) / (X_test[columns].max() - X_test[columns].min())) * max_normalize_range\\n\""
      ]
     },
     "execution_count": 420,
     "metadata": {},
     "output_type": "execute_result"
    }
   ],
   "source": [
    "'''columns = ['Distance']\n",
    "max_normalize_range = 1\n",
    "\n",
    "X_train[columns] = ((X_train[columns] - X_train[columns].min()) / (X_train[columns].max() - X_train[columns].min())) * max_normalize_range\n",
    "X_test[columns] = ((X_test[columns] - X_test[columns].min()) / (X_test[columns].max() - X_test[columns].min())) * max_normalize_range\n",
    "'''"
   ]
  },
  {
   "cell_type": "markdown",
   "metadata": {},
   "source": [
    "Εμφάνιση των `X_train` και `X_test` ακριβώς πριν την εκπαίδευση."
   ]
  },
  {
   "cell_type": "code",
   "execution_count": 421,
   "metadata": {
    "scrolled": true
   },
   "outputs": [
    {
     "data": {
      "text/html": [
       "<div>\n",
       "<style scoped>\n",
       "    .dataframe tbody tr th:only-of-type {\n",
       "        vertical-align: middle;\n",
       "    }\n",
       "\n",
       "    .dataframe tbody tr th {\n",
       "        vertical-align: top;\n",
       "    }\n",
       "\n",
       "    .dataframe thead th {\n",
       "        text-align: right;\n",
       "    }\n",
       "</style>\n",
       "<table border=\"1\" class=\"dataframe\">\n",
       "  <thead>\n",
       "    <tr style=\"text-align: right;\">\n",
       "      <th></th>\n",
       "      <th>CityDeparture</th>\n",
       "      <th>CityArrival</th>\n",
       "      <th>holidays</th>\n",
       "      <th>YearOfDeparture</th>\n",
       "      <th>MonthOfDeparture</th>\n",
       "      <th>DayOfDeparture</th>\n",
       "      <th>Distance</th>\n",
       "      <th>std_mean_combined</th>\n",
       "      <th>ETA</th>\n",
       "      <th>cost</th>\n",
       "    </tr>\n",
       "  </thead>\n",
       "  <tbody>\n",
       "    <tr>\n",
       "      <th>2755</th>\n",
       "      <td>7</td>\n",
       "      <td>3</td>\n",
       "      <td>0</td>\n",
       "      <td>2011</td>\n",
       "      <td>11</td>\n",
       "      <td>2</td>\n",
       "      <td>824</td>\n",
       "      <td>0.990410</td>\n",
       "      <td>1.372509</td>\n",
       "      <td>3401</td>\n",
       "    </tr>\n",
       "    <tr>\n",
       "      <th>1941</th>\n",
       "      <td>4</td>\n",
       "      <td>8</td>\n",
       "      <td>0</td>\n",
       "      <td>2012</td>\n",
       "      <td>11</td>\n",
       "      <td>4</td>\n",
       "      <td>2016</td>\n",
       "      <td>0.721343</td>\n",
       "      <td>3.360820</td>\n",
       "      <td>8329</td>\n",
       "    </tr>\n",
       "    <tr>\n",
       "      <th>3424</th>\n",
       "      <td>9</td>\n",
       "      <td>12</td>\n",
       "      <td>0</td>\n",
       "      <td>2012</td>\n",
       "      <td>8</td>\n",
       "      <td>4</td>\n",
       "      <td>4956</td>\n",
       "      <td>0.654643</td>\n",
       "      <td>8.259768</td>\n",
       "      <td>20470</td>\n",
       "    </tr>\n",
       "    <tr>\n",
       "      <th>4081</th>\n",
       "      <td>9</td>\n",
       "      <td>18</td>\n",
       "      <td>0</td>\n",
       "      <td>2012</td>\n",
       "      <td>9</td>\n",
       "      <td>4</td>\n",
       "      <td>872</td>\n",
       "      <td>0.783950</td>\n",
       "      <td>1.453604</td>\n",
       "      <td>3602</td>\n",
       "    </tr>\n",
       "    <tr>\n",
       "      <th>5505</th>\n",
       "      <td>4</td>\n",
       "      <td>5</td>\n",
       "      <td>0</td>\n",
       "      <td>2011</td>\n",
       "      <td>9</td>\n",
       "      <td>0</td>\n",
       "      <td>860</td>\n",
       "      <td>0.713126</td>\n",
       "      <td>1.433626</td>\n",
       "      <td>3553</td>\n",
       "    </tr>\n",
       "  </tbody>\n",
       "</table>\n",
       "</div>"
      ],
      "text/plain": [
       "      CityDeparture  CityArrival  holidays  YearOfDeparture  MonthOfDeparture  \\\n",
       "2755              7            3         0             2011                11   \n",
       "1941              4            8         0             2012                11   \n",
       "3424              9           12         0             2012                 8   \n",
       "4081              9           18         0             2012                 9   \n",
       "5505              4            5         0             2011                 9   \n",
       "\n",
       "      DayOfDeparture  Distance  std_mean_combined       ETA   cost  \n",
       "2755               2       824           0.990410  1.372509   3401  \n",
       "1941               4      2016           0.721343  3.360820   8329  \n",
       "3424               4      4956           0.654643  8.259768  20470  \n",
       "4081               4       872           0.783950  1.453604   3602  \n",
       "5505               0       860           0.713126  1.433626   3553  "
      ]
     },
     "execution_count": 421,
     "metadata": {},
     "output_type": "execute_result"
    }
   ],
   "source": [
    "X_train.head()"
   ]
  },
  {
   "cell_type": "code",
   "execution_count": 422,
   "metadata": {
    "scrolled": false
   },
   "outputs": [
    {
     "data": {
      "text/html": [
       "<div>\n",
       "<style scoped>\n",
       "    .dataframe tbody tr th:only-of-type {\n",
       "        vertical-align: middle;\n",
       "    }\n",
       "\n",
       "    .dataframe tbody tr th {\n",
       "        vertical-align: top;\n",
       "    }\n",
       "\n",
       "    .dataframe thead th {\n",
       "        text-align: right;\n",
       "    }\n",
       "</style>\n",
       "<table border=\"1\" class=\"dataframe\">\n",
       "  <thead>\n",
       "    <tr style=\"text-align: right;\">\n",
       "      <th></th>\n",
       "      <th>CityDeparture</th>\n",
       "      <th>CityArrival</th>\n",
       "      <th>holidays</th>\n",
       "      <th>YearOfDeparture</th>\n",
       "      <th>MonthOfDeparture</th>\n",
       "      <th>DayOfDeparture</th>\n",
       "      <th>Distance</th>\n",
       "      <th>std_mean_combined</th>\n",
       "      <th>ETA</th>\n",
       "      <th>cost</th>\n",
       "    </tr>\n",
       "  </thead>\n",
       "  <tbody>\n",
       "    <tr>\n",
       "      <th>8833</th>\n",
       "      <td>9</td>\n",
       "      <td>5</td>\n",
       "      <td>0</td>\n",
       "      <td>2012</td>\n",
       "      <td>4</td>\n",
       "      <td>1</td>\n",
       "      <td>1545</td>\n",
       "      <td>0.780533</td>\n",
       "      <td>2.574803</td>\n",
       "      <td>6381</td>\n",
       "    </tr>\n",
       "    <tr>\n",
       "      <th>2025</th>\n",
       "      <td>9</td>\n",
       "      <td>18</td>\n",
       "      <td>0</td>\n",
       "      <td>2012</td>\n",
       "      <td>2</td>\n",
       "      <td>0</td>\n",
       "      <td>872</td>\n",
       "      <td>0.759615</td>\n",
       "      <td>1.453604</td>\n",
       "      <td>3602</td>\n",
       "    </tr>\n",
       "    <tr>\n",
       "      <th>8209</th>\n",
       "      <td>4</td>\n",
       "      <td>15</td>\n",
       "      <td>0</td>\n",
       "      <td>2012</td>\n",
       "      <td>3</td>\n",
       "      <td>6</td>\n",
       "      <td>2420</td>\n",
       "      <td>0.813536</td>\n",
       "      <td>4.034155</td>\n",
       "      <td>9998</td>\n",
       "    </tr>\n",
       "    <tr>\n",
       "      <th>7870</th>\n",
       "      <td>4</td>\n",
       "      <td>17</td>\n",
       "      <td>0</td>\n",
       "      <td>2011</td>\n",
       "      <td>11</td>\n",
       "      <td>1</td>\n",
       "      <td>2822</td>\n",
       "      <td>0.655828</td>\n",
       "      <td>4.702555</td>\n",
       "      <td>11654</td>\n",
       "    </tr>\n",
       "    <tr>\n",
       "      <th>8085</th>\n",
       "      <td>0</td>\n",
       "      <td>3</td>\n",
       "      <td>0</td>\n",
       "      <td>2012</td>\n",
       "      <td>9</td>\n",
       "      <td>0</td>\n",
       "      <td>391</td>\n",
       "      <td>0.713957</td>\n",
       "      <td>0.651080</td>\n",
       "      <td>1614</td>\n",
       "    </tr>\n",
       "  </tbody>\n",
       "</table>\n",
       "</div>"
      ],
      "text/plain": [
       "      CityDeparture  CityArrival  holidays  YearOfDeparture  MonthOfDeparture  \\\n",
       "8833              9            5         0             2012                 4   \n",
       "2025              9           18         0             2012                 2   \n",
       "8209              4           15         0             2012                 3   \n",
       "7870              4           17         0             2011                11   \n",
       "8085              0            3         0             2012                 9   \n",
       "\n",
       "      DayOfDeparture  Distance  std_mean_combined       ETA   cost  \n",
       "8833               1      1545           0.780533  2.574803   6381  \n",
       "2025               0       872           0.759615  1.453604   3602  \n",
       "8209               6      2420           0.813536  4.034155   9998  \n",
       "7870               1      2822           0.655828  4.702555  11654  \n",
       "8085               0       391           0.713957  0.651080   1614  "
      ]
     },
     "execution_count": 422,
     "metadata": {},
     "output_type": "execute_result"
    }
   ],
   "source": [
    "X_test.head()"
   ]
  },
  {
   "cell_type": "markdown",
   "metadata": {},
   "source": [
    "Αφαιρούμε τις διπλοεγγραφές του `X_train` και τις αντίστοιχες τιμές τους στον `y_train`."
   ]
  },
  {
   "cell_type": "code",
   "execution_count": 423,
   "metadata": {},
   "outputs": [],
   "source": [
    "#X_train.info()"
   ]
  },
  {
   "cell_type": "code",
   "execution_count": 424,
   "metadata": {},
   "outputs": [
    {
     "data": {
      "text/plain": [
       "'# making a bool series \\nbool_series = X_train.duplicated(keep = False)\\n\\n# bool series \\nprint(bool_series.sum())\\n\\n# passing NOT of bool series to see unique values only \\nX_train = X_train[~bool_series]\\ny_train = y_train[~bool_series]\\n\\n# displaying data\\nX_train.info()\\n#X_train\\n\\n#y_train.info()\\n#y_train'"
      ]
     },
     "execution_count": 424,
     "metadata": {},
     "output_type": "execute_result"
    }
   ],
   "source": [
    "'''# making a bool series \n",
    "bool_series = X_train.duplicated(keep = False)\n",
    "\n",
    "# bool series \n",
    "print(bool_series.sum())\n",
    "\n",
    "# passing NOT of bool series to see unique values only \n",
    "X_train = X_train[~bool_series]\n",
    "y_train = y_train[~bool_series]\n",
    "\n",
    "# displaying data\n",
    "X_train.info()\n",
    "#X_train\n",
    "\n",
    "#y_train.info()\n",
    "#y_train'''"
   ]
  },
  {
   "cell_type": "markdown",
   "metadata": {},
   "source": [
    "Μετατροπή των `Dataframes` σε `numpy arrays`.<br>\n",
    "Ανασχηματισμός του `y_train`."
   ]
  },
  {
   "cell_type": "code",
   "execution_count": 425,
   "metadata": {},
   "outputs": [],
   "source": [
    "X_train = X_train.values\n",
    "X_test = X_test.values\n",
    "\n",
    "#y_test = y_test.values\n",
    "\n",
    "y_train = np.ravel(y_train)\n",
    "y_test = np.ravel(y_test)"
   ]
  },
  {
   "cell_type": "markdown",
   "metadata": {},
   "source": [
    "Χρήση `KNN`."
   ]
  },
  {
   "cell_type": "code",
   "execution_count": 426,
   "metadata": {},
   "outputs": [],
   "source": [
    "from sklearn.metrics import f1_score\n",
    "from sklearn.neighbors import KNeighborsClassifier\n",
    "\n",
    "k = 44\n",
    "\n",
    "clf = KNeighborsClassifier(k, algorithm = 'kd_tree', p = 1, leaf_size = 45)\n",
    "clf.fit(X_train, y_train)\n",
    "\n",
    "y_pred = clf.predict(X_test)"
   ]
  },
  {
   "cell_type": "markdown",
   "metadata": {},
   "source": [
    "Καταγραφή των αποτελεσμάτων σε ένα αρχείο `csv`."
   ]
  },
  {
   "cell_type": "code",
   "execution_count": 427,
   "metadata": {},
   "outputs": [],
   "source": [
    "import csv\n",
    "with open('y_pred_knn.csv', 'w', newline='') as csvfile:\n",
    "    writer = csv.writer(csvfile, delimiter=',')\n",
    "    writer.writerow(['Id', 'Label'])\n",
    "    for i in range(y_pred.shape[0]):\n",
    "        writer.writerow([i, y_pred[i]])"
   ]
  },
  {
   "cell_type": "markdown",
   "metadata": {},
   "source": [
    "Χρησιμοποιούμε την `f1_score` για να υπολογίσουμε την ακρίβεια του μοντέλου."
   ]
  },
  {
   "cell_type": "code",
   "execution_count": 428,
   "metadata": {
    "scrolled": false
   },
   "outputs": [
    {
     "name": "stdout",
     "output_type": "stream",
     "text": [
      "RAM:\t 0.4140449438202247\n",
      "File:\t 0.4140449438202247\n"
     ]
    }
   ],
   "source": [
    "if not submission:\n",
    "    y_pred_from_csv = np.loadtxt('y_pred_knn.csv', delimiter=\",\", skiprows=1, usecols=[1])\n",
    "    print('RAM:\\t', f1_score(y_test, y_pred, average='micro'))\n",
    "    print('File:\\t', f1_score(y_test, y_pred_from_csv, average='micro'))"
   ]
  },
  {
   "cell_type": "markdown",
   "metadata": {},
   "source": [
    "Χρήση `Decision tree`."
   ]
  },
  {
   "cell_type": "code",
   "execution_count": 429,
   "metadata": {},
   "outputs": [],
   "source": [
    "from sklearn import tree\n",
    "\n",
    "clf = tree.DecisionTreeClassifier()\n",
    "clf.fit(X_train, y_train)\n",
    "\n",
    "y_pred = clf.predict(X_test)"
   ]
  },
  {
   "cell_type": "markdown",
   "metadata": {},
   "source": [
    "Καταγραφή των αποτελεσμάτων σε ένα αρχείο `csv`."
   ]
  },
  {
   "cell_type": "code",
   "execution_count": 430,
   "metadata": {},
   "outputs": [],
   "source": [
    "with open('y_pred_dt.csv', 'w', newline='') as csvfile:\n",
    "    writer = csv.writer(csvfile, delimiter=',')\n",
    "    writer.writerow(['Id', 'Label'])\n",
    "    for i in range(y_pred.shape[0]):\n",
    "        writer.writerow([i, y_pred[i]])"
   ]
  },
  {
   "cell_type": "markdown",
   "metadata": {},
   "source": [
    "Χρησιμοποιούμε την `f1_score` για να υπολογίσουμε την ακρίβεια του μοντέλου."
   ]
  },
  {
   "cell_type": "code",
   "execution_count": 431,
   "metadata": {
    "scrolled": false
   },
   "outputs": [
    {
     "name": "stdout",
     "output_type": "stream",
     "text": [
      "RAM:\t 0.4449438202247191\n",
      "File:\t 0.4449438202247191\n"
     ]
    }
   ],
   "source": [
    "if not submission:\n",
    "    y_pred_from_csv = np.loadtxt('y_pred_dt.csv', delimiter=\",\", skiprows=1, usecols=[1])\n",
    "    print('RAM:\\t', f1_score(y_test, y_pred, average='micro'))\n",
    "    print('File:\\t', f1_score(y_test, y_pred_from_csv, average='micro'))"
   ]
  },
  {
   "cell_type": "markdown",
   "metadata": {},
   "source": [
    "Χρήση `RandomForest`."
   ]
  },
  {
   "cell_type": "code",
   "execution_count": 432,
   "metadata": {},
   "outputs": [],
   "source": [
    "from sklearn.ensemble import RandomForestClassifier\n",
    "\n",
    "n = 32\n",
    "\n",
    "clf = RandomForestClassifier(n_estimators=n, random_state=7)\n",
    "clf.fit(X_train, y_train)\n",
    "\n",
    "y_pred = clf.predict(X_test)"
   ]
  },
  {
   "cell_type": "markdown",
   "metadata": {},
   "source": [
    "Καταγραφή των αποτελεσμάτων σε ένα αρχείο `csv`."
   ]
  },
  {
   "cell_type": "code",
   "execution_count": 433,
   "metadata": {},
   "outputs": [],
   "source": [
    "with open('y_pred_rf.csv', 'w', newline='') as csvfile:\n",
    "    writer = csv.writer(csvfile, delimiter=',')\n",
    "    writer.writerow(['Id', 'Label'])\n",
    "    for i in range(y_pred.shape[0]):\n",
    "        writer.writerow([i, y_pred[i]])"
   ]
  },
  {
   "cell_type": "markdown",
   "metadata": {},
   "source": [
    "Χρησιμοποιούμε την `f1_score` για να υπολογίσουμε την ακρίβεια του μοντέλου."
   ]
  },
  {
   "cell_type": "code",
   "execution_count": 434,
   "metadata": {
    "scrolled": true
   },
   "outputs": [
    {
     "name": "stdout",
     "output_type": "stream",
     "text": [
      "RAM:\t 0.5207865168539326\n",
      "File:\t 0.5207865168539326\n"
     ]
    }
   ],
   "source": [
    "if not submission:\n",
    "    y_pred_from_csv = np.loadtxt('y_pred_rf.csv', delimiter=\",\", skiprows=1, usecols=[1])\n",
    "    print('RAM:\\t', f1_score(y_test, y_pred, average='micro'))\n",
    "    print('File:\\t', f1_score(y_test, y_pred_from_csv, average='micro'))"
   ]
  },
  {
   "cell_type": "markdown",
   "metadata": {},
   "source": [
    "Χρήση `NN` (sklearn)."
   ]
  },
  {
   "cell_type": "code",
   "execution_count": 435,
   "metadata": {
    "scrolled": true
   },
   "outputs": [
    {
     "name": "stderr",
     "output_type": "stream",
     "text": [
      "c:\\users\\cc\\anaconda3\\envs\\venv\\lib\\site-packages\\sklearn\\neural_network\\multilayer_perceptron.py:562: ConvergenceWarning: Stochastic Optimizer: Maximum iterations (800) reached and the optimization hasn't converged yet.\n",
      "  % self.max_iter, ConvergenceWarning)\n"
     ]
    }
   ],
   "source": [
    "from sklearn.preprocessing import StandardScaler  \n",
    "scaler = StandardScaler()\n",
    "# Don't cheat - fit only on training data\n",
    "scaler.fit(X_train)\n",
    "X_train = scaler.transform(X_train)\n",
    "# apply same transformation to test data\n",
    "X_test = scaler.transform(X_test)\n",
    "\n",
    "from sklearn.neural_network import MLPClassifier\n",
    "\n",
    "clf = MLPClassifier(hidden_layer_sizes=(20, 20, 20,), activation='logistic', solver='sgd', max_iter=800, verbose=False,\n",
    "                    learning_rate='adaptive', learning_rate_init=0.1, random_state=16)\n",
    "\n",
    "clf.fit(X_train, y_train)\n",
    "\n",
    "y_pred_train = clf.predict(X_train)\n",
    "y_pred = clf.predict(X_test)"
   ]
  },
  {
   "cell_type": "markdown",
   "metadata": {},
   "source": [
    "Καταγραφή των αποτελεσμάτων σε ένα αρχείο `csv`."
   ]
  },
  {
   "cell_type": "code",
   "execution_count": 436,
   "metadata": {},
   "outputs": [],
   "source": [
    "with open('y_pred_nn_sklearn.csv', 'w', newline='') as csvfile:\n",
    "    writer = csv.writer(csvfile, delimiter=',')\n",
    "    writer.writerow(['Id', 'Label'])\n",
    "    for i in range(y_pred.shape[0]):\n",
    "        writer.writerow([i, y_pred[i]])"
   ]
  },
  {
   "cell_type": "markdown",
   "metadata": {},
   "source": [
    "Χρησιμοποιούμε την `f1_score` για να υπολογίσουμε την ακρίβεια του μοντέλου."
   ]
  },
  {
   "cell_type": "code",
   "execution_count": 437,
   "metadata": {
    "scrolled": true
   },
   "outputs": [
    {
     "name": "stdout",
     "output_type": "stream",
     "text": [
      "On train data:\t 0.5169265346256496\n",
      "On test data:\t 0.46797752808988763\n"
     ]
    }
   ],
   "source": [
    "if not submission:\n",
    "    y_pred_from_csv = np.loadtxt('y_pred_nn_sklearn.csv', delimiter=\",\", skiprows=1, usecols=[1])\n",
    "    print('On train data:\\t', f1_score(y_train, y_pred_train, average='micro'))\n",
    "    print('On test data:\\t', f1_score(y_test, y_pred_from_csv, average='micro'))"
   ]
  },
  {
   "cell_type": "code",
   "execution_count": 354,
   "metadata": {
    "scrolled": true
   },
   "outputs": [
    {
     "data": {
      "text/plain": [
       "\"from sklearn.neural_network import MLPClassifier\\nimport random\\n\\n# Choose your classifier\\nmlp = MLPClassifier(max_iter=1)\\n\\n# Define a hyper-parameter space to search\\nparameter_space = {\\n    'hidden_layer_sizes': [(20, 20, 20), (20, 20, 15), (20,), (50, 25), (30, 20, 10), (100, 50)],\\n    'activation': ['logistic', 'tanh', 'relu'],\\n    'solver': ['sgd', 'adam'],\\n    'random_state': [50],\\n}\\n\\n# Run the search\\nfrom sklearn.model_selection import GridSearchCV\\n\\nclf = GridSearchCV(mlp, parameter_space, n_jobs=-1, cv=3)\\nclf.fit(X_train, y_train)\\n\\n# See the best results\\n# Best paramete set\\nprint('Best parameters found:\\n', clf.best_params_)\""
      ]
     },
     "execution_count": 354,
     "metadata": {},
     "output_type": "execute_result"
    }
   ],
   "source": [
    "'''from sklearn.neural_network import MLPClassifier\n",
    "import random\n",
    "\n",
    "# Choose your classifier\n",
    "mlp = MLPClassifier(max_iter=1)\n",
    "\n",
    "# Define a hyper-parameter space to search\n",
    "parameter_space = {\n",
    "    'hidden_layer_sizes': [(20, 20, 20), (20, 20, 15), (20,), (50, 25), (30, 20, 10), (100, 50)],\n",
    "    'activation': ['logistic', 'tanh', 'relu'],\n",
    "    'solver': ['sgd', 'adam'],\n",
    "    'random_state': [50],\n",
    "}\n",
    "\n",
    "# Run the search\n",
    "from sklearn.model_selection import GridSearchCV\n",
    "\n",
    "clf = GridSearchCV(mlp, parameter_space, n_jobs=-1, cv=3)\n",
    "clf.fit(X_train, y_train)\n",
    "\n",
    "# See the best results\n",
    "# Best paramete set\n",
    "print('Best parameters found:\\n', clf.best_params_)'''"
   ]
  },
  {
   "cell_type": "markdown",
   "metadata": {},
   "source": [
    "Χρήση `NN` (Keras)."
   ]
  },
  {
   "cell_type": "code",
   "execution_count": 2443,
   "metadata": {},
   "outputs": [],
   "source": [
    "import keras\n",
    "from keras.models import Sequential\n",
    "\n",
    "model = Sequential()"
   ]
  },
  {
   "cell_type": "markdown",
   "metadata": {},
   "source": [
    "Μετατροπή των κλάσεων σε binary πίνακες."
   ]
  },
  {
   "cell_type": "code",
   "execution_count": 2444,
   "metadata": {},
   "outputs": [
    {
     "name": "stdout",
     "output_type": "stream",
     "text": [
      "Before conversion:\n",
      " [6 5 1 ... 6 3 6]\n",
      "After conversion:\n",
      " [[0. 0. 0. ... 0. 1. 0.]\n",
      " [0. 0. 0. ... 1. 0. 0.]\n",
      " [0. 1. 0. ... 0. 0. 0.]\n",
      " ...\n",
      " [0. 0. 0. ... 0. 1. 0.]\n",
      " [0. 0. 0. ... 0. 0. 0.]\n",
      " [0. 0. 0. ... 0. 1. 0.]]\n"
     ]
    }
   ],
   "source": [
    "# convert class vectors to binary class matrices\n",
    "num_classes = 8\n",
    "\n",
    "print('Before conversion:\\n', y_train)\n",
    "y_train = keras.utils.np_utils.to_categorical(y_train, num_classes)\n",
    "print('After conversion:\\n', y_train)\n",
    "\n",
    "y_test = keras.utils.np_utils.to_categorical(y_test, num_classes)"
   ]
  },
  {
   "cell_type": "code",
   "execution_count": 2445,
   "metadata": {},
   "outputs": [],
   "source": [
    "#print(y_train)\n",
    "#print(X_train)\n",
    "#len(X_train[0])"
   ]
  },
  {
   "cell_type": "markdown",
   "metadata": {},
   "source": [
    "Προσθήκη `layers` στο μοντέλο `model`."
   ]
  },
  {
   "cell_type": "code",
   "execution_count": 2446,
   "metadata": {},
   "outputs": [],
   "source": [
    "from keras.layers import Dense, Dropout\n",
    "\n",
    "model.add(Dense(units=1200, activation='sigmoid', input_dim=len(X_train[0])))\n",
    "model.add(Dropout(0.5))\n",
    "model.add(Dense(units=8, activation='softmax'))"
   ]
  },
  {
   "cell_type": "markdown",
   "metadata": {},
   "source": [
    "Κάνουμε `compile` το μοντέλο μας."
   ]
  },
  {
   "cell_type": "code",
   "execution_count": 2447,
   "metadata": {},
   "outputs": [],
   "source": [
    "model.compile(loss=keras.losses.mean_squared_error,\n",
    "              optimizer=keras.optimizers.Adadelta(lr=10),\n",
    "              metrics=['accuracy'])"
   ]
  },
  {
   "cell_type": "markdown",
   "metadata": {},
   "source": [
    "_Ανασκόπηση μοντέλου._"
   ]
  },
  {
   "cell_type": "code",
   "execution_count": 2448,
   "metadata": {
    "scrolled": false
   },
   "outputs": [
    {
     "name": "stdout",
     "output_type": "stream",
     "text": [
      "_________________________________________________________________\n",
      "Layer (type)                 Output Shape              Param #   \n",
      "=================================================================\n",
      "dense_9 (Dense)              (None, 1200)              16800     \n",
      "_________________________________________________________________\n",
      "dropout_5 (Dropout)          (None, 1200)              0         \n",
      "_________________________________________________________________\n",
      "dense_10 (Dense)             (None, 8)                 9608      \n",
      "=================================================================\n",
      "Total params: 26,408\n",
      "Trainable params: 26,408\n",
      "Non-trainable params: 0\n",
      "_________________________________________________________________\n"
     ]
    }
   ],
   "source": [
    "model.summary()"
   ]
  },
  {
   "cell_type": "markdown",
   "metadata": {},
   "source": [
    "Εκπαίδευση του μοντέλου `model`."
   ]
  },
  {
   "cell_type": "code",
   "execution_count": 2449,
   "metadata": {
    "scrolled": true
   },
   "outputs": [
    {
     "name": "stdout",
     "output_type": "stream",
     "text": [
      "Train on 7119 samples, validate on 1780 samples\n",
      "Epoch 1/200\n",
      "7119/7119 [==============================] - 3s 452us/step - loss: 0.1932 - acc: 0.2252 - val_loss: 0.2029 - val_acc: 0.1882\n",
      "Epoch 2/200\n",
      "7119/7119 [==============================] - ETA: 0s - loss: 0.2021 - acc: 0.190 - 3s 385us/step - loss: 0.2023 - acc: 0.1892 - val_loss: 0.2029 - val_acc: 0.1882\n",
      "Epoch 3/200\n",
      "7119/7119 [==============================] - 3s 396us/step - loss: 0.2054 - acc: 0.1780 - val_loss: 0.1907 - val_acc: 0.2371\n",
      "Epoch 4/200\n",
      "7119/7119 [==============================] - 3s 392us/step - loss: 0.1891 - acc: 0.2422 - val_loss: 0.1907 - val_acc: 0.2371\n",
      "Epoch 5/200\n",
      "7119/7119 [==============================] - 3s 399us/step - loss: 0.1946 - acc: 0.2160 - val_loss: 0.1907 - val_acc: 0.2371\n",
      "Epoch 6/200\n",
      "7119/7119 [==============================] - 3s 409us/step - loss: 0.1908 - acc: 0.2297 - val_loss: 0.1907 - val_acc: 0.2371\n",
      "Epoch 7/200\n",
      "7119/7119 [==============================] - 3s 413us/step - loss: 0.1926 - acc: 0.2201 - val_loss: 0.1907 - val_acc: 0.2371\n",
      "Epoch 8/200\n",
      "7119/7119 [==============================] - 3s 414us/step - loss: 0.1960 - acc: 0.2125 - val_loss: 0.2029 - val_acc: 0.1882\n",
      "Epoch 9/200\n",
      "7119/7119 [==============================] - 3s 428us/step - loss: 0.1957 - acc: 0.2073 - val_loss: 0.1907 - val_acc: 0.2371\n",
      "Epoch 10/200\n",
      "7119/7119 [==============================] - 3s 449us/step - loss: 0.1890 - acc: 0.2434 - val_loss: 0.1907 - val_acc: 0.2371\n",
      "Epoch 11/200\n",
      "7119/7119 [==============================] - 3s 442us/step - loss: 0.1892 - acc: 0.2432 - val_loss: 0.1907 - val_acc: 0.2371\n",
      "Epoch 12/200\n",
      "7119/7119 [==============================] - 3s 447us/step - loss: 0.1892 - acc: 0.2432 - val_loss: 0.1907 - val_acc: 0.2371\n",
      "Epoch 13/200\n",
      "7119/7119 [==============================] - 3s 441us/step - loss: 0.1892 - acc: 0.2430 - val_loss: 0.1907 - val_acc: 0.2371\n",
      "Epoch 14/200\n",
      "7119/7119 [==============================] - 3s 464us/step - loss: 0.1892 - acc: 0.2432 - val_loss: 0.1907 - val_acc: 0.2371\n",
      "Epoch 15/200\n",
      "7119/7119 [==============================] - 3s 451us/step - loss: 0.1892 - acc: 0.2392 - val_loss: 0.1907 - val_acc: 0.2371\n",
      "Epoch 16/200\n",
      "7119/7119 [==============================] - 3s 451us/step - loss: 0.1886 - acc: 0.2419 - val_loss: 0.1907 - val_acc: 0.2371\n",
      "Epoch 17/200\n",
      "7119/7119 [==============================] - 3s 443us/step - loss: 0.1889 - acc: 0.2398 - val_loss: 0.1907 - val_acc: 0.2371\n",
      "Epoch 18/200\n",
      "7119/7119 [==============================] - 3s 450us/step - loss: 0.1911 - acc: 0.2336 - val_loss: 0.1907 - val_acc: 0.2371\n",
      "Epoch 19/200\n",
      "7119/7119 [==============================] - 3s 450us/step - loss: 0.1891 - acc: 0.2410 - val_loss: 0.1907 - val_acc: 0.2371\n",
      "Epoch 20/200\n",
      "7119/7119 [==============================] - 3s 451us/step - loss: 0.1903 - acc: 0.2344 - val_loss: 0.1907 - val_acc: 0.2371\n",
      "Epoch 21/200\n",
      "7119/7119 [==============================] - 4s 581us/step - loss: 0.1890 - acc: 0.2417 - val_loss: 0.1907 - val_acc: 0.2371\n",
      "Epoch 22/200\n",
      "7119/7119 [==============================] - 5s 663us/step - loss: 0.1916 - acc: 0.2267 - val_loss: 0.1907 - val_acc: 0.2371\n",
      "Epoch 23/200\n",
      "7119/7119 [==============================] - 4s 529us/step - loss: 0.1894 - acc: 0.2422 - val_loss: 0.1907 - val_acc: 0.2371\n",
      "Epoch 24/200\n",
      "7119/7119 [==============================] - 3s 436us/step - loss: 0.1892 - acc: 0.2432 - val_loss: 0.1907 - val_acc: 0.2371\n",
      "Epoch 25/200\n",
      "7119/7119 [==============================] - 3s 443us/step - loss: 0.1890 - acc: 0.2432 - val_loss: 0.1907 - val_acc: 0.2371\n",
      "Epoch 26/200\n",
      "7119/7119 [==============================] - 3s 438us/step - loss: 0.1892 - acc: 0.2430 - val_loss: 0.1907 - val_acc: 0.2371\n",
      "Epoch 27/200\n",
      "7119/7119 [==============================] - 3s 441us/step - loss: 0.1893 - acc: 0.2415 - val_loss: 0.1907 - val_acc: 0.2371\n",
      "Epoch 28/200\n",
      "7119/7119 [==============================] - 3s 443us/step - loss: 0.1939 - acc: 0.2210 - val_loss: 0.2029 - val_acc: 0.1882\n",
      "Epoch 29/200\n",
      "7119/7119 [==============================] - 3s 467us/step - loss: 0.2025 - acc: 0.1872 - val_loss: 0.1907 - val_acc: 0.2371\n",
      "Epoch 30/200\n",
      "7119/7119 [==============================] - 3s 442us/step - loss: 0.1921 - acc: 0.2257 - val_loss: 0.1907 - val_acc: 0.2371\n",
      "Epoch 31/200\n",
      "7119/7119 [==============================] - 3s 447us/step - loss: 0.1909 - acc: 0.2290 - val_loss: 0.1907 - val_acc: 0.2371\n",
      "Epoch 32/200\n",
      "7119/7119 [==============================] - 3s 463us/step - loss: 0.1897 - acc: 0.2373 - val_loss: 0.1907 - val_acc: 0.2371\n",
      "Epoch 33/200\n",
      "7119/7119 [==============================] - 3s 468us/step - loss: 0.1947 - acc: 0.2174 - val_loss: 0.1907 - val_acc: 0.2371\n",
      "Epoch 34/200\n",
      "7119/7119 [==============================] - 3s 461us/step - loss: 0.1893 - acc: 0.2424 - val_loss: 0.1907 - val_acc: 0.2371\n",
      "Epoch 35/200\n",
      "7119/7119 [==============================] - 4s 509us/step - loss: 0.1892 - acc: 0.2429 - val_loss: 0.1907 - val_acc: 0.2371\n",
      "Epoch 36/200\n",
      "7119/7119 [==============================] - 4s 498us/step - loss: 0.1891 - acc: 0.2434 - val_loss: 0.1907 - val_acc: 0.2371\n",
      "Epoch 37/200\n",
      "7119/7119 [==============================] - 5s 703us/step - loss: 0.1892 - acc: 0.2432 - val_loss: 0.1907 - val_acc: 0.2371\n",
      "Epoch 38/200\n",
      "7119/7119 [==============================] - 5s 688us/step - loss: 0.1892 - acc: 0.2432 - val_loss: 0.1907 - val_acc: 0.2371\n",
      "Epoch 39/200\n",
      "7119/7119 [==============================] - 4s 507us/step - loss: 0.1892 - acc: 0.2432 - val_loss: 0.1907 - val_acc: 0.2371\n",
      "Epoch 40/200\n",
      "7119/7119 [==============================] - 4s 564us/step - loss: 0.1892 - acc: 0.2432 - val_loss: 0.1907 - val_acc: 0.2371\n",
      "Epoch 41/200\n",
      "7119/7119 [==============================] - 4s 535us/step - loss: 0.1892 - acc: 0.2429 - val_loss: 0.1907 - val_acc: 0.2371\n",
      "Epoch 42/200\n",
      "7119/7119 [==============================] - 3s 450us/step - loss: 0.1894 - acc: 0.2423 - val_loss: 0.1907 - val_acc: 0.2371\n",
      "Epoch 43/200\n",
      "7119/7119 [==============================] - 3s 481us/step - loss: 0.1906 - acc: 0.2322 - val_loss: 0.1902 - val_acc: 0.2371\n",
      "Epoch 44/200\n",
      "7119/7119 [==============================] - 3s 460us/step - loss: 0.1898 - acc: 0.2358 - val_loss: 0.1907 - val_acc: 0.2371\n",
      "Epoch 45/200\n",
      "7119/7119 [==============================] - 3s 446us/step - loss: 0.1893 - acc: 0.2429 - val_loss: 0.1907 - val_acc: 0.2371\n",
      "Epoch 46/200\n",
      "7119/7119 [==============================] - 3s 451us/step - loss: 0.1891 - acc: 0.2430 - val_loss: 0.1907 - val_acc: 0.2371\n",
      "Epoch 47/200\n",
      "7119/7119 [==============================] - 3s 450us/step - loss: 0.1891 - acc: 0.2401 - val_loss: 0.1907 - val_acc: 0.2371\n",
      "Epoch 48/200\n",
      "7119/7119 [==============================] - 3s 451us/step - loss: 0.1891 - acc: 0.2432 - val_loss: 0.1907 - val_acc: 0.2371\n",
      "Epoch 49/200\n",
      "7119/7119 [==============================] - 3s 452us/step - loss: 0.1893 - acc: 0.2422 - val_loss: 0.1907 - val_acc: 0.2371\n",
      "Epoch 50/200\n",
      "7119/7119 [==============================] - 3s 485us/step - loss: 0.1892 - acc: 0.2430 - val_loss: 0.1907 - val_acc: 0.2371\n",
      "Epoch 51/200\n",
      "7119/7119 [==============================] - 3s 451us/step - loss: 0.1892 - acc: 0.2432 - val_loss: 0.1907 - val_acc: 0.2371\n",
      "Epoch 52/200\n",
      "7119/7119 [==============================] - 3s 489us/step - loss: 0.1892 - acc: 0.2432 - val_loss: 0.1907 - val_acc: 0.2371\n",
      "Epoch 53/200\n",
      "7119/7119 [==============================] - 7s 938us/step - loss: 0.1892 - acc: 0.2432 - val_loss: 0.1907 - val_acc: 0.2371\n",
      "Epoch 54/200\n",
      "7119/7119 [==============================] - 8s 1ms/step - loss: 0.1891 - acc: 0.2432 - val_loss: 0.1907 - val_acc: 0.2371\n",
      "Epoch 55/200\n",
      "7119/7119 [==============================] - 7s 988us/step - loss: 0.1892 - acc: 0.2430 - val_loss: 0.1907 - val_acc: 0.2371\n",
      "Epoch 56/200\n",
      "7119/7119 [==============================] - 8s 1ms/step - loss: 0.1889 - acc: 0.2437 - val_loss: 0.1907 - val_acc: 0.2371\n",
      "Epoch 57/200\n",
      "7119/7119 [==============================] - 7s 962us/step - loss: 0.1904 - acc: 0.2309 - val_loss: 0.1907 - val_acc: 0.2371\n",
      "Epoch 58/200\n",
      "7119/7119 [==============================] - 7s 981us/step - loss: 0.1890 - acc: 0.2419 - val_loss: 0.1907 - val_acc: 0.2371\n",
      "Epoch 59/200\n",
      "7119/7119 [==============================] - 5s 688us/step - loss: 0.1975 - acc: 0.2000 - val_loss: 0.2351 - val_acc: 0.0596\n"
     ]
    },
    {
     "name": "stdout",
     "output_type": "stream",
     "text": [
      "Epoch 60/200\n",
      "7119/7119 [==============================] - 4s 587us/step - loss: 0.2103 - acc: 0.1558 - val_loss: 0.1907 - val_acc: 0.2371\n",
      "Epoch 61/200\n",
      "7119/7119 [==============================] - 5s 645us/step - loss: 0.1911 - acc: 0.2287 - val_loss: 0.1907 - val_acc: 0.2371\n",
      "Epoch 62/200\n",
      "7119/7119 [==============================] - ETA: 0s - loss: 0.1894 - acc: 0.239 - 4s 563us/step - loss: 0.1894 - acc: 0.2392 - val_loss: 0.1907 - val_acc: 0.2371\n",
      "Epoch 63/200\n",
      "4915/7119 [===================>..........] - ETA: 1s - loss: 0.1896 - acc: 0.2366"
     ]
    },
    {
     "ename": "KeyboardInterrupt",
     "evalue": "",
     "output_type": "error",
     "traceback": [
      "\u001b[1;31m---------------------------------------------------------------------------\u001b[0m",
      "\u001b[1;31mKeyboardInterrupt\u001b[0m                         Traceback (most recent call last)",
      "\u001b[1;32m<ipython-input-2449-e4ac21f677f2>\u001b[0m in \u001b[0;36m<module>\u001b[1;34m\u001b[0m\n\u001b[0;32m      6\u001b[0m           \u001b[0mepochs\u001b[0m\u001b[1;33m=\u001b[0m\u001b[0mepochs\u001b[0m\u001b[1;33m,\u001b[0m\u001b[1;33m\u001b[0m\u001b[1;33m\u001b[0m\u001b[0m\n\u001b[0;32m      7\u001b[0m           \u001b[0mverbose\u001b[0m\u001b[1;33m=\u001b[0m\u001b[1;36m1\u001b[0m\u001b[1;33m,\u001b[0m\u001b[1;33m\u001b[0m\u001b[1;33m\u001b[0m\u001b[0m\n\u001b[1;32m----> 8\u001b[1;33m           validation_data=(X_test, y_test))\n\u001b[0m\u001b[0;32m      9\u001b[0m \u001b[1;33m\u001b[0m\u001b[0m\n\u001b[0;32m     10\u001b[0m \u001b[0mscore\u001b[0m \u001b[1;33m=\u001b[0m \u001b[0mmodel\u001b[0m\u001b[1;33m.\u001b[0m\u001b[0mevaluate\u001b[0m\u001b[1;33m(\u001b[0m\u001b[0mX_test\u001b[0m\u001b[1;33m,\u001b[0m \u001b[0my_test\u001b[0m\u001b[1;33m,\u001b[0m \u001b[0mverbose\u001b[0m\u001b[1;33m=\u001b[0m\u001b[1;36m0\u001b[0m\u001b[1;33m)\u001b[0m\u001b[1;33m\u001b[0m\u001b[1;33m\u001b[0m\u001b[0m\n",
      "\u001b[1;32mc:\\users\\cc\\anaconda3\\envs\\venv\\lib\\site-packages\\keras\\engine\\training.py\u001b[0m in \u001b[0;36mfit\u001b[1;34m(self, x, y, batch_size, epochs, verbose, callbacks, validation_split, validation_data, shuffle, class_weight, sample_weight, initial_epoch, steps_per_epoch, validation_steps, **kwargs)\u001b[0m\n\u001b[0;32m   1037\u001b[0m                                         \u001b[0minitial_epoch\u001b[0m\u001b[1;33m=\u001b[0m\u001b[0minitial_epoch\u001b[0m\u001b[1;33m,\u001b[0m\u001b[1;33m\u001b[0m\u001b[1;33m\u001b[0m\u001b[0m\n\u001b[0;32m   1038\u001b[0m                                         \u001b[0msteps_per_epoch\u001b[0m\u001b[1;33m=\u001b[0m\u001b[0msteps_per_epoch\u001b[0m\u001b[1;33m,\u001b[0m\u001b[1;33m\u001b[0m\u001b[1;33m\u001b[0m\u001b[0m\n\u001b[1;32m-> 1039\u001b[1;33m                                         validation_steps=validation_steps)\n\u001b[0m\u001b[0;32m   1040\u001b[0m \u001b[1;33m\u001b[0m\u001b[0m\n\u001b[0;32m   1041\u001b[0m     def evaluate(self, x=None, y=None,\n",
      "\u001b[1;32mc:\\users\\cc\\anaconda3\\envs\\venv\\lib\\site-packages\\keras\\engine\\training_arrays.py\u001b[0m in \u001b[0;36mfit_loop\u001b[1;34m(model, f, ins, out_labels, batch_size, epochs, verbose, callbacks, val_f, val_ins, shuffle, callback_metrics, initial_epoch, steps_per_epoch, validation_steps)\u001b[0m\n\u001b[0;32m    202\u001b[0m                     \u001b[0mbatch_logs\u001b[0m\u001b[1;33m[\u001b[0m\u001b[0ml\u001b[0m\u001b[1;33m]\u001b[0m \u001b[1;33m=\u001b[0m \u001b[0mo\u001b[0m\u001b[1;33m\u001b[0m\u001b[1;33m\u001b[0m\u001b[0m\n\u001b[0;32m    203\u001b[0m \u001b[1;33m\u001b[0m\u001b[0m\n\u001b[1;32m--> 204\u001b[1;33m                 \u001b[0mcallbacks\u001b[0m\u001b[1;33m.\u001b[0m\u001b[0mon_batch_end\u001b[0m\u001b[1;33m(\u001b[0m\u001b[0mbatch_index\u001b[0m\u001b[1;33m,\u001b[0m \u001b[0mbatch_logs\u001b[0m\u001b[1;33m)\u001b[0m\u001b[1;33m\u001b[0m\u001b[1;33m\u001b[0m\u001b[0m\n\u001b[0m\u001b[0;32m    205\u001b[0m                 \u001b[1;32mif\u001b[0m \u001b[0mcallback_model\u001b[0m\u001b[1;33m.\u001b[0m\u001b[0mstop_training\u001b[0m\u001b[1;33m:\u001b[0m\u001b[1;33m\u001b[0m\u001b[1;33m\u001b[0m\u001b[0m\n\u001b[0;32m    206\u001b[0m                     \u001b[1;32mbreak\u001b[0m\u001b[1;33m\u001b[0m\u001b[1;33m\u001b[0m\u001b[0m\n",
      "\u001b[1;32mc:\\users\\cc\\anaconda3\\envs\\venv\\lib\\site-packages\\keras\\callbacks.py\u001b[0m in \u001b[0;36mon_batch_end\u001b[1;34m(self, batch, logs)\u001b[0m\n\u001b[0;32m    113\u001b[0m         \u001b[0mt_before_callbacks\u001b[0m \u001b[1;33m=\u001b[0m \u001b[0mtime\u001b[0m\u001b[1;33m.\u001b[0m\u001b[0mtime\u001b[0m\u001b[1;33m(\u001b[0m\u001b[1;33m)\u001b[0m\u001b[1;33m\u001b[0m\u001b[1;33m\u001b[0m\u001b[0m\n\u001b[0;32m    114\u001b[0m         \u001b[1;32mfor\u001b[0m \u001b[0mcallback\u001b[0m \u001b[1;32min\u001b[0m \u001b[0mself\u001b[0m\u001b[1;33m.\u001b[0m\u001b[0mcallbacks\u001b[0m\u001b[1;33m:\u001b[0m\u001b[1;33m\u001b[0m\u001b[1;33m\u001b[0m\u001b[0m\n\u001b[1;32m--> 115\u001b[1;33m             \u001b[0mcallback\u001b[0m\u001b[1;33m.\u001b[0m\u001b[0mon_batch_end\u001b[0m\u001b[1;33m(\u001b[0m\u001b[0mbatch\u001b[0m\u001b[1;33m,\u001b[0m \u001b[0mlogs\u001b[0m\u001b[1;33m)\u001b[0m\u001b[1;33m\u001b[0m\u001b[1;33m\u001b[0m\u001b[0m\n\u001b[0m\u001b[0;32m    116\u001b[0m         \u001b[0mself\u001b[0m\u001b[1;33m.\u001b[0m\u001b[0m_delta_ts_batch_end\u001b[0m\u001b[1;33m.\u001b[0m\u001b[0mappend\u001b[0m\u001b[1;33m(\u001b[0m\u001b[0mtime\u001b[0m\u001b[1;33m.\u001b[0m\u001b[0mtime\u001b[0m\u001b[1;33m(\u001b[0m\u001b[1;33m)\u001b[0m \u001b[1;33m-\u001b[0m \u001b[0mt_before_callbacks\u001b[0m\u001b[1;33m)\u001b[0m\u001b[1;33m\u001b[0m\u001b[1;33m\u001b[0m\u001b[0m\n\u001b[0;32m    117\u001b[0m         \u001b[0mdelta_t_median\u001b[0m \u001b[1;33m=\u001b[0m \u001b[0mnp\u001b[0m\u001b[1;33m.\u001b[0m\u001b[0mmedian\u001b[0m\u001b[1;33m(\u001b[0m\u001b[0mself\u001b[0m\u001b[1;33m.\u001b[0m\u001b[0m_delta_ts_batch_end\u001b[0m\u001b[1;33m)\u001b[0m\u001b[1;33m\u001b[0m\u001b[1;33m\u001b[0m\u001b[0m\n",
      "\u001b[1;32mc:\\users\\cc\\anaconda3\\envs\\venv\\lib\\site-packages\\keras\\callbacks.py\u001b[0m in \u001b[0;36mon_batch_end\u001b[1;34m(self, batch, logs)\u001b[0m\n\u001b[0;32m    328\u001b[0m         \u001b[1;31m# will be handled by on_epoch_end.\u001b[0m\u001b[1;33m\u001b[0m\u001b[1;33m\u001b[0m\u001b[1;33m\u001b[0m\u001b[0m\n\u001b[0;32m    329\u001b[0m         \u001b[1;32mif\u001b[0m \u001b[0mself\u001b[0m\u001b[1;33m.\u001b[0m\u001b[0mverbose\u001b[0m \u001b[1;32mand\u001b[0m \u001b[0mself\u001b[0m\u001b[1;33m.\u001b[0m\u001b[0mseen\u001b[0m \u001b[1;33m<\u001b[0m \u001b[0mself\u001b[0m\u001b[1;33m.\u001b[0m\u001b[0mtarget\u001b[0m\u001b[1;33m:\u001b[0m\u001b[1;33m\u001b[0m\u001b[1;33m\u001b[0m\u001b[0m\n\u001b[1;32m--> 330\u001b[1;33m             \u001b[0mself\u001b[0m\u001b[1;33m.\u001b[0m\u001b[0mprogbar\u001b[0m\u001b[1;33m.\u001b[0m\u001b[0mupdate\u001b[0m\u001b[1;33m(\u001b[0m\u001b[0mself\u001b[0m\u001b[1;33m.\u001b[0m\u001b[0mseen\u001b[0m\u001b[1;33m,\u001b[0m \u001b[0mself\u001b[0m\u001b[1;33m.\u001b[0m\u001b[0mlog_values\u001b[0m\u001b[1;33m)\u001b[0m\u001b[1;33m\u001b[0m\u001b[1;33m\u001b[0m\u001b[0m\n\u001b[0m\u001b[0;32m    331\u001b[0m \u001b[1;33m\u001b[0m\u001b[0m\n\u001b[0;32m    332\u001b[0m     \u001b[1;32mdef\u001b[0m \u001b[0mon_epoch_end\u001b[0m\u001b[1;33m(\u001b[0m\u001b[0mself\u001b[0m\u001b[1;33m,\u001b[0m \u001b[0mepoch\u001b[0m\u001b[1;33m,\u001b[0m \u001b[0mlogs\u001b[0m\u001b[1;33m=\u001b[0m\u001b[1;32mNone\u001b[0m\u001b[1;33m)\u001b[0m\u001b[1;33m:\u001b[0m\u001b[1;33m\u001b[0m\u001b[1;33m\u001b[0m\u001b[0m\n",
      "\u001b[1;32mc:\\users\\cc\\anaconda3\\envs\\venv\\lib\\site-packages\\keras\\utils\\generic_utils.py\u001b[0m in \u001b[0;36mupdate\u001b[1;34m(self, current, values)\u001b[0m\n\u001b[0;32m    422\u001b[0m \u001b[1;33m\u001b[0m\u001b[0m\n\u001b[0;32m    423\u001b[0m             \u001b[0msys\u001b[0m\u001b[1;33m.\u001b[0m\u001b[0mstdout\u001b[0m\u001b[1;33m.\u001b[0m\u001b[0mwrite\u001b[0m\u001b[1;33m(\u001b[0m\u001b[0minfo\u001b[0m\u001b[1;33m)\u001b[0m\u001b[1;33m\u001b[0m\u001b[1;33m\u001b[0m\u001b[0m\n\u001b[1;32m--> 424\u001b[1;33m             \u001b[0msys\u001b[0m\u001b[1;33m.\u001b[0m\u001b[0mstdout\u001b[0m\u001b[1;33m.\u001b[0m\u001b[0mflush\u001b[0m\u001b[1;33m(\u001b[0m\u001b[1;33m)\u001b[0m\u001b[1;33m\u001b[0m\u001b[1;33m\u001b[0m\u001b[0m\n\u001b[0m\u001b[0;32m    425\u001b[0m \u001b[1;33m\u001b[0m\u001b[0m\n\u001b[0;32m    426\u001b[0m         \u001b[1;32melif\u001b[0m \u001b[0mself\u001b[0m\u001b[1;33m.\u001b[0m\u001b[0mverbose\u001b[0m \u001b[1;33m==\u001b[0m \u001b[1;36m2\u001b[0m\u001b[1;33m:\u001b[0m\u001b[1;33m\u001b[0m\u001b[1;33m\u001b[0m\u001b[0m\n",
      "\u001b[1;32mc:\\users\\cc\\anaconda3\\envs\\venv\\lib\\site-packages\\ipykernel\\iostream.py\u001b[0m in \u001b[0;36mflush\u001b[1;34m(self)\u001b[0m\n\u001b[0;32m    347\u001b[0m                 \u001b[0mself\u001b[0m\u001b[1;33m.\u001b[0m\u001b[0mpub_thread\u001b[0m\u001b[1;33m.\u001b[0m\u001b[0mschedule\u001b[0m\u001b[1;33m(\u001b[0m\u001b[0mevt\u001b[0m\u001b[1;33m.\u001b[0m\u001b[0mset\u001b[0m\u001b[1;33m)\u001b[0m\u001b[1;33m\u001b[0m\u001b[1;33m\u001b[0m\u001b[0m\n\u001b[0;32m    348\u001b[0m                 \u001b[1;31m# and give a timeout to avoid\u001b[0m\u001b[1;33m\u001b[0m\u001b[1;33m\u001b[0m\u001b[1;33m\u001b[0m\u001b[0m\n\u001b[1;32m--> 349\u001b[1;33m                 \u001b[1;32mif\u001b[0m \u001b[1;32mnot\u001b[0m \u001b[0mevt\u001b[0m\u001b[1;33m.\u001b[0m\u001b[0mwait\u001b[0m\u001b[1;33m(\u001b[0m\u001b[0mself\u001b[0m\u001b[1;33m.\u001b[0m\u001b[0mflush_timeout\u001b[0m\u001b[1;33m)\u001b[0m\u001b[1;33m:\u001b[0m\u001b[1;33m\u001b[0m\u001b[1;33m\u001b[0m\u001b[0m\n\u001b[0m\u001b[0;32m    350\u001b[0m                     \u001b[1;31m# write directly to __stderr__ instead of warning because\u001b[0m\u001b[1;33m\u001b[0m\u001b[1;33m\u001b[0m\u001b[1;33m\u001b[0m\u001b[0m\n\u001b[0;32m    351\u001b[0m                     \u001b[1;31m# if this is happening sys.stderr may be the problem.\u001b[0m\u001b[1;33m\u001b[0m\u001b[1;33m\u001b[0m\u001b[1;33m\u001b[0m\u001b[0m\n",
      "\u001b[1;32mc:\\users\\cc\\anaconda3\\envs\\venv\\lib\\threading.py\u001b[0m in \u001b[0;36mwait\u001b[1;34m(self, timeout)\u001b[0m\n\u001b[0;32m    549\u001b[0m             \u001b[0msignaled\u001b[0m \u001b[1;33m=\u001b[0m \u001b[0mself\u001b[0m\u001b[1;33m.\u001b[0m\u001b[0m_flag\u001b[0m\u001b[1;33m\u001b[0m\u001b[1;33m\u001b[0m\u001b[0m\n\u001b[0;32m    550\u001b[0m             \u001b[1;32mif\u001b[0m \u001b[1;32mnot\u001b[0m \u001b[0msignaled\u001b[0m\u001b[1;33m:\u001b[0m\u001b[1;33m\u001b[0m\u001b[1;33m\u001b[0m\u001b[0m\n\u001b[1;32m--> 551\u001b[1;33m                 \u001b[0msignaled\u001b[0m \u001b[1;33m=\u001b[0m \u001b[0mself\u001b[0m\u001b[1;33m.\u001b[0m\u001b[0m_cond\u001b[0m\u001b[1;33m.\u001b[0m\u001b[0mwait\u001b[0m\u001b[1;33m(\u001b[0m\u001b[0mtimeout\u001b[0m\u001b[1;33m)\u001b[0m\u001b[1;33m\u001b[0m\u001b[1;33m\u001b[0m\u001b[0m\n\u001b[0m\u001b[0;32m    552\u001b[0m             \u001b[1;32mreturn\u001b[0m \u001b[0msignaled\u001b[0m\u001b[1;33m\u001b[0m\u001b[1;33m\u001b[0m\u001b[0m\n\u001b[0;32m    553\u001b[0m \u001b[1;33m\u001b[0m\u001b[0m\n",
      "\u001b[1;32mc:\\users\\cc\\anaconda3\\envs\\venv\\lib\\threading.py\u001b[0m in \u001b[0;36mwait\u001b[1;34m(self, timeout)\u001b[0m\n\u001b[0;32m    297\u001b[0m             \u001b[1;32melse\u001b[0m\u001b[1;33m:\u001b[0m\u001b[1;33m\u001b[0m\u001b[1;33m\u001b[0m\u001b[0m\n\u001b[0;32m    298\u001b[0m                 \u001b[1;32mif\u001b[0m \u001b[0mtimeout\u001b[0m \u001b[1;33m>\u001b[0m \u001b[1;36m0\u001b[0m\u001b[1;33m:\u001b[0m\u001b[1;33m\u001b[0m\u001b[1;33m\u001b[0m\u001b[0m\n\u001b[1;32m--> 299\u001b[1;33m                     \u001b[0mgotit\u001b[0m \u001b[1;33m=\u001b[0m \u001b[0mwaiter\u001b[0m\u001b[1;33m.\u001b[0m\u001b[0macquire\u001b[0m\u001b[1;33m(\u001b[0m\u001b[1;32mTrue\u001b[0m\u001b[1;33m,\u001b[0m \u001b[0mtimeout\u001b[0m\u001b[1;33m)\u001b[0m\u001b[1;33m\u001b[0m\u001b[1;33m\u001b[0m\u001b[0m\n\u001b[0m\u001b[0;32m    300\u001b[0m                 \u001b[1;32melse\u001b[0m\u001b[1;33m:\u001b[0m\u001b[1;33m\u001b[0m\u001b[1;33m\u001b[0m\u001b[0m\n\u001b[0;32m    301\u001b[0m                     \u001b[0mgotit\u001b[0m \u001b[1;33m=\u001b[0m \u001b[0mwaiter\u001b[0m\u001b[1;33m.\u001b[0m\u001b[0macquire\u001b[0m\u001b[1;33m(\u001b[0m\u001b[1;32mFalse\u001b[0m\u001b[1;33m)\u001b[0m\u001b[1;33m\u001b[0m\u001b[1;33m\u001b[0m\u001b[0m\n",
      "\u001b[1;31mKeyboardInterrupt\u001b[0m: "
     ]
    }
   ],
   "source": [
    "epochs = 200\n",
    "batch_size = 5\n",
    "\n",
    "model.fit(X_train, y_train,\n",
    "          batch_size=batch_size,\n",
    "          epochs=epochs,\n",
    "          verbose=1,\n",
    "          validation_data=(X_test, y_test))\n",
    "\n",
    "score = model.evaluate(X_test, y_test, verbose=0)\n",
    "print('Test loss:', score[0])\n",
    "print('Test accuracy:', score[1])"
   ]
  },
  {
   "cell_type": "markdown",
   "metadata": {},
   "source": [
    "Πρόβλεψη του μοντέλου `model` για τα `X_test`."
   ]
  },
  {
   "cell_type": "code",
   "execution_count": null,
   "metadata": {},
   "outputs": [],
   "source": [
    "y_pred = model.predict(X_test, batch_size=10)"
   ]
  },
  {
   "cell_type": "code",
   "execution_count": null,
   "metadata": {},
   "outputs": [],
   "source": [
    "y_pred_fixed = []\n",
    "for i in range(y_pred.shape[0]):\n",
    "    y_pred_fixed.append(np.argmax(y_pred[i], axis=None, out=None))\n",
    "\n",
    "y_test_fixed = []\n",
    "for i in range(y_test.shape[0]):\n",
    "    y_test_fixed.append(np.argmax(y_test[i], axis=None, out=None))"
   ]
  },
  {
   "cell_type": "markdown",
   "metadata": {},
   "source": [
    "Καταγραφή των αποτελεσμάτων σε ένα αρχείο `csv`."
   ]
  },
  {
   "cell_type": "code",
   "execution_count": null,
   "metadata": {},
   "outputs": [],
   "source": [
    "with open('y_pred_NN.csv', 'w', newline='') as csvfile:\n",
    "    writer = csv.writer(csvfile, delimiter=',')\n",
    "    writer.writerow(['Id', 'Label'])\n",
    "    for i in range(len(y_pred_fixed)):\n",
    "        writer.writerow([i, y_pred_fixed[i]])"
   ]
  },
  {
   "cell_type": "markdown",
   "metadata": {},
   "source": [
    "Χρησιμοποιούμε την `f1_score` για να υπολογίσουμε την ακρίβεια του μοντέλου."
   ]
  },
  {
   "cell_type": "code",
   "execution_count": null,
   "metadata": {
    "scrolled": true
   },
   "outputs": [],
   "source": [
    "y_pred_from_csv = np.loadtxt('y_pred_NN.csv', delimiter=\",\", skiprows=1, usecols=[1])\n",
    "print('RAM:\\t', f1_score(y_test_fixed, y_pred_fixed, average='micro'))\n",
    "print('File:\\t', f1_score(y_test_fixed, y_pred_from_csv, average='micro'))"
   ]
  }
 ],
 "metadata": {
  "kernelspec": {
   "display_name": "Python 3",
   "language": "python",
   "name": "python3"
  },
  "language_info": {
   "codemirror_mode": {
    "name": "ipython",
    "version": 3
   },
   "file_extension": ".py",
   "mimetype": "text/x-python",
   "name": "python",
   "nbconvert_exporter": "python",
   "pygments_lexer": "ipython3",
   "version": "3.6.7"
  }
 },
 "nbformat": 4,
 "nbformat_minor": 2
}
